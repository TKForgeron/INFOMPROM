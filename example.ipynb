{
 "cells": [
  {
   "cell_type": "markdown",
   "metadata": {},
   "source": [
    "First, we need to import all necessary components."
   ]
  },
  {
   "cell_type": "code",
   "execution_count": 2,
   "metadata": {},
   "outputs": [],
   "source": [
    "# External imports\n",
    "import pickle\n",
    "import pandas as pd\n",
    "from sklearn.linear_model import (\n",
    "    LinearRegression,  # linear, no outliers in data, no correlation between features\n",
    "    TheilSenRegressor,  # linear, no outliers in data, correlation between features\n",
    "    Lars,  # linear, outliers in data, speed important, more features than samples, MAE: 325\n",
    "    ARDRegression,  # linear, outliers in data, speed important, few important features,\n",
    "    SGDRegressor,  # linear, outliers in data, speed important, large dataset\n",
    "    BayesianRidge,  # linear, outliers in data, speed important, not especially large dataset\n",
    ")\n",
    "from sklearn.neighbors import (\n",
    "    KNeighborsRegressor,  # MAE: 46\n",
    "    RadiusNeighborsRegressor,\n",
    ")  # nonlinear, many features, few important features, sample/feature ratio: high sample\n",
    "from sklearn.svm import (\n",
    "    SVR,  # nonlinear, many features, few important features, sample/feature ratio: high feature (TAKES VEEERY LONG)\n",
    ")\n",
    "from sklearn.ensemble import (\n",
    "    HistGradientBoostingRegressor,  # nonlinear, <10 features, no noise/outliers, >10000 samples, robust against missing values\n",
    ")\n",
    "\n",
    "# Internal imports\n",
    "from src.ats import *\n",
    "from src.print_ats import *\n",
    "from src.input_data import InputData\n",
    "from src.custom_models import Mean, Minimum, Maximum, SampleMean, Median, Mode\n",
    "from src.metrics import get_mae_rmse\n",
    "from src.helper import print_progress_bar\n",
    "from src.globals import (\n",
    "    PREPROCESSING_IN_FILE,\n",
    "    INPUTDATA_OBJECT,\n",
    "    ATS_OUT_FILE,\n",
    "    BASE_ATS_OUT_FILE,\n",
    "    RANDOM_SEED,\n",
    "    TARGET_COLUMN,\n",
    "    DATE_COLS,\n",
    ")"
   ]
  },
  {
   "cell_type": "markdown",
   "metadata": {},
   "source": [
    "Before we can make our model, we need to apply pre-pocessing first. This can be done via the inputData class that is dedicated for the given data. Many of the well-known pre-processing functionality is implemented."
   ]
  },
  {
   "cell_type": "code",
   "execution_count": 2,
   "metadata": {},
   "outputs": [
    {
     "name": "stdout",
     "output_type": "stream",
     "text": [
      "\n",
      "START PREPROCESSING\n",
      "Filtering out incomplete processes.. [1632/303819 rows deleted]\n",
      "Converting dates.. \n",
      "Adding remaining time attribute..\n",
      "Encoding columns ['Asset Type Affected', 'Status', 'Closure Code'] using ohe encoding..\n",
      "Encoding columns ['Category', 'Priority'] using label encoding..\n",
      "Encoding columns ['Service Affected', 'Asset Affected', 'Asset SubType Affected', 'Service Caused', 'Assignment Group', 'Asset Caused', 'Asset Type Caused', 'Asset SubType Caused'] using none encoding..\n",
      "Dropping missing values..  [4/45 columns deleted]\n",
      "\t Deleted: ['Resolved Time', 'Handle Time (Hours)', 'Number of Reassignments', 'Reopen Time']\n",
      "Saving df..\n",
      "(242006, 40)\n",
      "(60181, 40)\n",
      "Adding previous events attribute..\n"
     ]
    }
   ],
   "source": [
    "input = InputData(PREPROCESSING_IN_FILE)\n",
    "input.apply_standard_preprocessing(\n",
    "    agg_col=\"rem_time\",  # calculated y column\n",
    "    filter_incompletes=True,\n",
    "    date_cols=\"auto\"\n",
    "    # date_cols=DATE_COLS,  # when list passed: those cols will be transformed, when empty: nothing will be transformed, when 'auto' passed: will automatically detect date cols and transform them\n",
    ")\n",
    "\n",
    "# columns that have <20 unique values are one-hot encoded\n",
    "input.use_cat_encoding_on(\n",
    "    \"ohe\", [\"Asset Type Affected\", \"Status\", \"Closure Code\"]\n",
    ")\n",
    "\n",
    "# columns that have have ordinal values are label encoded\n",
    "input.use_cat_encoding_on(\"label\", [\"Category\", \"Priority\"])\n",
    "\n",
    "# columns with too many categories are deleted\n",
    "input.use_cat_encoding_on(\n",
    "    \"none\",\n",
    "    [\n",
    "        \"Service Affected\",\n",
    "        \"Asset Affected\",\n",
    "        \"Asset SubType Affected\",\n",
    "        \"Service Caused\",\n",
    "        \"Assignment Group\",\n",
    "        \"Asset Caused\",\n",
    "        \"Asset Type Caused\",\n",
    "        \"Asset SubType Caused\",\n",
    "    ],\n",
    ")\n",
    "\n",
    "# drop missing values, as most models don't accept this\n",
    "# we drop per column, as then only 4 will be lost\n",
    "input.dropna(axis=1)\n",
    "\n",
    "input.save_df(\n",
    "    n_rows=20\n",
    ")  # save function with new \"n_rows\" feature that ensures opening in vscode\n",
    "\n",
    "input.save(INPUTDATA_OBJECT)\n",
    "\n",
    "# split function that keeps traces together\n",
    "X_train, X_test, y_train, y_test = input.train_test_split_on_trace(\n",
    "y_col=TARGET_COLUMN, ratio=0.8, seed=RANDOM_SEED\n",
    ")\n",
    "print(X_train.shape)\n",
    "print(X_test.shape)\n",
    "\n",
    "X_test = input.add_prev_events(X_test)\n"
   ]
  },
  {
   "cell_type": "markdown",
   "metadata": {},
   "source": [
    "Let's build our transition system"
   ]
  },
  {
   "cell_type": "code",
   "execution_count": 4,
   "metadata": {},
   "outputs": [
    {
     "name": "stdout",
     "output_type": "stream",
     "text": [
      "START CREATING ATS\n",
      "Fit: |XXXXXXXXXXXXXXXXXXXXXXXXXXXXXXXXXXXXXXXXXXXXXXXXXX| 100.0% Complete\n",
      "\n",
      "\n"
     ]
    },
    {
     "ename": "FileNotFoundError",
     "evalue": "[Errno 2] No such file or directory: 'data/results/base_ats.pkl'",
     "output_type": "error",
     "traceback": [
      "\u001b[1;31m---------------------------------------------------------------------------\u001b[0m",
      "\u001b[1;31mFileNotFoundError\u001b[0m                         Traceback (most recent call last)",
      "\u001b[1;32mc:\\Users\\Tim\\Development\\INFOMPROM\\example.ipynb Cell 6'\u001b[0m in \u001b[0;36m<cell line: 12>\u001b[1;34m()\u001b[0m\n\u001b[0;32m      <a href='vscode-notebook-cell:/c%3A/Users/Tim/Development/INFOMPROM/example.ipynb#ch0000005?line=0'>1</a>\u001b[0m ats \u001b[39m=\u001b[39m ATS(\n\u001b[0;32m      <a href='vscode-notebook-cell:/c%3A/Users/Tim/Development/INFOMPROM/example.ipynb#ch0000005?line=1'>2</a>\u001b[0m     trace_id_col\u001b[39m=\u001b[39m\u001b[39m\"\u001b[39m\u001b[39mIncident ID\u001b[39m\u001b[39m\"\u001b[39m,\n\u001b[0;32m      <a href='vscode-notebook-cell:/c%3A/Users/Tim/Development/INFOMPROM/example.ipynb#ch0000005?line=2'>3</a>\u001b[0m     act_col\u001b[39m=\u001b[39m\u001b[39m\"\u001b[39m\u001b[39mActivity\u001b[39m\u001b[39m\"\u001b[39m,\n\u001b[1;32m   (...)\u001b[0m\n\u001b[0;32m      <a href='vscode-notebook-cell:/c%3A/Users/Tim/Development/INFOMPROM/example.ipynb#ch0000005?line=7'>8</a>\u001b[0m     seed\u001b[39m=\u001b[39mRANDOM_SEED,\n\u001b[0;32m      <a href='vscode-notebook-cell:/c%3A/Users/Tim/Development/INFOMPROM/example.ipynb#ch0000005?line=8'>9</a>\u001b[0m )\n\u001b[0;32m     <a href='vscode-notebook-cell:/c%3A/Users/Tim/Development/INFOMPROM/example.ipynb#ch0000005?line=10'>11</a>\u001b[0m ats\u001b[39m.\u001b[39mfit(X_train, y_train)\n\u001b[1;32m---> <a href='vscode-notebook-cell:/c%3A/Users/Tim/Development/INFOMPROM/example.ipynb#ch0000005?line=11'>12</a>\u001b[0m ats\u001b[39m.\u001b[39;49msave(\u001b[39m\"\u001b[39;49m\u001b[39mresults/\u001b[39;49m\u001b[39m\"\u001b[39;49m \u001b[39m+\u001b[39;49m BASE_ATS_OUT_FILE)\n",
      "File \u001b[1;32mc:\\Users\\Tim\\Development\\INFOMPROM\\src\\ats.py:357\u001b[0m, in \u001b[0;36mATS.save\u001b[1;34m(self, name)\u001b[0m\n\u001b[0;32m    355\u001b[0m \u001b[39mdef\u001b[39;00m \u001b[39msave\u001b[39m(\u001b[39mself\u001b[39m, name: \u001b[39mstr\u001b[39m \u001b[39m=\u001b[39m \u001b[39m\"\u001b[39m\u001b[39mats\u001b[39m\u001b[39m\"\u001b[39m):\n\u001b[1;32m--> 357\u001b[0m     filehandler \u001b[39m=\u001b[39m \u001b[39mopen\u001b[39;49m(\u001b[39mf\u001b[39;49m\u001b[39m\"\u001b[39;49m\u001b[39mdata/\u001b[39;49m\u001b[39m{\u001b[39;49;00mname\u001b[39m}\u001b[39;49;00m\u001b[39m.pkl\u001b[39;49m\u001b[39m\"\u001b[39;49m, \u001b[39m\"\u001b[39;49m\u001b[39mwb\u001b[39;49m\u001b[39m\"\u001b[39;49m)\n\u001b[0;32m    358\u001b[0m     pickle\u001b[39m.\u001b[39mdump(\u001b[39mself\u001b[39m, filehandler)\n",
      "\u001b[1;31mFileNotFoundError\u001b[0m: [Errno 2] No such file or directory: 'data/results/base_ats.pkl'"
     ]
    }
   ],
   "source": [
    "ats = ATS(\n",
    "    trace_id_col=\"Incident ID\",\n",
    "    act_col=\"Activity\",\n",
    "    y_col=\"RemainingTime\",\n",
    "    representation=\"multiset\",\n",
    "    horizon=1,\n",
    "    # model=SVR(),\n",
    "    seed=RANDOM_SEED,\n",
    ")\n",
    "\n",
    "ats.fit(X_train, y_train)\n",
    "ats.save(\"results/\" + BASE_ATS_OUT_FILE)"
   ]
  },
  {
   "cell_type": "markdown",
   "metadata": {},
   "source": [
    "Let's create several ATSs by finalizing them with simple models."
   ]
  },
  {
   "cell_type": "code",
   "execution_count": 4,
   "metadata": {},
   "outputs": [
    {
     "ename": "KeyboardInterrupt",
     "evalue": "",
     "output_type": "error",
     "traceback": [
      "\u001b[1;31m---------------------------------------------------------------------------\u001b[0m",
      "\u001b[1;31mKeyboardInterrupt\u001b[0m                         Traceback (most recent call last)",
      "\u001b[1;32mc:\\Users\\Tim\\Development\\INFOMPROM\\example.ipynb Cell 6'\u001b[0m in \u001b[0;36m<cell line: 16>\u001b[1;34m()\u001b[0m\n\u001b[0;32m     <a href='vscode-notebook-cell:/c%3A/Users/Tim/Development/INFOMPROM/example.ipynb#ch0000005?line=12'>13</a>\u001b[0m     \u001b[39mreturn\u001b[39;00m ats_list\n\u001b[0;32m     <a href='vscode-notebook-cell:/c%3A/Users/Tim/Development/INFOMPROM/example.ipynb#ch0000005?line=14'>15</a>\u001b[0m model_list \u001b[39m=\u001b[39m [Mean(), Median(), Mode(), HistGradientBoostingRegressor(), LinearRegression(), KNeighborsRegressor()]\n\u001b[1;32m---> <a href='vscode-notebook-cell:/c%3A/Users/Tim/Development/INFOMPROM/example.ipynb#ch0000005?line=15'>16</a>\u001b[0m ats_list \u001b[39m=\u001b[39m generate_multiple_ats_models(ats,model_list)\n",
      "\u001b[1;32mc:\\Users\\Tim\\Development\\INFOMPROM\\example.ipynb Cell 6'\u001b[0m in \u001b[0;36mgenerate_multiple_ats_models\u001b[1;34m(ats, models)\u001b[0m\n\u001b[0;32m      <a href='vscode-notebook-cell:/c%3A/Users/Tim/Development/INFOMPROM/example.ipynb#ch0000005?line=5'>6</a>\u001b[0m ats_list \u001b[39m=\u001b[39m []\n\u001b[0;32m      <a href='vscode-notebook-cell:/c%3A/Users/Tim/Development/INFOMPROM/example.ipynb#ch0000005?line=6'>7</a>\u001b[0m \u001b[39mfor\u001b[39;00m model \u001b[39min\u001b[39;00m models:\n\u001b[1;32m----> <a href='vscode-notebook-cell:/c%3A/Users/Tim/Development/INFOMPROM/example.ipynb#ch0000005?line=7'>8</a>\u001b[0m     ts \u001b[39m=\u001b[39m deepcopy(ats)\n\u001b[0;32m      <a href='vscode-notebook-cell:/c%3A/Users/Tim/Development/INFOMPROM/example.ipynb#ch0000005?line=8'>9</a>\u001b[0m     ats_list\u001b[39m.\u001b[39mappend(ts)\n\u001b[0;32m     <a href='vscode-notebook-cell:/c%3A/Users/Tim/Development/INFOMPROM/example.ipynb#ch0000005?line=9'>10</a>\u001b[0m \u001b[39mfor\u001b[39;00m i, ats_item \u001b[39min\u001b[39;00m \u001b[39menumerate\u001b[39m(ats_list):\n",
      "File \u001b[1;32m~\\AppData\\Local\\Programs\\Python\\Python310\\lib\\copy.py:172\u001b[0m, in \u001b[0;36mdeepcopy\u001b[1;34m(x, memo, _nil)\u001b[0m\n\u001b[0;32m    170\u001b[0m                 y \u001b[39m=\u001b[39m x\n\u001b[0;32m    171\u001b[0m             \u001b[39melse\u001b[39;00m:\n\u001b[1;32m--> 172\u001b[0m                 y \u001b[39m=\u001b[39m _reconstruct(x, memo, \u001b[39m*\u001b[39;49mrv)\n\u001b[0;32m    174\u001b[0m \u001b[39m# If is its own copy, don't memoize.\u001b[39;00m\n\u001b[0;32m    175\u001b[0m \u001b[39mif\u001b[39;00m y \u001b[39mis\u001b[39;00m \u001b[39mnot\u001b[39;00m x:\n",
      "File \u001b[1;32m~\\AppData\\Local\\Programs\\Python\\Python310\\lib\\copy.py:271\u001b[0m, in \u001b[0;36m_reconstruct\u001b[1;34m(x, memo, func, args, state, listiter, dictiter, deepcopy)\u001b[0m\n\u001b[0;32m    269\u001b[0m \u001b[39mif\u001b[39;00m state \u001b[39mis\u001b[39;00m \u001b[39mnot\u001b[39;00m \u001b[39mNone\u001b[39;00m:\n\u001b[0;32m    270\u001b[0m     \u001b[39mif\u001b[39;00m deep:\n\u001b[1;32m--> 271\u001b[0m         state \u001b[39m=\u001b[39m deepcopy(state, memo)\n\u001b[0;32m    272\u001b[0m     \u001b[39mif\u001b[39;00m \u001b[39mhasattr\u001b[39m(y, \u001b[39m'\u001b[39m\u001b[39m__setstate__\u001b[39m\u001b[39m'\u001b[39m):\n\u001b[0;32m    273\u001b[0m         y\u001b[39m.\u001b[39m__setstate__(state)\n",
      "File \u001b[1;32m~\\AppData\\Local\\Programs\\Python\\Python310\\lib\\copy.py:146\u001b[0m, in \u001b[0;36mdeepcopy\u001b[1;34m(x, memo, _nil)\u001b[0m\n\u001b[0;32m    144\u001b[0m copier \u001b[39m=\u001b[39m _deepcopy_dispatch\u001b[39m.\u001b[39mget(\u001b[39mcls\u001b[39m)\n\u001b[0;32m    145\u001b[0m \u001b[39mif\u001b[39;00m copier \u001b[39mis\u001b[39;00m \u001b[39mnot\u001b[39;00m \u001b[39mNone\u001b[39;00m:\n\u001b[1;32m--> 146\u001b[0m     y \u001b[39m=\u001b[39m copier(x, memo)\n\u001b[0;32m    147\u001b[0m \u001b[39melse\u001b[39;00m:\n\u001b[0;32m    148\u001b[0m     \u001b[39mif\u001b[39;00m \u001b[39missubclass\u001b[39m(\u001b[39mcls\u001b[39m, \u001b[39mtype\u001b[39m):\n",
      "File \u001b[1;32m~\\AppData\\Local\\Programs\\Python\\Python310\\lib\\copy.py:231\u001b[0m, in \u001b[0;36m_deepcopy_dict\u001b[1;34m(x, memo, deepcopy)\u001b[0m\n\u001b[0;32m    229\u001b[0m memo[\u001b[39mid\u001b[39m(x)] \u001b[39m=\u001b[39m y\n\u001b[0;32m    230\u001b[0m \u001b[39mfor\u001b[39;00m key, value \u001b[39min\u001b[39;00m x\u001b[39m.\u001b[39mitems():\n\u001b[1;32m--> 231\u001b[0m     y[deepcopy(key, memo)] \u001b[39m=\u001b[39m deepcopy(value, memo)\n\u001b[0;32m    232\u001b[0m \u001b[39mreturn\u001b[39;00m y\n",
      "File \u001b[1;32m~\\AppData\\Local\\Programs\\Python\\Python310\\lib\\copy.py:146\u001b[0m, in \u001b[0;36mdeepcopy\u001b[1;34m(x, memo, _nil)\u001b[0m\n\u001b[0;32m    144\u001b[0m copier \u001b[39m=\u001b[39m _deepcopy_dispatch\u001b[39m.\u001b[39mget(\u001b[39mcls\u001b[39m)\n\u001b[0;32m    145\u001b[0m \u001b[39mif\u001b[39;00m copier \u001b[39mis\u001b[39;00m \u001b[39mnot\u001b[39;00m \u001b[39mNone\u001b[39;00m:\n\u001b[1;32m--> 146\u001b[0m     y \u001b[39m=\u001b[39m copier(x, memo)\n\u001b[0;32m    147\u001b[0m \u001b[39melse\u001b[39;00m:\n\u001b[0;32m    148\u001b[0m     \u001b[39mif\u001b[39;00m \u001b[39missubclass\u001b[39m(\u001b[39mcls\u001b[39m, \u001b[39mtype\u001b[39m):\n",
      "File \u001b[1;32m~\\AppData\\Local\\Programs\\Python\\Python310\\lib\\copy.py:206\u001b[0m, in \u001b[0;36m_deepcopy_list\u001b[1;34m(x, memo, deepcopy)\u001b[0m\n\u001b[0;32m    204\u001b[0m append \u001b[39m=\u001b[39m y\u001b[39m.\u001b[39mappend\n\u001b[0;32m    205\u001b[0m \u001b[39mfor\u001b[39;00m a \u001b[39min\u001b[39;00m x:\n\u001b[1;32m--> 206\u001b[0m     append(deepcopy(a, memo))\n\u001b[0;32m    207\u001b[0m \u001b[39mreturn\u001b[39;00m y\n",
      "File \u001b[1;32m~\\AppData\\Local\\Programs\\Python\\Python310\\lib\\copy.py:172\u001b[0m, in \u001b[0;36mdeepcopy\u001b[1;34m(x, memo, _nil)\u001b[0m\n\u001b[0;32m    170\u001b[0m                 y \u001b[39m=\u001b[39m x\n\u001b[0;32m    171\u001b[0m             \u001b[39melse\u001b[39;00m:\n\u001b[1;32m--> 172\u001b[0m                 y \u001b[39m=\u001b[39m _reconstruct(x, memo, \u001b[39m*\u001b[39;49mrv)\n\u001b[0;32m    174\u001b[0m \u001b[39m# If is its own copy, don't memoize.\u001b[39;00m\n\u001b[0;32m    175\u001b[0m \u001b[39mif\u001b[39;00m y \u001b[39mis\u001b[39;00m \u001b[39mnot\u001b[39;00m x:\n",
      "File \u001b[1;32m~\\AppData\\Local\\Programs\\Python\\Python310\\lib\\copy.py:271\u001b[0m, in \u001b[0;36m_reconstruct\u001b[1;34m(x, memo, func, args, state, listiter, dictiter, deepcopy)\u001b[0m\n\u001b[0;32m    269\u001b[0m \u001b[39mif\u001b[39;00m state \u001b[39mis\u001b[39;00m \u001b[39mnot\u001b[39;00m \u001b[39mNone\u001b[39;00m:\n\u001b[0;32m    270\u001b[0m     \u001b[39mif\u001b[39;00m deep:\n\u001b[1;32m--> 271\u001b[0m         state \u001b[39m=\u001b[39m deepcopy(state, memo)\n\u001b[0;32m    272\u001b[0m     \u001b[39mif\u001b[39;00m \u001b[39mhasattr\u001b[39m(y, \u001b[39m'\u001b[39m\u001b[39m__setstate__\u001b[39m\u001b[39m'\u001b[39m):\n\u001b[0;32m    273\u001b[0m         y\u001b[39m.\u001b[39m__setstate__(state)\n",
      "File \u001b[1;32m~\\AppData\\Local\\Programs\\Python\\Python310\\lib\\copy.py:146\u001b[0m, in \u001b[0;36mdeepcopy\u001b[1;34m(x, memo, _nil)\u001b[0m\n\u001b[0;32m    144\u001b[0m copier \u001b[39m=\u001b[39m _deepcopy_dispatch\u001b[39m.\u001b[39mget(\u001b[39mcls\u001b[39m)\n\u001b[0;32m    145\u001b[0m \u001b[39mif\u001b[39;00m copier \u001b[39mis\u001b[39;00m \u001b[39mnot\u001b[39;00m \u001b[39mNone\u001b[39;00m:\n\u001b[1;32m--> 146\u001b[0m     y \u001b[39m=\u001b[39m copier(x, memo)\n\u001b[0;32m    147\u001b[0m \u001b[39melse\u001b[39;00m:\n\u001b[0;32m    148\u001b[0m     \u001b[39mif\u001b[39;00m \u001b[39missubclass\u001b[39m(\u001b[39mcls\u001b[39m, \u001b[39mtype\u001b[39m):\n",
      "File \u001b[1;32m~\\AppData\\Local\\Programs\\Python\\Python310\\lib\\copy.py:231\u001b[0m, in \u001b[0;36m_deepcopy_dict\u001b[1;34m(x, memo, deepcopy)\u001b[0m\n\u001b[0;32m    229\u001b[0m memo[\u001b[39mid\u001b[39m(x)] \u001b[39m=\u001b[39m y\n\u001b[0;32m    230\u001b[0m \u001b[39mfor\u001b[39;00m key, value \u001b[39min\u001b[39;00m x\u001b[39m.\u001b[39mitems():\n\u001b[1;32m--> 231\u001b[0m     y[deepcopy(key, memo)] \u001b[39m=\u001b[39m deepcopy(value, memo)\n\u001b[0;32m    232\u001b[0m \u001b[39mreturn\u001b[39;00m y\n",
      "File \u001b[1;32m~\\AppData\\Local\\Programs\\Python\\Python310\\lib\\copy.py:172\u001b[0m, in \u001b[0;36mdeepcopy\u001b[1;34m(x, memo, _nil)\u001b[0m\n\u001b[0;32m    170\u001b[0m                 y \u001b[39m=\u001b[39m x\n\u001b[0;32m    171\u001b[0m             \u001b[39melse\u001b[39;00m:\n\u001b[1;32m--> 172\u001b[0m                 y \u001b[39m=\u001b[39m _reconstruct(x, memo, \u001b[39m*\u001b[39;49mrv)\n\u001b[0;32m    174\u001b[0m \u001b[39m# If is its own copy, don't memoize.\u001b[39;00m\n\u001b[0;32m    175\u001b[0m \u001b[39mif\u001b[39;00m y \u001b[39mis\u001b[39;00m \u001b[39mnot\u001b[39;00m x:\n",
      "File \u001b[1;32m~\\AppData\\Local\\Programs\\Python\\Python310\\lib\\copy.py:271\u001b[0m, in \u001b[0;36m_reconstruct\u001b[1;34m(x, memo, func, args, state, listiter, dictiter, deepcopy)\u001b[0m\n\u001b[0;32m    269\u001b[0m \u001b[39mif\u001b[39;00m state \u001b[39mis\u001b[39;00m \u001b[39mnot\u001b[39;00m \u001b[39mNone\u001b[39;00m:\n\u001b[0;32m    270\u001b[0m     \u001b[39mif\u001b[39;00m deep:\n\u001b[1;32m--> 271\u001b[0m         state \u001b[39m=\u001b[39m deepcopy(state, memo)\n\u001b[0;32m    272\u001b[0m     \u001b[39mif\u001b[39;00m \u001b[39mhasattr\u001b[39m(y, \u001b[39m'\u001b[39m\u001b[39m__setstate__\u001b[39m\u001b[39m'\u001b[39m):\n\u001b[0;32m    273\u001b[0m         y\u001b[39m.\u001b[39m__setstate__(state)\n",
      "File \u001b[1;32m~\\AppData\\Local\\Programs\\Python\\Python310\\lib\\copy.py:146\u001b[0m, in \u001b[0;36mdeepcopy\u001b[1;34m(x, memo, _nil)\u001b[0m\n\u001b[0;32m    144\u001b[0m copier \u001b[39m=\u001b[39m _deepcopy_dispatch\u001b[39m.\u001b[39mget(\u001b[39mcls\u001b[39m)\n\u001b[0;32m    145\u001b[0m \u001b[39mif\u001b[39;00m copier \u001b[39mis\u001b[39;00m \u001b[39mnot\u001b[39;00m \u001b[39mNone\u001b[39;00m:\n\u001b[1;32m--> 146\u001b[0m     y \u001b[39m=\u001b[39m copier(x, memo)\n\u001b[0;32m    147\u001b[0m \u001b[39melse\u001b[39;00m:\n\u001b[0;32m    148\u001b[0m     \u001b[39mif\u001b[39;00m \u001b[39missubclass\u001b[39m(\u001b[39mcls\u001b[39m, \u001b[39mtype\u001b[39m):\n",
      "File \u001b[1;32m~\\AppData\\Local\\Programs\\Python\\Python310\\lib\\copy.py:231\u001b[0m, in \u001b[0;36m_deepcopy_dict\u001b[1;34m(x, memo, deepcopy)\u001b[0m\n\u001b[0;32m    229\u001b[0m memo[\u001b[39mid\u001b[39m(x)] \u001b[39m=\u001b[39m y\n\u001b[0;32m    230\u001b[0m \u001b[39mfor\u001b[39;00m key, value \u001b[39min\u001b[39;00m x\u001b[39m.\u001b[39mitems():\n\u001b[1;32m--> 231\u001b[0m     y[deepcopy(key, memo)] \u001b[39m=\u001b[39m deepcopy(value, memo)\n\u001b[0;32m    232\u001b[0m \u001b[39mreturn\u001b[39;00m y\n",
      "File \u001b[1;32m~\\AppData\\Local\\Programs\\Python\\Python310\\lib\\copy.py:146\u001b[0m, in \u001b[0;36mdeepcopy\u001b[1;34m(x, memo, _nil)\u001b[0m\n\u001b[0;32m    144\u001b[0m copier \u001b[39m=\u001b[39m _deepcopy_dispatch\u001b[39m.\u001b[39mget(\u001b[39mcls\u001b[39m)\n\u001b[0;32m    145\u001b[0m \u001b[39mif\u001b[39;00m copier \u001b[39mis\u001b[39;00m \u001b[39mnot\u001b[39;00m \u001b[39mNone\u001b[39;00m:\n\u001b[1;32m--> 146\u001b[0m     y \u001b[39m=\u001b[39m copier(x, memo)\n\u001b[0;32m    147\u001b[0m \u001b[39melse\u001b[39;00m:\n\u001b[0;32m    148\u001b[0m     \u001b[39mif\u001b[39;00m \u001b[39missubclass\u001b[39m(\u001b[39mcls\u001b[39m, \u001b[39mtype\u001b[39m):\n",
      "File \u001b[1;32m~\\AppData\\Local\\Programs\\Python\\Python310\\lib\\copy.py:206\u001b[0m, in \u001b[0;36m_deepcopy_list\u001b[1;34m(x, memo, deepcopy)\u001b[0m\n\u001b[0;32m    204\u001b[0m append \u001b[39m=\u001b[39m y\u001b[39m.\u001b[39mappend\n\u001b[0;32m    205\u001b[0m \u001b[39mfor\u001b[39;00m a \u001b[39min\u001b[39;00m x:\n\u001b[1;32m--> 206\u001b[0m     append(deepcopy(a, memo))\n\u001b[0;32m    207\u001b[0m \u001b[39mreturn\u001b[39;00m y\n",
      "File \u001b[1;32m~\\AppData\\Local\\Programs\\Python\\Python310\\lib\\copy.py:146\u001b[0m, in \u001b[0;36mdeepcopy\u001b[1;34m(x, memo, _nil)\u001b[0m\n\u001b[0;32m    144\u001b[0m copier \u001b[39m=\u001b[39m _deepcopy_dispatch\u001b[39m.\u001b[39mget(\u001b[39mcls\u001b[39m)\n\u001b[0;32m    145\u001b[0m \u001b[39mif\u001b[39;00m copier \u001b[39mis\u001b[39;00m \u001b[39mnot\u001b[39;00m \u001b[39mNone\u001b[39;00m:\n\u001b[1;32m--> 146\u001b[0m     y \u001b[39m=\u001b[39m copier(x, memo)\n\u001b[0;32m    147\u001b[0m \u001b[39melse\u001b[39;00m:\n\u001b[0;32m    148\u001b[0m     \u001b[39mif\u001b[39;00m \u001b[39missubclass\u001b[39m(\u001b[39mcls\u001b[39m, \u001b[39mtype\u001b[39m):\n",
      "File \u001b[1;32m~\\AppData\\Local\\Programs\\Python\\Python310\\lib\\copy.py:231\u001b[0m, in \u001b[0;36m_deepcopy_dict\u001b[1;34m(x, memo, deepcopy)\u001b[0m\n\u001b[0;32m    229\u001b[0m memo[\u001b[39mid\u001b[39m(x)] \u001b[39m=\u001b[39m y\n\u001b[0;32m    230\u001b[0m \u001b[39mfor\u001b[39;00m key, value \u001b[39min\u001b[39;00m x\u001b[39m.\u001b[39mitems():\n\u001b[1;32m--> 231\u001b[0m     y[deepcopy(key, memo)] \u001b[39m=\u001b[39m deepcopy(value, memo)\n\u001b[0;32m    232\u001b[0m \u001b[39mreturn\u001b[39;00m y\n",
      "\u001b[1;31mKeyboardInterrupt\u001b[0m: "
     ]
    }
   ],
   "source": [
    "with open(f\"data/results/{BASE_ATS_OUT_FILE}.pkl\", \"rb\") as file:\n",
    "    ats = pickle.load(file)\n",
    "\n",
    "def generate_multiple_ats_models(ats:ATS,models:list) -> list[ATS]:\n",
    "    from copy import deepcopy\n",
    "    ats_list = []\n",
    "    for model in models:\n",
    "        ts = deepcopy(ats)\n",
    "        ats_list.append(ts)\n",
    "    for i, ats_item in enumerate(ats_list):\n",
    "        ats_item.finalize(model=models[i])\n",
    "        ats_item.save(f\"results/{ATS_OUT_FILE}_{ats_item.model}\")\n",
    "    return ats_list\n",
    "\n",
    "model_list = [Mean(), Median(), Mode()]\n",
    "ats_list = generate_multiple_ats_models(ats,model_list)"
   ]
  },
  {
   "cell_type": "markdown",
   "metadata": {},
   "source": [
    "Let's create several ATSs by finalizing them with advanced models."
   ]
  },
  {
   "cell_type": "code",
   "execution_count": null,
   "metadata": {},
   "outputs": [],
   "source": [
    "with open(f\"data/results/{BASE_ATS_OUT_FILE}.pkl\", \"rb\") as file:\n",
    "    ats = pickle.load(file)\n",
    "\n",
    "model_list = [HistGradientBoostingRegressor(), LinearRegression(), KNeighborsRegressor()]\n",
    "ats_list = generate_multiple_ats_models(ats,model_list)"
   ]
  },
  {
   "cell_type": "markdown",
   "metadata": {},
   "source": [
    "We can now test the accuracy of our models!"
   ]
  },
  {
   "cell_type": "code",
   "execution_count": 29,
   "metadata": {},
   "outputs": [
    {
     "name": "stdout",
     "output_type": "stream",
     "text": [
      "Prediction: |--------------------------------------------------| 0.0% Complete\r"
     ]
    },
    {
     "ename": "AttributeError",
     "evalue": "'list' object has no attribute 'columns'",
     "output_type": "error",
     "traceback": [
      "\u001b[1;31m---------------------------------------------------------------------------\u001b[0m",
      "\u001b[1;31mAttributeError\u001b[0m                            Traceback (most recent call last)",
      "\u001b[1;32mc:\\Users\\Tim\\Development\\INFOMPROM\\example.ipynb Cell 18'\u001b[0m in \u001b[0;36m<cell line: 12>\u001b[1;34m()\u001b[0m\n\u001b[0;32m     <a href='vscode-notebook-cell:/c%3A/Users/Tim/Development/INFOMPROM/example.ipynb#ch0000007?line=16'>17</a>\u001b[0m y_preds_hgb\u001b[39m.\u001b[39mappend(ats_hgb\u001b[39m.\u001b[39mpredict(event))\n\u001b[0;32m     <a href='vscode-notebook-cell:/c%3A/Users/Tim/Development/INFOMPROM/example.ipynb#ch0000007?line=17'>18</a>\u001b[0m \u001b[39m# y_preds_linreg.append(ats_linreg.predict(event))\u001b[39;00m\n\u001b[1;32m---> <a href='vscode-notebook-cell:/c%3A/Users/Tim/Development/INFOMPROM/example.ipynb#ch0000007?line=18'>19</a>\u001b[0m y_preds_svm\u001b[39m.\u001b[39mappend(ats_svm\u001b[39m.\u001b[39;49mpredict(event))\n\u001b[0;32m     <a href='vscode-notebook-cell:/c%3A/Users/Tim/Development/INFOMPROM/example.ipynb#ch0000007?line=19'>20</a>\u001b[0m print_progress_bar(\n\u001b[0;32m     <a href='vscode-notebook-cell:/c%3A/Users/Tim/Development/INFOMPROM/example.ipynb#ch0000007?line=20'>21</a>\u001b[0m     i\u001b[39m+\u001b[39m\u001b[39m1\u001b[39m, \u001b[39mlen\u001b[39m(y_test), prefix\u001b[39m=\u001b[39m\u001b[39m\"\u001b[39m\u001b[39mPrediction:\u001b[39m\u001b[39m\"\u001b[39m, suffix\u001b[39m=\u001b[39m\u001b[39m\"\u001b[39m\u001b[39mComplete\u001b[39m\u001b[39m\"\u001b[39m, length\u001b[39m=\u001b[39m\u001b[39m50\u001b[39m\n\u001b[0;32m     <a href='vscode-notebook-cell:/c%3A/Users/Tim/Development/INFOMPROM/example.ipynb#ch0000007?line=21'>22</a>\u001b[0m )\n",
      "File \u001b[1;32mc:\\Users\\Tim\\Development\\INFOMPROM\\src\\ats.py:317\u001b[0m, in \u001b[0;36mATS.predict\u001b[1;34m(self, event)\u001b[0m\n\u001b[0;32m    313\u001b[0m             \u001b[39mbreak\u001b[39;00m\n\u001b[0;32m    315\u001b[0m     \u001b[39mif\u001b[39;00m event[\u001b[39m\"\u001b[39m\u001b[39mPrevEvents\u001b[39m\u001b[39m\"\u001b[39m] \u001b[39m==\u001b[39m state\u001b[39m.\u001b[39mactivities \u001b[39mor\u001b[39;00m next_state \u001b[39m==\u001b[39m \u001b[39m0\u001b[39m:\n\u001b[1;32m--> 317\u001b[0m         \u001b[39mreturn\u001b[39;00m state\u001b[39m.\u001b[39;49mpredict(event)\n\u001b[0;32m    319\u001b[0m \u001b[39mreturn\u001b[39;00m state\u001b[39m.\u001b[39mpredict(event)\n",
      "File \u001b[1;32mc:\\Users\\Tim\\Development\\INFOMPROM\\src\\state.py:51\u001b[0m, in \u001b[0;36mState.predict\u001b[1;34m(self, event)\u001b[0m\n\u001b[0;32m     49\u001b[0m \u001b[39mdef\u001b[39;00m \u001b[39mpredict\u001b[39m(\u001b[39mself\u001b[39m, event) \u001b[39m-\u001b[39m\u001b[39m>\u001b[39m \u001b[39mfloat\u001b[39m:\n\u001b[1;32m---> 51\u001b[0m     y_pred \u001b[39m=\u001b[39m \u001b[39mself\u001b[39;49m\u001b[39m.\u001b[39;49mbucket\u001b[39m.\u001b[39;49mpredict_one(event)\n\u001b[0;32m     53\u001b[0m     \u001b[39m# print(f\"state {self.id} predicts: {y_pred / (60*60)} hour\")\u001b[39;00m\n\u001b[0;32m     54\u001b[0m     \u001b[39mreturn\u001b[39;00m y_pred\n",
      "File \u001b[1;32mc:\\Users\\Tim\\Development\\INFOMPROM\\src\\bucket.py:72\u001b[0m, in \u001b[0;36mBucket.predict_one\u001b[1;34m(self, pred_x)\u001b[0m\n\u001b[0;32m     69\u001b[0m \u001b[39mdef\u001b[39;00m \u001b[39mpredict_one\u001b[39m(\u001b[39mself\u001b[39m, pred_x) \u001b[39m-\u001b[39m\u001b[39m>\u001b[39m \u001b[39mfloat\u001b[39m:\n\u001b[0;32m     71\u001b[0m     formatted_x \u001b[39m=\u001b[39m pd\u001b[39m.\u001b[39mDataFrame([pred_x])\n\u001b[1;32m---> 72\u001b[0m     \u001b[39mreturn\u001b[39;00m \u001b[39mself\u001b[39;49m\u001b[39m.\u001b[39;49mpredict(formatted_x)[\u001b[39m0\u001b[39m]\n",
      "File \u001b[1;32mc:\\Users\\Tim\\Development\\INFOMPROM\\src\\bucket.py:65\u001b[0m, in \u001b[0;36mBucket.predict\u001b[1;34m(self, pred_x)\u001b[0m\n\u001b[0;32m     63\u001b[0m \u001b[39mdef\u001b[39;00m \u001b[39mpredict\u001b[39m(\u001b[39mself\u001b[39m, pred_x: pd\u001b[39m.\u001b[39mDataFrame) \u001b[39m-\u001b[39m\u001b[39m>\u001b[39m \u001b[39mlist\u001b[39m[\u001b[39mfloat\u001b[39m]:\n\u001b[1;32m---> 65\u001b[0m     x_cols \u001b[39m=\u001b[39m \u001b[39mself\u001b[39;49m\u001b[39m.\u001b[39;49mX\u001b[39m.\u001b[39;49mcolumns\u001b[39m.\u001b[39mtolist()\n\u001b[0;32m     66\u001b[0m     pred_x \u001b[39m=\u001b[39m pred_x[x_cols]\n\u001b[0;32m     67\u001b[0m     \u001b[39mreturn\u001b[39;00m \u001b[39mself\u001b[39m\u001b[39m.\u001b[39mmodel\u001b[39m.\u001b[39mpredict(pred_x)\n",
      "\u001b[1;31mAttributeError\u001b[0m: 'list' object has no attribute 'columns'"
     ]
    }
   ],
   "source": [
    "print_progress_bar(\n",
    "    0, len(y_test), prefix=\"Prediction:\", suffix=\"Complete\", length=50\n",
    ")\n",
    "\n",
    "y_preds_average = []\n",
    "y_preds_median = []\n",
    "y_preds_mode = []\n",
    "y_preds_hgb = []\n",
    "y_preds_linreg = []\n",
    "y_preds_svm = []\n",
    "y_preds=[]\n",
    "\n",
    "for i, event in enumerate(X_test.to_dict(orient=\"records\")):\n",
    "\n",
    "    for ats_model in ats_list:\n",
    "        y_preds.append([ats_model.predict(event)])\n",
    "\n",
    "    y_preds_average.append(ats_average.predict(event))\n",
    "    y_preds_median.append(ats_median.predict(event))\n",
    "    y_preds_mode.append(ats_mode.predict(event))\n",
    "    y_preds_hgb.append(ats_hgb.predict(event))\n",
    "    y_preds_linreg.append(ats_linreg.predict(event))\n",
    "    y_preds_svm.append(ats_svm.predict(event))\n",
    "    print_progress_bar(\n",
    "        i+1, len(y_test), prefix=\"Prediction:\", suffix=\"Complete\", length=50\n",
    "    )\n",
    "\n",
    "\n"
   ]
  },
  {
   "cell_type": "code",
   "execution_count": 18,
   "metadata": {},
   "outputs": [
    {
     "ename": "ValueError",
     "evalue": "not enough values to unpack (expected 2, got 0)",
     "output_type": "error",
     "traceback": [
      "\u001b[1;31m---------------------------------------------------------------------------\u001b[0m",
      "\u001b[1;31mValueError\u001b[0m                                Traceback (most recent call last)",
      "\u001b[1;32mc:\\Users\\Tim\\Development\\INFOMPROM\\example.ipynb Cell 10'\u001b[0m in \u001b[0;36m<cell line: 15>\u001b[1;34m()\u001b[0m\n\u001b[0;32m     <a href='vscode-notebook-cell:/c%3A/Users/Tim/Development/INFOMPROM/example.ipynb#ch0000010?line=10'>11</a>\u001b[0m     mse \u001b[39m=\u001b[39m mse \u001b[39m/\u001b[39m n\n\u001b[0;32m     <a href='vscode-notebook-cell:/c%3A/Users/Tim/Development/INFOMPROM/example.ipynb#ch0000010?line=12'>13</a>\u001b[0m     \u001b[39mreturn\u001b[39;00m mae, mse\n\u001b[1;32m---> <a href='vscode-notebook-cell:/c%3A/Users/Tim/Development/INFOMPROM/example.ipynb#ch0000010?line=14'>15</a>\u001b[0m mae, mse \u001b[39m=\u001b[39m get_mae_mse(y_test\u001b[39m.\u001b[39;49mtolist(),y_preds\u001b[39m.\u001b[39;49mtolist())\n\u001b[0;32m     <a href='vscode-notebook-cell:/c%3A/Users/Tim/Development/INFOMPROM/example.ipynb#ch0000010?line=16'>17</a>\u001b[0m \u001b[39mprint\u001b[39m(\u001b[39mf\u001b[39m\u001b[39m\"\u001b[39m\u001b[39mMAE: \u001b[39m\u001b[39m{\u001b[39;00m\u001b[39mround\u001b[39m(mae\u001b[39m/\u001b[39m (\u001b[39m60\u001b[39m\u001b[39m*\u001b[39m\u001b[39m60\u001b[39m))\u001b[39m}\u001b[39;00m\u001b[39m hours  = \u001b[39m\u001b[39m{\u001b[39;00m\u001b[39mround\u001b[39m(mae \u001b[39m/\u001b[39m (\u001b[39m60\u001b[39m\u001b[39m*\u001b[39m\u001b[39m60\u001b[39m\u001b[39m*\u001b[39m\u001b[39m24\u001b[39m))\u001b[39m}\u001b[39;00m\u001b[39m days\u001b[39m\u001b[39m\"\u001b[39m) \u001b[39m#get difference in hours instead of seconds\u001b[39;00m\n\u001b[0;32m     <a href='vscode-notebook-cell:/c%3A/Users/Tim/Development/INFOMPROM/example.ipynb#ch0000010?line=17'>18</a>\u001b[0m \u001b[39mprint\u001b[39m(\u001b[39mf\u001b[39m\u001b[39m\"\u001b[39m\u001b[39mMSE: \u001b[39m\u001b[39m{\u001b[39;00m\u001b[39mint\u001b[39m(mse\u001b[39m/\u001b[39m (\u001b[39m60\u001b[39m\u001b[39m*\u001b[39m\u001b[39m60\u001b[39m))\u001b[39m}\u001b[39;00m\u001b[39m hours  = \u001b[39m\u001b[39m{\u001b[39;00m\u001b[39mint\u001b[39m(mse \u001b[39m/\u001b[39m (\u001b[39m60\u001b[39m\u001b[39m*\u001b[39m\u001b[39m60\u001b[39m\u001b[39m*\u001b[39m\u001b[39m24\u001b[39m))\u001b[39m}\u001b[39;00m\u001b[39m days\u001b[39m\u001b[39m\"\u001b[39m)\n",
      "\u001b[1;32mc:\\Users\\Tim\\Development\\INFOMPROM\\example.ipynb Cell 10'\u001b[0m in \u001b[0;36mget_mae_mse\u001b[1;34m(y_test, y_preds)\u001b[0m\n\u001b[0;32m      <a href='vscode-notebook-cell:/c%3A/Users/Tim/Development/INFOMPROM/example.ipynb#ch0000010?line=1'>2</a>\u001b[0m mae \u001b[39m=\u001b[39m \u001b[39m0.0\u001b[39m\n\u001b[0;32m      <a href='vscode-notebook-cell:/c%3A/Users/Tim/Development/INFOMPROM/example.ipynb#ch0000010?line=2'>3</a>\u001b[0m mse \u001b[39m=\u001b[39m \u001b[39m0.0\u001b[39m\n\u001b[1;32m----> <a href='vscode-notebook-cell:/c%3A/Users/Tim/Development/INFOMPROM/example.ipynb#ch0000010?line=4'>5</a>\u001b[0m \u001b[39mfor\u001b[39;00m y_pred, y \u001b[39min\u001b[39;00m y_preds, y_test:\n\u001b[0;32m      <a href='vscode-notebook-cell:/c%3A/Users/Tim/Development/INFOMPROM/example.ipynb#ch0000010?line=5'>6</a>\u001b[0m     mae \u001b[39m+\u001b[39m\u001b[39m=\u001b[39m \u001b[39mabs\u001b[39m(y_pred \u001b[39m-\u001b[39m y)\n\u001b[0;32m      <a href='vscode-notebook-cell:/c%3A/Users/Tim/Development/INFOMPROM/example.ipynb#ch0000010?line=6'>7</a>\u001b[0m     mse \u001b[39m+\u001b[39m\u001b[39m=\u001b[39m (y_pred \u001b[39m-\u001b[39m y)\u001b[39m*\u001b[39m\u001b[39m*\u001b[39m\u001b[39m2\u001b[39m\n",
      "\u001b[1;31mValueError\u001b[0m: not enough values to unpack (expected 2, got 0)"
     ]
    }
   ],
   "source": [
    "mae_average, rmse_average, r2 = get_mae_rmse(y_test.tolist(),y_preds_average.tolist())\n",
    "\n",
    "print(f'R^2: {r2}')\n",
    "print(f\"MAE: {round(mae_average/ (60*60))} hours  = {round(mae_average / (60*60*24))} days\") #get difference in hours instead of seconds\n",
    "print(f\"RMSE: {int(rmse_average/ (60*60))} hours  = {int(rmse_average / (60*60*24))} days\") #get difference in hours instead of seconds\n"
   ]
  },
  {
   "cell_type": "code",
   "execution_count": null,
   "metadata": {},
   "outputs": [],
   "source": []
  }
 ],
 "metadata": {
  "kernelspec": {
   "display_name": "Python 3.10.4 ('venv': venv)",
   "language": "python",
   "name": "python3"
  },
  "language_info": {
   "codemirror_mode": {
    "name": "ipython",
    "version": 3
   },
   "file_extension": ".py",
   "mimetype": "text/x-python",
   "name": "python",
   "nbconvert_exporter": "python",
   "pygments_lexer": "ipython3",
   "version": "3.10.4"
  },
  "orig_nbformat": 4,
  "vscode": {
   "interpreter": {
    "hash": "d58c946d523da25b67c9c710fb95a4d23a654dcfdb423986d06f0a6f7387888f"
   }
  }
 },
 "nbformat": 4,
 "nbformat_minor": 2
}
