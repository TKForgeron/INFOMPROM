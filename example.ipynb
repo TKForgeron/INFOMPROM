{
 "cells": [
  {
   "cell_type": "markdown",
   "metadata": {},
   "source": [
    "First, we need to import all necessary components."
   ]
  },
  {
   "cell_type": "code",
   "execution_count": 21,
   "metadata": {},
   "outputs": [],
   "source": [
    "import pickle\n",
    "from src.ats import *\n",
    "import pandas as pd\n",
    "from src.print_ats import *\n",
    "from src.input_data import InputData\n",
    "from src.custom_models import Average, Minimum, Maximum, SampleMean, Median, Mode\n",
    "from sklearn.linear_model import (\n",
    "    LinearRegression,\n",
    "    LogisticRegression,\n",
    "    ElasticNetCV,\n",
    ")\n",
    "from sklearn.svm import SVR\n",
    "from sklearn.ensemble import HistGradientBoostingRegressor, RandomForestRegressor\n",
    "from src.helper import print_progress_bar\n",
    "from src.globals import (\n",
    "    PREPROCESSING_IN_FILE,\n",
    "    INPUTDATA_OBJECT,\n",
    "    ATS_OUT_FILE,\n",
    "    RANDOM_SEED,\n",
    "    TARGET_COLUMN,\n",
    "    DATE_COLS,\n",
    ")\n"
   ]
  },
  {
   "cell_type": "markdown",
   "metadata": {},
   "source": [
    "Before we can make our model, we need to apply pre-pocessing first. This can be done via the inputData class that is dedicated for the given data. Many of the well-known pre-processing functionality is implemented. "
   ]
  },
  {
   "cell_type": "code",
   "execution_count": 22,
   "metadata": {},
   "outputs": [
    {
     "name": "stdout",
     "output_type": "stream",
     "text": [
      "\n",
      "START PREPROCESSING\n",
      "Filtering out incomplete processes.. [1632 rows have been deleted...]\n",
      "Converting dates.. \n",
      "Adding remaining time attribute..\n",
      "Encoding columns ['Service Affected', 'Asset Affected', 'Asset SubType Affected', 'Service Caused', 'Assignment Group', 'Priority', 'Asset Type Affected', 'Category', 'Status', 'Closure Code', 'Asset Caused', 'Asset Type Caused', 'Asset SubType Caused'] using none encoding..\n",
      "Adding previous events attribute..\n"
     ]
    }
   ],
   "source": [
    "\n",
    "\n",
    "input = InputData(PREPROCESSING_IN_FILE)\n",
    "input.apply_standard_preprocessing(\n",
    "    agg_col=\"rem_time\",  # calculated y column\n",
    "    filter_incompletes=True, #Only complete traces (i.e., that start and finish in the given data set) are included\n",
    "    dropna=False,\n",
    "    date_cols=DATE_COLS,  # list of cols that must be transformed into unix time. If empty / not given, nothing will be transformed\n",
    ")\n",
    "\n",
    "# # columns that have have ordinal values are label encoded\n",
    "# input.use_cat_encoding_on(\"label\", [\"Category\", \"Activity\"])\n",
    "\n",
    "# columns with too many categories are deleted\n",
    "input.use_cat_encoding_on(\n",
    "    \"none\",\n",
    "    [\n",
    "        \"Service Affected\",\n",
    "        \"Asset Affected\",\n",
    "        \"Asset SubType Affected\",\n",
    "        \"Service Caused\",\n",
    "        \"Assignment Group\",\n",
    "        \"Priority\",\n",
    "        \"Asset Type Affected\",\n",
    "        \"Category\",\n",
    "        \"Status\",\n",
    "        \"Closure Code\",\n",
    "        \"Asset Caused\",\n",
    "        \"Asset Type Caused\",\n",
    "        \"Asset SubType Caused\",\n",
    "    ],\n",
    ")\n",
    "\n",
    "\n",
    "# split function that keeps traces together\n",
    "X_train, X_test, y_train, y_test = input.train_test_split_on_trace(\n",
    "    y_col=TARGET_COLUMN, ratio=0.8,seed=RANDOM_SEED\n",
    ")\n",
    "\n",
    "# The previous event attribute must be added in order to navigate through the ATS.\n",
    "X_test = input.add_prev_events(X_test)"
   ]
  },
  {
   "cell_type": "markdown",
   "metadata": {},
   "source": [
    "Let's build our model with the HistGradientBoostingRegressor."
   ]
  },
  {
   "cell_type": "code",
   "execution_count": 23,
   "metadata": {},
   "outputs": [
    {
     "name": "stdout",
     "output_type": "stream",
     "text": [
      "START CREATING ATS\n",
      "Create: |XXXXXXXXXXXXXXXXXXXXXXXXXXXXXXXXXXXXXXXXXXXXXXXXXX| 100.0% Complete\n",
      "\n",
      "\n",
      "Finalize: |XXXXXXXXXXXXXXXXXXXXXXXXXXXXXXXXXXXXXXXXXXXXXXXXXX| 100.0% Complete\n",
      "\n",
      "\n"
     ]
    }
   ],
   "source": [
    "ats_hgb = ATS(\n",
    "    trace_id_col=\"Incident ID\",\n",
    "    act_col=\"Activity\",\n",
    "    y_col=TARGET_COLUMN,\n",
    "    representation=\"multiset\",\n",
    "    horizon=1,\n",
    "    model=HistGradientBoostingRegressor()\n",
    ")\n",
    "\n",
    "ats_hgb.fit(X_train, y_train)\n",
    "ats_hgb.finalize()\n",
    "ats_hgb.save(ATS_OUT_FILE+'_hgb')"
   ]
  },
  {
   "cell_type": "markdown",
   "metadata": {},
   "source": [
    "Let's build our model with the Median model."
   ]
  },
  {
   "cell_type": "code",
   "execution_count": 24,
   "metadata": {},
   "outputs": [
    {
     "name": "stdout",
     "output_type": "stream",
     "text": [
      "START CREATING ATS\n",
      "Create: |XXXXXXXXXXXXXXXXXXXXXXXXXXXXXXXXXXXXXXXXXXXXXXXXXX| 100.0% Complete\n",
      "\n",
      "\n",
      "Finalize: |XXXXXXXXXXXXXXXXXXXXXXXXXXXXXXXXXXXXXXXXXXXXXXXXXX| 100.0% Complete\n",
      "\n",
      "\n"
     ]
    }
   ],
   "source": [
    "ats_median = ATS(\n",
    "    trace_id_col=\"Incident ID\",\n",
    "    act_col=\"Activity\",\n",
    "    y_col=TARGET_COLUMN,\n",
    "    representation=\"multiset\",\n",
    "    horizon=1,\n",
    "    model=Median()\n",
    ")\n",
    "\n",
    "ats_median.fit(X_train, y_train)\n",
    "ats_median.finalize()\n",
    "ats_median.save(ATS_OUT_FILE+'_median')"
   ]
  },
  {
   "cell_type": "markdown",
   "metadata": {},
   "source": [
    "Let's build our model with the Mean model."
   ]
  },
  {
   "cell_type": "code",
   "execution_count": 25,
   "metadata": {},
   "outputs": [
    {
     "name": "stdout",
     "output_type": "stream",
     "text": [
      "START CREATING ATS\n",
      "Create: |XXXXXXXXXXXXXXXXXXXXXXXXXXXXX---------------------| 59.5% Complete\r"
     ]
    }
   ],
   "source": [
    "ats_average = ATS(\n",
    "    trace_id_col=\"Incident ID\",\n",
    "    act_col=\"Activity\",\n",
    "    y_col=TARGET_COLUMN,\n",
    "    representation=\"multiset\",\n",
    "    horizon=1,\n",
    "    model=Average()\n",
    ")\n",
    "\n",
    "ats_average.fit(X_train, y_train)\n",
    "ats_average.finalize()\n",
    "ats_average.save(ATS_OUT_FILE+'_average')"
   ]
  },
  {
   "cell_type": "markdown",
   "metadata": {},
   "source": [
    "Let's build our model with the Mode model."
   ]
  },
  {
   "cell_type": "code",
   "execution_count": null,
   "metadata": {},
   "outputs": [],
   "source": [
    "ats_mode = ATS(\n",
    "    trace_id_col=\"Incident ID\",\n",
    "    act_col=\"Activity\",\n",
    "    y_col=TARGET_COLUMN,\n",
    "    representation=\"multiset\",\n",
    "    horizon=1,\n",
    "    model=Mode()\n",
    ")\n",
    "\n",
    "ats_mode.fit(X_train, y_train)\n",
    "ats_mode.finalize()\n",
    "ats_mode.save(ATS_OUT_FILE+'_mode')"
   ]
  },
  {
   "cell_type": "markdown",
   "metadata": {},
   "source": [
    "Let's build our model with the SVR."
   ]
  },
  {
   "cell_type": "code",
   "execution_count": null,
   "metadata": {},
   "outputs": [],
   "source": [
    "ats_svm = ATS(\n",
    "    trace_id_col=\"Incident ID\",\n",
    "    act_col=\"Activity\",\n",
    "    y_col=TARGET_COLUMN,\n",
    "    representation=\"multiset\",\n",
    "    horizon=1,\n",
    "    model=SVR()\n",
    ")\n",
    "\n",
    "ats_svm.fit(X_train, y_train)\n",
    "ats_svm.finalize()\n",
    "ats_svm.save(ATS_OUT_FILE+'_svm')"
   ]
  },
  {
   "cell_type": "markdown",
   "metadata": {},
   "source": [
    "Let's build our model with the Linear Regression model."
   ]
  },
  {
   "cell_type": "code",
   "execution_count": null,
   "metadata": {},
   "outputs": [],
   "source": [
    "ats_linreg = ATS(\n",
    "    trace_id_col=\"Incident ID\",\n",
    "    act_col=\"Activity\",\n",
    "    y_col=TARGET_COLUMN,\n",
    "    representation=\"multiset\",\n",
    "    horizon=1,\n",
    "    model=LinearRegression()\n",
    ")\n",
    "\n",
    "ats_linreg.fit(X_train, y_train)\n",
    "ats_linreg.finalize()\n",
    "ats_linreg.save(ATS_OUT_FILE+'_linreg')\n"
   ]
  },
  {
   "cell_type": "markdown",
   "metadata": {},
   "source": [
    "We can now test the accuracy of our models!"
   ]
  },
  {
   "cell_type": "code",
   "execution_count": null,
   "metadata": {},
   "outputs": [
    {
     "name": "stdout",
     "output_type": "stream",
     "text": [
      "Prediction: |XXXXXXXXXXXXXXXXXXXXXXXXXXXXXXXXXXXXXXXXXXXXXXXXXX| 100.0% Complete\n"
     ]
    }
   ],
   "source": [
    "print_progress_bar(\n",
    "    0, len(y_test), prefix=\"Prediction:\", suffix=\"Complete\", length=50\n",
    ")\n",
    "\n",
    "y_preds_average = []\n",
    "y_preds_median = []\n",
    "y_preds_mode = []\n",
    "y_preds_hgb = []\n",
    "y_preds_linreg = []\n",
    "y_preds_svm = []\n",
    "\n",
    "for i, event in enumerate(X_test.to_dict(orient=\"records\")):\n",
    "\n",
    "    y_preds_average.append(ats_average.predict(event))\n",
    "    y_preds_median.append(ats_median.predict(event))\n",
    "    y_preds_mode.append(ats_mode.predict(event))\n",
    "    y_preds_hgb.append(ats_hgb.predict(event))\n",
    "    y_preds_linreg.append(ats_linreg.predict(event))\n",
    "    y_preds_svm.append(ats_svm.predict(event))\n",
    "    print_progress_bar(\n",
    "        i+1, len(y_test), prefix=\"Prediction:\", suffix=\"Complete\", length=50\n",
    "    )\n",
    "\n",
    "\n"
   ]
  },
  {
   "cell_type": "code",
   "execution_count": 18,
   "metadata": {},
   "outputs": [
    {
     "ename": "ValueError",
     "evalue": "not enough values to unpack (expected 2, got 0)",
     "output_type": "error",
     "traceback": [
      "\u001b[1;31m---------------------------------------------------------------------------\u001b[0m",
      "\u001b[1;31mValueError\u001b[0m                                Traceback (most recent call last)",
      "\u001b[1;32mc:\\Users\\Tim\\Development\\INFOMPROM\\example.ipynb Cell 10'\u001b[0m in \u001b[0;36m<cell line: 15>\u001b[1;34m()\u001b[0m\n\u001b[0;32m     <a href='vscode-notebook-cell:/c%3A/Users/Tim/Development/INFOMPROM/example.ipynb#ch0000010?line=10'>11</a>\u001b[0m     mse \u001b[39m=\u001b[39m mse \u001b[39m/\u001b[39m n\n\u001b[0;32m     <a href='vscode-notebook-cell:/c%3A/Users/Tim/Development/INFOMPROM/example.ipynb#ch0000010?line=12'>13</a>\u001b[0m     \u001b[39mreturn\u001b[39;00m mae, mse\n\u001b[1;32m---> <a href='vscode-notebook-cell:/c%3A/Users/Tim/Development/INFOMPROM/example.ipynb#ch0000010?line=14'>15</a>\u001b[0m mae, mse \u001b[39m=\u001b[39m get_mae_mse(y_test\u001b[39m.\u001b[39;49mtolist(),y_preds\u001b[39m.\u001b[39;49mtolist())\n\u001b[0;32m     <a href='vscode-notebook-cell:/c%3A/Users/Tim/Development/INFOMPROM/example.ipynb#ch0000010?line=16'>17</a>\u001b[0m \u001b[39mprint\u001b[39m(\u001b[39mf\u001b[39m\u001b[39m\"\u001b[39m\u001b[39mMAE: \u001b[39m\u001b[39m{\u001b[39;00m\u001b[39mround\u001b[39m(mae\u001b[39m/\u001b[39m (\u001b[39m60\u001b[39m\u001b[39m*\u001b[39m\u001b[39m60\u001b[39m))\u001b[39m}\u001b[39;00m\u001b[39m hours  = \u001b[39m\u001b[39m{\u001b[39;00m\u001b[39mround\u001b[39m(mae \u001b[39m/\u001b[39m (\u001b[39m60\u001b[39m\u001b[39m*\u001b[39m\u001b[39m60\u001b[39m\u001b[39m*\u001b[39m\u001b[39m24\u001b[39m))\u001b[39m}\u001b[39;00m\u001b[39m days\u001b[39m\u001b[39m\"\u001b[39m) \u001b[39m#get difference in hours instead of seconds\u001b[39;00m\n\u001b[0;32m     <a href='vscode-notebook-cell:/c%3A/Users/Tim/Development/INFOMPROM/example.ipynb#ch0000010?line=17'>18</a>\u001b[0m \u001b[39mprint\u001b[39m(\u001b[39mf\u001b[39m\u001b[39m\"\u001b[39m\u001b[39mMSE: \u001b[39m\u001b[39m{\u001b[39;00m\u001b[39mint\u001b[39m(mse\u001b[39m/\u001b[39m (\u001b[39m60\u001b[39m\u001b[39m*\u001b[39m\u001b[39m60\u001b[39m))\u001b[39m}\u001b[39;00m\u001b[39m hours  = \u001b[39m\u001b[39m{\u001b[39;00m\u001b[39mint\u001b[39m(mse \u001b[39m/\u001b[39m (\u001b[39m60\u001b[39m\u001b[39m*\u001b[39m\u001b[39m60\u001b[39m\u001b[39m*\u001b[39m\u001b[39m24\u001b[39m))\u001b[39m}\u001b[39;00m\u001b[39m days\u001b[39m\u001b[39m\"\u001b[39m)\n",
      "\u001b[1;32mc:\\Users\\Tim\\Development\\INFOMPROM\\example.ipynb Cell 10'\u001b[0m in \u001b[0;36mget_mae_mse\u001b[1;34m(y_test, y_preds)\u001b[0m\n\u001b[0;32m      <a href='vscode-notebook-cell:/c%3A/Users/Tim/Development/INFOMPROM/example.ipynb#ch0000010?line=1'>2</a>\u001b[0m mae \u001b[39m=\u001b[39m \u001b[39m0.0\u001b[39m\n\u001b[0;32m      <a href='vscode-notebook-cell:/c%3A/Users/Tim/Development/INFOMPROM/example.ipynb#ch0000010?line=2'>3</a>\u001b[0m mse \u001b[39m=\u001b[39m \u001b[39m0.0\u001b[39m\n\u001b[1;32m----> <a href='vscode-notebook-cell:/c%3A/Users/Tim/Development/INFOMPROM/example.ipynb#ch0000010?line=4'>5</a>\u001b[0m \u001b[39mfor\u001b[39;00m y_pred, y \u001b[39min\u001b[39;00m y_preds, y_test:\n\u001b[0;32m      <a href='vscode-notebook-cell:/c%3A/Users/Tim/Development/INFOMPROM/example.ipynb#ch0000010?line=5'>6</a>\u001b[0m     mae \u001b[39m+\u001b[39m\u001b[39m=\u001b[39m \u001b[39mabs\u001b[39m(y_pred \u001b[39m-\u001b[39m y)\n\u001b[0;32m      <a href='vscode-notebook-cell:/c%3A/Users/Tim/Development/INFOMPROM/example.ipynb#ch0000010?line=6'>7</a>\u001b[0m     mse \u001b[39m+\u001b[39m\u001b[39m=\u001b[39m (y_pred \u001b[39m-\u001b[39m y)\u001b[39m*\u001b[39m\u001b[39m*\u001b[39m\u001b[39m2\u001b[39m\n",
      "\u001b[1;31mValueError\u001b[0m: not enough values to unpack (expected 2, got 0)"
     ]
    }
   ],
   "source": [
    "def get_mae_mse(y_test,y_preds)->float:\n",
    "    mae = 0.0\n",
    "    mse = 0.0\n",
    "\n",
    "    for y_pred, y in y_preds, y_test:\n",
    "        mae += abs(y_pred - y)\n",
    "        mse += (y_pred - y)**2\n",
    "    \n",
    "    n = len(y_test)\n",
    "    mae = mae / n\n",
    "    mse = mse / n\n",
    "\n",
    "    return mae, mse\n",
    "\n",
    "mae_average, mse_average = get_mae_mse(y_test.tolist(),y_preds_average.tolist())\n",
    "\n",
    "print(f\"MAE: {round(mae_average/ (60*60))} hours  = {round(mae_average / (60*60*24))} days\") #get difference in hours instead of seconds\n",
    "print(f\"MSE: {int(mse_average/ (60*60))} hours  = {int(mse_average / (60*60*24))} days\") #get difference in hours instead of seconds\n"
   ]
  },
  {
   "cell_type": "code",
   "execution_count": null,
   "metadata": {},
   "outputs": [],
   "source": []
  }
 ],
 "metadata": {
  "kernelspec": {
   "display_name": "Python 3.10.4 ('venv': venv)",
   "language": "python",
   "name": "python3"
  },
  "language_info": {
   "codemirror_mode": {
    "name": "ipython",
    "version": 3
   },
   "file_extension": ".py",
   "mimetype": "text/x-python",
   "name": "python",
   "nbconvert_exporter": "python",
   "pygments_lexer": "ipython3",
   "version": "3.10.4"
  },
  "orig_nbformat": 4,
  "vscode": {
   "interpreter": {
    "hash": "d58c946d523da25b67c9c710fb95a4d23a654dcfdb423986d06f0a6f7387888f"
   }
  }
 },
 "nbformat": 4,
 "nbformat_minor": 2
}
