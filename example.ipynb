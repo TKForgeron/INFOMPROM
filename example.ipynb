{
 "cells": [
  {
   "cell_type": "markdown",
   "metadata": {},
   "source": [
    "First, we need to import all necessary components."
   ]
  },
  {
   "cell_type": "code",
   "execution_count": 3,
   "metadata": {},
   "outputs": [],
   "source": [
    "import pickle\n",
    "from src.ats import *\n",
    "import pandas as pd\n",
    "from src.print_ats import *\n",
    "from src.input_data import InputData\n",
    "from src.custom_models import Average, Minimum, Maximum, SampleMean, Median, Mode\n",
    "from sklearn.linear_model import (\n",
    "    LinearRegression,\n",
    "    LogisticRegression,\n",
    "    ElasticNetCV,\n",
    ")\n",
    "from sklearn.svm import SVR\n",
    "from sklearn.ensemble import HistGradientBoostingRegressor, RandomForestRegressor\n",
    "from src.helper import print_progress_bar\n",
    "from src.globals import (\n",
    "    PREPROCESSING_IN_FILE,\n",
    "    INPUTDATA_OBJECT,\n",
    "    ATS_OUT_FILE,\n",
    "    RANDOM_SEED,\n",
    "    TARGET_COLUMN,\n",
    "    DATE_COLS,\n",
    ")\n"
   ]
  },
  {
   "cell_type": "markdown",
   "metadata": {},
   "source": [
    "Before we can make our model, we need to apply pre-pocessing first. This can be done via the inputData class that is dedicated for the given data. Many of the well-known pre-processing functionality is implemented. "
   ]
  },
  {
   "cell_type": "code",
   "execution_count": 4,
   "metadata": {},
   "outputs": [
    {
     "name": "stdout",
     "output_type": "stream",
     "text": [
      "\n",
      "START PREPROCESSING\n",
      "Filtering out incomplete processes.. [1632 rows have been deleted...]\n",
      "Converting dates.. \n",
      "Adding remaining time attribute..\n",
      "Encoding columns ['Priority', 'Asset Type Affected', 'Status', 'Closure Code'] using ohe encoding..\n",
      "Encoding columns ['Category'] using label encoding..\n",
      "Encoding columns ['Service Affected', 'Asset Affected', 'Asset SubType Affected', 'Service Caused', 'Assignment Group', 'Asset Caused', 'Asset Type Caused', 'Asset SubType Caused'] using none encoding..\n",
      "Adding previous events attribute..\n"
     ]
    }
   ],
   "source": [
    "\n",
    "\n",
    "input = InputData(PREPROCESSING_IN_FILE)\n",
    "input.apply_standard_preprocessing(\n",
    "    agg_col=\"rem_time\",  # calculated y column\n",
    "    filter_incompletes=True, #Only complete traces (i.e., that start and finish in the given data set) are included\n",
    "    dropna=False,\n",
    "    date_cols=DATE_COLS,  # list of cols that must be transformed into unix time. If empty / not given, nothing will be transformed\n",
    ")\n",
    "\n",
    "# columns that have <20 unique values are one-hot encoded\n",
    "input.use_cat_encoding_on(\n",
    "    \"ohe\", [\"Priority\", \"Asset Type Affected\", \"Status\", \"Closure Code\"]\n",
    ")\n",
    "\n",
    "# # columns that have have ordinal values are label encoded\n",
    "input.use_cat_encoding_on(\"label\", [\"Category\"])\n",
    "\n",
    "# columns with too many categories are deleted\n",
    "input.use_cat_encoding_on(\n",
    "    \"none\",\n",
    "    [\n",
    "        \"Service Affected\",\n",
    "        \"Asset Affected\",\n",
    "        \"Asset SubType Affected\",\n",
    "        \"Service Caused\",\n",
    "        \"Assignment Group\",\n",
    "        \"Asset Caused\",\n",
    "        \"Asset Type Caused\",\n",
    "        \"Asset SubType Caused\",\n",
    "    ],\n",
    ")\n",
    "\n",
    "\n",
    "# split function that keeps traces together\n",
    "X_train, X_test, y_train, y_test = input.train_test_split_on_trace(\n",
    "    y_col=TARGET_COLUMN, ratio=0.8,seed=RANDOM_SEED\n",
    ")\n",
    "\n",
    "# The previous event attribute must be added in order to navigate through the ATS.\n",
    "X_test = input.add_prev_events(X_test)"
   ]
  },
  {
   "cell_type": "markdown",
   "metadata": {},
   "source": [
    "Let's build our model with the HistGradientBoostingRegressor."
   ]
  },
  {
   "cell_type": "code",
   "execution_count": 23,
   "metadata": {},
   "outputs": [
    {
     "name": "stdout",
     "output_type": "stream",
     "text": [
      "START CREATING ATS\n",
      "Create: |XXXXXXXXXXXXXXXXXXXXXXXXXXXXXXXXXXXXXXXXXXXXXXXXXX| 100.0% Complete\n",
      "\n",
      "\n",
      "Finalize: |XXXXXXXXXXXXXXXXXXXXXXXXXXXXXXXXXXXXXXXXXXXXXXXXXX| 100.0% Complete\n",
      "\n",
      "\n"
     ]
    }
   ],
   "source": [
    "ats_hgb = ATS(\n",
    "    trace_id_col=\"Incident ID\",\n",
    "    act_col=\"Activity\",\n",
    "    y_col=TARGET_COLUMN,\n",
    "    representation=\"multiset\",\n",
    "    horizon=1,\n",
    "    model=HistGradientBoostingRegressor()\n",
    ")\n",
    "\n",
    "ats_hgb.fit(X_train, y_train)\n",
    "ats_hgb.finalize()\n",
    "ats_hgb.save(ATS_OUT_FILE+'_hgb')"
   ]
  },
  {
   "cell_type": "markdown",
   "metadata": {},
   "source": [
    "Let's build our model with the Median model."
   ]
  },
  {
   "cell_type": "code",
   "execution_count": 24,
   "metadata": {},
   "outputs": [
    {
     "name": "stdout",
     "output_type": "stream",
     "text": [
      "START CREATING ATS\n",
      "Create: |XXXXXXXXXXXXXXXXXXXXXXXXXXXXXXXXXXXXXXXXXXXXXXXXXX| 100.0% Complete\n",
      "\n",
      "\n",
      "Finalize: |XXXXXXXXXXXXXXXXXXXXXXXXXXXXXXXXXXXXXXXXXXXXXXXXXX| 100.0% Complete\n",
      "\n",
      "\n"
     ]
    }
   ],
   "source": [
    "ats_median = ATS(\n",
    "    trace_id_col=\"Incident ID\",\n",
    "    act_col=\"Activity\",\n",
    "    y_col=TARGET_COLUMN,\n",
    "    representation=\"multiset\",\n",
    "    horizon=1,\n",
    "    model=Median()\n",
    ")\n",
    "\n",
    "ats_median.fit(X_train, y_train)\n",
    "ats_median.finalize()\n",
    "ats_median.save(ATS_OUT_FILE+'_median')"
   ]
  },
  {
   "cell_type": "markdown",
   "metadata": {},
   "source": [
    "Let's build our model with the Mean model."
   ]
  },
  {
   "cell_type": "code",
   "execution_count": 25,
   "metadata": {},
   "outputs": [
    {
     "name": "stdout",
     "output_type": "stream",
     "text": [
      "START CREATING ATS\n",
      "Create: |XXXXXXXXXXXXXXXXXXXXXXXXXXXXXXXXXXXXXXXXXXXXXXXXXX| 100.0% Complete\n",
      "\n",
      "\n",
      "Finalize: |XXXXXXXXXXXXXXXXXXXXXXXXXXXXXXXXXXXXXXXXXXXXXXXXXX| 100.0% Complete\n",
      "\n",
      "\n"
     ]
    }
   ],
   "source": [
    "ats_average = ATS(\n",
    "    trace_id_col=\"Incident ID\",\n",
    "    act_col=\"Activity\",\n",
    "    y_col=TARGET_COLUMN,\n",
    "    representation=\"multiset\",\n",
    "    horizon=1,\n",
    "    model=Average()\n",
    ")\n",
    "\n",
    "ats_average.fit(X_train, y_train)\n",
    "ats_average.finalize()\n",
    "ats_average.save(ATS_OUT_FILE+'_average')"
   ]
  },
  {
   "cell_type": "markdown",
   "metadata": {},
   "source": [
    "Let's build our model with the Mode model."
   ]
  },
  {
   "cell_type": "code",
   "execution_count": 26,
   "metadata": {},
   "outputs": [
    {
     "name": "stdout",
     "output_type": "stream",
     "text": [
      "START CREATING ATS\n",
      "Create: |XXXXXXXXXXXXXXXXXXXXXXXXXXXXXXXXXXXXXXXXXXXXXXXXXX| 100.0% Complete\n",
      "\n",
      "\n",
      "Finalize: |XXXXXXX-------------------------------------------| 15.8% Complete\r"
     ]
    },
    {
     "ename": "KeyError",
     "evalue": "-1",
     "output_type": "error",
     "traceback": [
      "\u001b[1;31m---------------------------------------------------------------------------\u001b[0m",
      "\u001b[1;31mValueError\u001b[0m                                Traceback (most recent call last)",
      "File \u001b[1;32mc:\\Users\\Tim\\Development\\INFOMPROM\\venv\\lib\\site-packages\\pandas\\core\\indexes\\range.py:385\u001b[0m, in \u001b[0;36mRangeIndex.get_loc\u001b[1;34m(self, key, method, tolerance)\u001b[0m\n\u001b[0;32m    384\u001b[0m \u001b[39mtry\u001b[39;00m:\n\u001b[1;32m--> 385\u001b[0m     \u001b[39mreturn\u001b[39;00m \u001b[39mself\u001b[39;49m\u001b[39m.\u001b[39;49m_range\u001b[39m.\u001b[39;49mindex(new_key)\n\u001b[0;32m    386\u001b[0m \u001b[39mexcept\u001b[39;00m \u001b[39mValueError\u001b[39;00m \u001b[39mas\u001b[39;00m err:\n",
      "\u001b[1;31mValueError\u001b[0m: -1 is not in range",
      "\nThe above exception was the direct cause of the following exception:\n",
      "\u001b[1;31mKeyError\u001b[0m                                  Traceback (most recent call last)",
      "\u001b[1;32mc:\\Users\\Tim\\Development\\INFOMPROM\\example.ipynb Cell 12'\u001b[0m in \u001b[0;36m<cell line: 11>\u001b[1;34m()\u001b[0m\n\u001b[0;32m      <a href='vscode-notebook-cell:/c%3A/Users/Tim/Development/INFOMPROM/example.ipynb#ch0000024?line=0'>1</a>\u001b[0m ats_mode \u001b[39m=\u001b[39m ATS(\n\u001b[0;32m      <a href='vscode-notebook-cell:/c%3A/Users/Tim/Development/INFOMPROM/example.ipynb#ch0000024?line=1'>2</a>\u001b[0m     trace_id_col\u001b[39m=\u001b[39m\u001b[39m\"\u001b[39m\u001b[39mIncident ID\u001b[39m\u001b[39m\"\u001b[39m,\n\u001b[0;32m      <a href='vscode-notebook-cell:/c%3A/Users/Tim/Development/INFOMPROM/example.ipynb#ch0000024?line=2'>3</a>\u001b[0m     act_col\u001b[39m=\u001b[39m\u001b[39m\"\u001b[39m\u001b[39mActivity\u001b[39m\u001b[39m\"\u001b[39m,\n\u001b[1;32m   (...)\u001b[0m\n\u001b[0;32m      <a href='vscode-notebook-cell:/c%3A/Users/Tim/Development/INFOMPROM/example.ipynb#ch0000024?line=6'>7</a>\u001b[0m     model\u001b[39m=\u001b[39mMode()\n\u001b[0;32m      <a href='vscode-notebook-cell:/c%3A/Users/Tim/Development/INFOMPROM/example.ipynb#ch0000024?line=7'>8</a>\u001b[0m )\n\u001b[0;32m     <a href='vscode-notebook-cell:/c%3A/Users/Tim/Development/INFOMPROM/example.ipynb#ch0000024?line=9'>10</a>\u001b[0m ats_mode\u001b[39m.\u001b[39mfit(X_train, y_train)\n\u001b[1;32m---> <a href='vscode-notebook-cell:/c%3A/Users/Tim/Development/INFOMPROM/example.ipynb#ch0000024?line=10'>11</a>\u001b[0m ats_mode\u001b[39m.\u001b[39;49mfinalize()\n\u001b[0;32m     <a href='vscode-notebook-cell:/c%3A/Users/Tim/Development/INFOMPROM/example.ipynb#ch0000024?line=11'>12</a>\u001b[0m ats_mode\u001b[39m.\u001b[39msave(ATS_OUT_FILE\u001b[39m+\u001b[39m\u001b[39m'\u001b[39m\u001b[39m_mode\u001b[39m\u001b[39m'\u001b[39m)\n",
      "File \u001b[1;32mc:\\Users\\Tim\\Development\\INFOMPROM\\src\\ats.py:345\u001b[0m, in \u001b[0;36mATS.finalize\u001b[1;34m(self, progress_bar)\u001b[0m\n\u001b[0;32m    337\u001b[0m     \u001b[39mif\u001b[39;00m progress_bar:\n\u001b[0;32m    338\u001b[0m         print_progress_bar(\n\u001b[0;32m    339\u001b[0m             i \u001b[39m+\u001b[39m \u001b[39m1\u001b[39m,\n\u001b[0;32m    340\u001b[0m             \u001b[39mlen\u001b[39m(\u001b[39mself\u001b[39m\u001b[39m.\u001b[39mstates),\n\u001b[1;32m   (...)\u001b[0m\n\u001b[0;32m    343\u001b[0m             length\u001b[39m=\u001b[39m\u001b[39m50\u001b[39m,\n\u001b[0;32m    344\u001b[0m         )\n\u001b[1;32m--> 345\u001b[0m     state\u001b[39m.\u001b[39;49mfinalize()\n\u001b[0;32m    347\u001b[0m \u001b[39mif\u001b[39;00m progress_bar:\n\u001b[0;32m    349\u001b[0m     \u001b[39mprint\u001b[39m(\u001b[39m\"\u001b[39m\u001b[39m\\n\u001b[39;00m\u001b[39m\"\u001b[39m)\n",
      "File \u001b[1;32mc:\\Users\\Tim\\Development\\INFOMPROM\\src\\state.py:58\u001b[0m, in \u001b[0;36mState.finalize\u001b[1;34m(self)\u001b[0m\n\u001b[0;32m     56\u001b[0m \u001b[39mdef\u001b[39;00m \u001b[39mfinalize\u001b[39m(\u001b[39mself\u001b[39m):\n\u001b[1;32m---> 58\u001b[0m     \u001b[39mself\u001b[39;49m\u001b[39m.\u001b[39;49mbucket\u001b[39m.\u001b[39;49mfinalize()\n",
      "File \u001b[1;32mc:\\Users\\Tim\\Development\\INFOMPROM\\src\\bucket.py:80\u001b[0m, in \u001b[0;36mBucket.finalize\u001b[1;34m(self)\u001b[0m\n\u001b[0;32m     77\u001b[0m \u001b[39mself\u001b[39m\u001b[39m.\u001b[39my \u001b[39m=\u001b[39m pd\u001b[39m.\u001b[39mSeries(\u001b[39mself\u001b[39m\u001b[39m.\u001b[39my)\n\u001b[0;32m     78\u001b[0m \u001b[39mself\u001b[39m\u001b[39m.\u001b[39my\u001b[39m.\u001b[39mname \u001b[39m=\u001b[39m \u001b[39mself\u001b[39m\u001b[39m.\u001b[39my_col\n\u001b[1;32m---> 80\u001b[0m \u001b[39mself\u001b[39;49m\u001b[39m.\u001b[39;49mmodel\u001b[39m.\u001b[39;49mfit(\u001b[39mself\u001b[39;49m\u001b[39m.\u001b[39;49mX, \u001b[39mself\u001b[39;49m\u001b[39m.\u001b[39;49my)\n",
      "File \u001b[1;32mc:\\Users\\Tim\\Development\\INFOMPROM\\src\\custom_models.py:124\u001b[0m, in \u001b[0;36mMode.fit\u001b[1;34m(self, X, y)\u001b[0m\n\u001b[0;32m    122\u001b[0m \u001b[39mself\u001b[39m\u001b[39m.\u001b[39mprediction \u001b[39m=\u001b[39m y\u001b[39m.\u001b[39mmode()\n\u001b[0;32m    123\u001b[0m \u001b[39mif\u001b[39;00m \u001b[39mself\u001b[39m\u001b[39m.\u001b[39mprediction\u001b[39m.\u001b[39msize \u001b[39m>\u001b[39m \u001b[39m1\u001b[39m:\n\u001b[1;32m--> 124\u001b[0m     \u001b[39mself\u001b[39m\u001b[39m.\u001b[39mprediction \u001b[39m=\u001b[39m \u001b[39mself\u001b[39;49m\u001b[39m.\u001b[39;49mprediction[\u001b[39m-\u001b[39;49m\u001b[39m1\u001b[39;49m]\n\u001b[0;32m    125\u001b[0m \u001b[39melse\u001b[39;00m:\n\u001b[0;32m    126\u001b[0m     \u001b[39mself\u001b[39m\u001b[39m.\u001b[39mprediction \u001b[39m=\u001b[39m \u001b[39mself\u001b[39m\u001b[39m.\u001b[39mprediction[\u001b[39m0\u001b[39m]\n",
      "File \u001b[1;32mc:\\Users\\Tim\\Development\\INFOMPROM\\venv\\lib\\site-packages\\pandas\\core\\series.py:958\u001b[0m, in \u001b[0;36mSeries.__getitem__\u001b[1;34m(self, key)\u001b[0m\n\u001b[0;32m    955\u001b[0m     \u001b[39mreturn\u001b[39;00m \u001b[39mself\u001b[39m\u001b[39m.\u001b[39m_values[key]\n\u001b[0;32m    957\u001b[0m \u001b[39melif\u001b[39;00m key_is_scalar:\n\u001b[1;32m--> 958\u001b[0m     \u001b[39mreturn\u001b[39;00m \u001b[39mself\u001b[39;49m\u001b[39m.\u001b[39;49m_get_value(key)\n\u001b[0;32m    960\u001b[0m \u001b[39mif\u001b[39;00m is_hashable(key):\n\u001b[0;32m    961\u001b[0m     \u001b[39m# Otherwise index.get_value will raise InvalidIndexError\u001b[39;00m\n\u001b[0;32m    962\u001b[0m     \u001b[39mtry\u001b[39;00m:\n\u001b[0;32m    963\u001b[0m         \u001b[39m# For labels that don't resolve as scalars like tuples and frozensets\u001b[39;00m\n",
      "File \u001b[1;32mc:\\Users\\Tim\\Development\\INFOMPROM\\venv\\lib\\site-packages\\pandas\\core\\series.py:1069\u001b[0m, in \u001b[0;36mSeries._get_value\u001b[1;34m(self, label, takeable)\u001b[0m\n\u001b[0;32m   1066\u001b[0m     \u001b[39mreturn\u001b[39;00m \u001b[39mself\u001b[39m\u001b[39m.\u001b[39m_values[label]\n\u001b[0;32m   1068\u001b[0m \u001b[39m# Similar to Index.get_value, but we do not fall back to positional\u001b[39;00m\n\u001b[1;32m-> 1069\u001b[0m loc \u001b[39m=\u001b[39m \u001b[39mself\u001b[39;49m\u001b[39m.\u001b[39;49mindex\u001b[39m.\u001b[39;49mget_loc(label)\n\u001b[0;32m   1070\u001b[0m \u001b[39mreturn\u001b[39;00m \u001b[39mself\u001b[39m\u001b[39m.\u001b[39mindex\u001b[39m.\u001b[39m_get_values_for_loc(\u001b[39mself\u001b[39m, loc, label)\n",
      "File \u001b[1;32mc:\\Users\\Tim\\Development\\INFOMPROM\\venv\\lib\\site-packages\\pandas\\core\\indexes\\range.py:387\u001b[0m, in \u001b[0;36mRangeIndex.get_loc\u001b[1;34m(self, key, method, tolerance)\u001b[0m\n\u001b[0;32m    385\u001b[0m         \u001b[39mreturn\u001b[39;00m \u001b[39mself\u001b[39m\u001b[39m.\u001b[39m_range\u001b[39m.\u001b[39mindex(new_key)\n\u001b[0;32m    386\u001b[0m     \u001b[39mexcept\u001b[39;00m \u001b[39mValueError\u001b[39;00m \u001b[39mas\u001b[39;00m err:\n\u001b[1;32m--> 387\u001b[0m         \u001b[39mraise\u001b[39;00m \u001b[39mKeyError\u001b[39;00m(key) \u001b[39mfrom\u001b[39;00m \u001b[39merr\u001b[39;00m\n\u001b[0;32m    388\u001b[0m \u001b[39mself\u001b[39m\u001b[39m.\u001b[39m_check_indexing_error(key)\n\u001b[0;32m    389\u001b[0m \u001b[39mraise\u001b[39;00m \u001b[39mKeyError\u001b[39;00m(key)\n",
      "\u001b[1;31mKeyError\u001b[0m: -1"
     ]
    }
   ],
   "source": [
    "ats_mode = ATS(\n",
    "    trace_id_col=\"Incident ID\",\n",
    "    act_col=\"Activity\",\n",
    "    y_col=TARGET_COLUMN,\n",
    "    representation=\"multiset\",\n",
    "    horizon=1,\n",
    "    model=Mode()\n",
    ")\n",
    "\n",
    "ats_mode.fit(X_train, y_train)\n",
    "ats_mode.finalize()\n",
    "ats_mode.save(ATS_OUT_FILE+'_mode')"
   ]
  },
  {
   "cell_type": "markdown",
   "metadata": {},
   "source": [
    "Let's build our model with the SVR."
   ]
  },
  {
   "cell_type": "code",
   "execution_count": 27,
   "metadata": {},
   "outputs": [
    {
     "name": "stdout",
     "output_type": "stream",
     "text": [
      "START CREATING ATS\n",
      "Create: |XXXXXXXXXXXXXXXXXXXXXXXXXXXXXXXXXXXXXXXXXXXXXXXXXX| 100.0% Complete\n",
      "\n",
      "\n",
      "Finalize: |XX------------------------------------------------| 5.3% Complete\r"
     ]
    },
    {
     "ename": "ValueError",
     "evalue": "Input X contains NaN.\nSVR does not accept missing values encoded as NaN natively. For supervised learning, you might want to consider sklearn.ensemble.HistGradientBoostingClassifier and Regressor which accept missing values encoded as NaNs natively. Alternatively, it is possible to preprocess the data, for instance by using an imputer transformer in a pipeline or drop samples with missing values. See https://scikit-learn.org/stable/modules/impute.html You can find a list of all estimators that handle NaN values at the following page: https://scikit-learn.org/stable/modules/impute.html#estimators-that-handle-nan-values",
     "output_type": "error",
     "traceback": [
      "\u001b[1;31m---------------------------------------------------------------------------\u001b[0m",
      "\u001b[1;31mValueError\u001b[0m                                Traceback (most recent call last)",
      "\u001b[1;32mc:\\Users\\Tim\\Development\\INFOMPROM\\example.ipynb Cell 14'\u001b[0m in \u001b[0;36m<cell line: 11>\u001b[1;34m()\u001b[0m\n\u001b[0;32m      <a href='vscode-notebook-cell:/c%3A/Users/Tim/Development/INFOMPROM/example.ipynb#ch0000020?line=0'>1</a>\u001b[0m ats_svm \u001b[39m=\u001b[39m ATS(\n\u001b[0;32m      <a href='vscode-notebook-cell:/c%3A/Users/Tim/Development/INFOMPROM/example.ipynb#ch0000020?line=1'>2</a>\u001b[0m     trace_id_col\u001b[39m=\u001b[39m\u001b[39m\"\u001b[39m\u001b[39mIncident ID\u001b[39m\u001b[39m\"\u001b[39m,\n\u001b[0;32m      <a href='vscode-notebook-cell:/c%3A/Users/Tim/Development/INFOMPROM/example.ipynb#ch0000020?line=2'>3</a>\u001b[0m     act_col\u001b[39m=\u001b[39m\u001b[39m\"\u001b[39m\u001b[39mActivity\u001b[39m\u001b[39m\"\u001b[39m,\n\u001b[1;32m   (...)\u001b[0m\n\u001b[0;32m      <a href='vscode-notebook-cell:/c%3A/Users/Tim/Development/INFOMPROM/example.ipynb#ch0000020?line=6'>7</a>\u001b[0m     model\u001b[39m=\u001b[39mSVR()\n\u001b[0;32m      <a href='vscode-notebook-cell:/c%3A/Users/Tim/Development/INFOMPROM/example.ipynb#ch0000020?line=7'>8</a>\u001b[0m )\n\u001b[0;32m     <a href='vscode-notebook-cell:/c%3A/Users/Tim/Development/INFOMPROM/example.ipynb#ch0000020?line=9'>10</a>\u001b[0m ats_svm\u001b[39m.\u001b[39mfit(X_train, y_train)\n\u001b[1;32m---> <a href='vscode-notebook-cell:/c%3A/Users/Tim/Development/INFOMPROM/example.ipynb#ch0000020?line=10'>11</a>\u001b[0m ats_svm\u001b[39m.\u001b[39;49mfinalize()\n\u001b[0;32m     <a href='vscode-notebook-cell:/c%3A/Users/Tim/Development/INFOMPROM/example.ipynb#ch0000020?line=11'>12</a>\u001b[0m ats_svm\u001b[39m.\u001b[39msave(ATS_OUT_FILE\u001b[39m+\u001b[39m\u001b[39m'\u001b[39m\u001b[39m_svm\u001b[39m\u001b[39m'\u001b[39m)\n",
      "File \u001b[1;32mc:\\Users\\Tim\\Development\\INFOMPROM\\src\\ats.py:345\u001b[0m, in \u001b[0;36mATS.finalize\u001b[1;34m(self, progress_bar)\u001b[0m\n\u001b[0;32m    337\u001b[0m     \u001b[39mif\u001b[39;00m progress_bar:\n\u001b[0;32m    338\u001b[0m         print_progress_bar(\n\u001b[0;32m    339\u001b[0m             i \u001b[39m+\u001b[39m \u001b[39m1\u001b[39m,\n\u001b[0;32m    340\u001b[0m             \u001b[39mlen\u001b[39m(\u001b[39mself\u001b[39m\u001b[39m.\u001b[39mstates),\n\u001b[1;32m   (...)\u001b[0m\n\u001b[0;32m    343\u001b[0m             length\u001b[39m=\u001b[39m\u001b[39m50\u001b[39m,\n\u001b[0;32m    344\u001b[0m         )\n\u001b[1;32m--> 345\u001b[0m     state\u001b[39m.\u001b[39;49mfinalize()\n\u001b[0;32m    347\u001b[0m \u001b[39mif\u001b[39;00m progress_bar:\n\u001b[0;32m    349\u001b[0m     \u001b[39mprint\u001b[39m(\u001b[39m\"\u001b[39m\u001b[39m\\n\u001b[39;00m\u001b[39m\"\u001b[39m)\n",
      "File \u001b[1;32mc:\\Users\\Tim\\Development\\INFOMPROM\\src\\state.py:58\u001b[0m, in \u001b[0;36mState.finalize\u001b[1;34m(self)\u001b[0m\n\u001b[0;32m     56\u001b[0m \u001b[39mdef\u001b[39;00m \u001b[39mfinalize\u001b[39m(\u001b[39mself\u001b[39m):\n\u001b[1;32m---> 58\u001b[0m     \u001b[39mself\u001b[39;49m\u001b[39m.\u001b[39;49mbucket\u001b[39m.\u001b[39;49mfinalize()\n",
      "File \u001b[1;32mc:\\Users\\Tim\\Development\\INFOMPROM\\src\\bucket.py:80\u001b[0m, in \u001b[0;36mBucket.finalize\u001b[1;34m(self)\u001b[0m\n\u001b[0;32m     77\u001b[0m \u001b[39mself\u001b[39m\u001b[39m.\u001b[39my \u001b[39m=\u001b[39m pd\u001b[39m.\u001b[39mSeries(\u001b[39mself\u001b[39m\u001b[39m.\u001b[39my)\n\u001b[0;32m     78\u001b[0m \u001b[39mself\u001b[39m\u001b[39m.\u001b[39my\u001b[39m.\u001b[39mname \u001b[39m=\u001b[39m \u001b[39mself\u001b[39m\u001b[39m.\u001b[39my_col\n\u001b[1;32m---> 80\u001b[0m \u001b[39mself\u001b[39;49m\u001b[39m.\u001b[39;49mmodel\u001b[39m.\u001b[39;49mfit(\u001b[39mself\u001b[39;49m\u001b[39m.\u001b[39;49mX, \u001b[39mself\u001b[39;49m\u001b[39m.\u001b[39;49my)\n",
      "File \u001b[1;32mc:\\Users\\Tim\\Development\\INFOMPROM\\venv\\lib\\site-packages\\sklearn\\svm\\_base.py:173\u001b[0m, in \u001b[0;36mBaseLibSVM.fit\u001b[1;34m(self, X, y, sample_weight)\u001b[0m\n\u001b[0;32m    171\u001b[0m     check_consistent_length(X, y)\n\u001b[0;32m    172\u001b[0m \u001b[39melse\u001b[39;00m:\n\u001b[1;32m--> 173\u001b[0m     X, y \u001b[39m=\u001b[39m \u001b[39mself\u001b[39;49m\u001b[39m.\u001b[39;49m_validate_data(\n\u001b[0;32m    174\u001b[0m         X,\n\u001b[0;32m    175\u001b[0m         y,\n\u001b[0;32m    176\u001b[0m         dtype\u001b[39m=\u001b[39;49mnp\u001b[39m.\u001b[39;49mfloat64,\n\u001b[0;32m    177\u001b[0m         order\u001b[39m=\u001b[39;49m\u001b[39m\"\u001b[39;49m\u001b[39mC\u001b[39;49m\u001b[39m\"\u001b[39;49m,\n\u001b[0;32m    178\u001b[0m         accept_sparse\u001b[39m=\u001b[39;49m\u001b[39m\"\u001b[39;49m\u001b[39mcsr\u001b[39;49m\u001b[39m\"\u001b[39;49m,\n\u001b[0;32m    179\u001b[0m         accept_large_sparse\u001b[39m=\u001b[39;49m\u001b[39mFalse\u001b[39;49;00m,\n\u001b[0;32m    180\u001b[0m     )\n\u001b[0;32m    182\u001b[0m y \u001b[39m=\u001b[39m \u001b[39mself\u001b[39m\u001b[39m.\u001b[39m_validate_targets(y)\n\u001b[0;32m    184\u001b[0m sample_weight \u001b[39m=\u001b[39m np\u001b[39m.\u001b[39masarray(\n\u001b[0;32m    185\u001b[0m     [] \u001b[39mif\u001b[39;00m sample_weight \u001b[39mis\u001b[39;00m \u001b[39mNone\u001b[39;00m \u001b[39melse\u001b[39;00m sample_weight, dtype\u001b[39m=\u001b[39mnp\u001b[39m.\u001b[39mfloat64\n\u001b[0;32m    186\u001b[0m )\n",
      "File \u001b[1;32mc:\\Users\\Tim\\Development\\INFOMPROM\\venv\\lib\\site-packages\\sklearn\\base.py:596\u001b[0m, in \u001b[0;36mBaseEstimator._validate_data\u001b[1;34m(self, X, y, reset, validate_separately, **check_params)\u001b[0m\n\u001b[0;32m    594\u001b[0m         y \u001b[39m=\u001b[39m check_array(y, input_name\u001b[39m=\u001b[39m\u001b[39m\"\u001b[39m\u001b[39my\u001b[39m\u001b[39m\"\u001b[39m, \u001b[39m*\u001b[39m\u001b[39m*\u001b[39mcheck_y_params)\n\u001b[0;32m    595\u001b[0m     \u001b[39melse\u001b[39;00m:\n\u001b[1;32m--> 596\u001b[0m         X, y \u001b[39m=\u001b[39m check_X_y(X, y, \u001b[39m*\u001b[39m\u001b[39m*\u001b[39mcheck_params)\n\u001b[0;32m    597\u001b[0m     out \u001b[39m=\u001b[39m X, y\n\u001b[0;32m    599\u001b[0m \u001b[39mif\u001b[39;00m \u001b[39mnot\u001b[39;00m no_val_X \u001b[39mand\u001b[39;00m check_params\u001b[39m.\u001b[39mget(\u001b[39m\"\u001b[39m\u001b[39mensure_2d\u001b[39m\u001b[39m\"\u001b[39m, \u001b[39mTrue\u001b[39;00m):\n",
      "File \u001b[1;32mc:\\Users\\Tim\\Development\\INFOMPROM\\venv\\lib\\site-packages\\sklearn\\utils\\validation.py:1074\u001b[0m, in \u001b[0;36mcheck_X_y\u001b[1;34m(X, y, accept_sparse, accept_large_sparse, dtype, order, copy, force_all_finite, ensure_2d, allow_nd, multi_output, ensure_min_samples, ensure_min_features, y_numeric, estimator)\u001b[0m\n\u001b[0;32m   1069\u001b[0m         estimator_name \u001b[39m=\u001b[39m _check_estimator_name(estimator)\n\u001b[0;32m   1070\u001b[0m     \u001b[39mraise\u001b[39;00m \u001b[39mValueError\u001b[39;00m(\n\u001b[0;32m   1071\u001b[0m         \u001b[39mf\u001b[39m\u001b[39m\"\u001b[39m\u001b[39m{\u001b[39;00mestimator_name\u001b[39m}\u001b[39;00m\u001b[39m requires y to be passed, but the target y is None\u001b[39m\u001b[39m\"\u001b[39m\n\u001b[0;32m   1072\u001b[0m     )\n\u001b[1;32m-> 1074\u001b[0m X \u001b[39m=\u001b[39m check_array(\n\u001b[0;32m   1075\u001b[0m     X,\n\u001b[0;32m   1076\u001b[0m     accept_sparse\u001b[39m=\u001b[39;49maccept_sparse,\n\u001b[0;32m   1077\u001b[0m     accept_large_sparse\u001b[39m=\u001b[39;49maccept_large_sparse,\n\u001b[0;32m   1078\u001b[0m     dtype\u001b[39m=\u001b[39;49mdtype,\n\u001b[0;32m   1079\u001b[0m     order\u001b[39m=\u001b[39;49morder,\n\u001b[0;32m   1080\u001b[0m     copy\u001b[39m=\u001b[39;49mcopy,\n\u001b[0;32m   1081\u001b[0m     force_all_finite\u001b[39m=\u001b[39;49mforce_all_finite,\n\u001b[0;32m   1082\u001b[0m     ensure_2d\u001b[39m=\u001b[39;49mensure_2d,\n\u001b[0;32m   1083\u001b[0m     allow_nd\u001b[39m=\u001b[39;49mallow_nd,\n\u001b[0;32m   1084\u001b[0m     ensure_min_samples\u001b[39m=\u001b[39;49mensure_min_samples,\n\u001b[0;32m   1085\u001b[0m     ensure_min_features\u001b[39m=\u001b[39;49mensure_min_features,\n\u001b[0;32m   1086\u001b[0m     estimator\u001b[39m=\u001b[39;49mestimator,\n\u001b[0;32m   1087\u001b[0m     input_name\u001b[39m=\u001b[39;49m\u001b[39m\"\u001b[39;49m\u001b[39mX\u001b[39;49m\u001b[39m\"\u001b[39;49m,\n\u001b[0;32m   1088\u001b[0m )\n\u001b[0;32m   1090\u001b[0m y \u001b[39m=\u001b[39m _check_y(y, multi_output\u001b[39m=\u001b[39mmulti_output, y_numeric\u001b[39m=\u001b[39my_numeric, estimator\u001b[39m=\u001b[39mestimator)\n\u001b[0;32m   1092\u001b[0m check_consistent_length(X, y)\n",
      "File \u001b[1;32mc:\\Users\\Tim\\Development\\INFOMPROM\\venv\\lib\\site-packages\\sklearn\\utils\\validation.py:899\u001b[0m, in \u001b[0;36mcheck_array\u001b[1;34m(array, accept_sparse, accept_large_sparse, dtype, order, copy, force_all_finite, ensure_2d, allow_nd, ensure_min_samples, ensure_min_features, estimator, input_name)\u001b[0m\n\u001b[0;32m    893\u001b[0m         \u001b[39mraise\u001b[39;00m \u001b[39mValueError\u001b[39;00m(\n\u001b[0;32m    894\u001b[0m             \u001b[39m\"\u001b[39m\u001b[39mFound array with dim \u001b[39m\u001b[39m%d\u001b[39;00m\u001b[39m. \u001b[39m\u001b[39m%s\u001b[39;00m\u001b[39m expected <= 2.\u001b[39m\u001b[39m\"\u001b[39m\n\u001b[0;32m    895\u001b[0m             \u001b[39m%\u001b[39m (array\u001b[39m.\u001b[39mndim, estimator_name)\n\u001b[0;32m    896\u001b[0m         )\n\u001b[0;32m    898\u001b[0m     \u001b[39mif\u001b[39;00m force_all_finite:\n\u001b[1;32m--> 899\u001b[0m         _assert_all_finite(\n\u001b[0;32m    900\u001b[0m             array,\n\u001b[0;32m    901\u001b[0m             input_name\u001b[39m=\u001b[39;49minput_name,\n\u001b[0;32m    902\u001b[0m             estimator_name\u001b[39m=\u001b[39;49mestimator_name,\n\u001b[0;32m    903\u001b[0m             allow_nan\u001b[39m=\u001b[39;49mforce_all_finite \u001b[39m==\u001b[39;49m \u001b[39m\"\u001b[39;49m\u001b[39mallow-nan\u001b[39;49m\u001b[39m\"\u001b[39;49m,\n\u001b[0;32m    904\u001b[0m         )\n\u001b[0;32m    906\u001b[0m \u001b[39mif\u001b[39;00m ensure_min_samples \u001b[39m>\u001b[39m \u001b[39m0\u001b[39m:\n\u001b[0;32m    907\u001b[0m     n_samples \u001b[39m=\u001b[39m _num_samples(array)\n",
      "File \u001b[1;32mc:\\Users\\Tim\\Development\\INFOMPROM\\venv\\lib\\site-packages\\sklearn\\utils\\validation.py:146\u001b[0m, in \u001b[0;36m_assert_all_finite\u001b[1;34m(X, allow_nan, msg_dtype, estimator_name, input_name)\u001b[0m\n\u001b[0;32m    124\u001b[0m         \u001b[39mif\u001b[39;00m (\n\u001b[0;32m    125\u001b[0m             \u001b[39mnot\u001b[39;00m allow_nan\n\u001b[0;32m    126\u001b[0m             \u001b[39mand\u001b[39;00m estimator_name\n\u001b[1;32m   (...)\u001b[0m\n\u001b[0;32m    130\u001b[0m             \u001b[39m# Improve the error message on how to handle missing values in\u001b[39;00m\n\u001b[0;32m    131\u001b[0m             \u001b[39m# scikit-learn.\u001b[39;00m\n\u001b[0;32m    132\u001b[0m             msg_err \u001b[39m+\u001b[39m\u001b[39m=\u001b[39m (\n\u001b[0;32m    133\u001b[0m                 \u001b[39mf\u001b[39m\u001b[39m\"\u001b[39m\u001b[39m\\n\u001b[39;00m\u001b[39m{\u001b[39;00mestimator_name\u001b[39m}\u001b[39;00m\u001b[39m does not accept missing values\u001b[39m\u001b[39m\"\u001b[39m\n\u001b[0;32m    134\u001b[0m                 \u001b[39m\"\u001b[39m\u001b[39m encoded as NaN natively. For supervised learning, you might want\u001b[39m\u001b[39m\"\u001b[39m\n\u001b[1;32m   (...)\u001b[0m\n\u001b[0;32m    144\u001b[0m                 \u001b[39m\"\u001b[39m\u001b[39m#estimators-that-handle-nan-values\u001b[39m\u001b[39m\"\u001b[39m\n\u001b[0;32m    145\u001b[0m             )\n\u001b[1;32m--> 146\u001b[0m         \u001b[39mraise\u001b[39;00m \u001b[39mValueError\u001b[39;00m(msg_err)\n\u001b[0;32m    148\u001b[0m \u001b[39m# for object dtype data, we only check for NaNs (GH-13254)\u001b[39;00m\n\u001b[0;32m    149\u001b[0m \u001b[39melif\u001b[39;00m X\u001b[39m.\u001b[39mdtype \u001b[39m==\u001b[39m np\u001b[39m.\u001b[39mdtype(\u001b[39m\"\u001b[39m\u001b[39mobject\u001b[39m\u001b[39m\"\u001b[39m) \u001b[39mand\u001b[39;00m \u001b[39mnot\u001b[39;00m allow_nan:\n",
      "\u001b[1;31mValueError\u001b[0m: Input X contains NaN.\nSVR does not accept missing values encoded as NaN natively. For supervised learning, you might want to consider sklearn.ensemble.HistGradientBoostingClassifier and Regressor which accept missing values encoded as NaNs natively. Alternatively, it is possible to preprocess the data, for instance by using an imputer transformer in a pipeline or drop samples with missing values. See https://scikit-learn.org/stable/modules/impute.html You can find a list of all estimators that handle NaN values at the following page: https://scikit-learn.org/stable/modules/impute.html#estimators-that-handle-nan-values"
     ]
    }
   ],
   "source": [
    "ats_svm = ATS(\n",
    "    trace_id_col=\"Incident ID\",\n",
    "    act_col=\"Activity\",\n",
    "    y_col=TARGET_COLUMN,\n",
    "    representation=\"multiset\",\n",
    "    horizon=1,\n",
    "    model=SVR()\n",
    ")\n",
    "\n",
    "ats_svm.fit(X_train, y_train)\n",
    "ats_svm.finalize()\n",
    "ats_svm.save(ATS_OUT_FILE+'_svm')"
   ]
  },
  {
   "cell_type": "markdown",
   "metadata": {},
   "source": [
    "Let's build our model with the Linear Regression model."
   ]
  },
  {
   "cell_type": "code",
   "execution_count": null,
   "metadata": {},
   "outputs": [],
   "source": [
    "ats_linreg = ATS(\n",
    "    trace_id_col=\"Incident ID\",\n",
    "    act_col=\"Activity\",\n",
    "    y_col=TARGET_COLUMN,\n",
    "    representation=\"multiset\",\n",
    "    horizon=1,\n",
    "    model=LinearRegression()\n",
    ")\n",
    "\n",
    "ats_linreg.fit(X_train, y_train)\n",
    "ats_linreg.finalize()\n",
    "ats_linreg.save(ATS_OUT_FILE+'_linreg')\n"
   ]
  },
  {
   "cell_type": "markdown",
   "metadata": {},
   "source": [
    "We can now test the accuracy of our models!"
   ]
  },
  {
   "cell_type": "code",
   "execution_count": 29,
   "metadata": {},
   "outputs": [
    {
     "name": "stdout",
     "output_type": "stream",
     "text": [
      "Prediction: |--------------------------------------------------| 0.0% Complete\r"
     ]
    },
    {
     "ename": "AttributeError",
     "evalue": "'list' object has no attribute 'columns'",
     "output_type": "error",
     "traceback": [
      "\u001b[1;31m---------------------------------------------------------------------------\u001b[0m",
      "\u001b[1;31mAttributeError\u001b[0m                            Traceback (most recent call last)",
      "\u001b[1;32mc:\\Users\\Tim\\Development\\INFOMPROM\\example.ipynb Cell 18'\u001b[0m in \u001b[0;36m<cell line: 12>\u001b[1;34m()\u001b[0m\n\u001b[0;32m     <a href='vscode-notebook-cell:/c%3A/Users/Tim/Development/INFOMPROM/example.ipynb#ch0000007?line=16'>17</a>\u001b[0m y_preds_hgb\u001b[39m.\u001b[39mappend(ats_hgb\u001b[39m.\u001b[39mpredict(event))\n\u001b[0;32m     <a href='vscode-notebook-cell:/c%3A/Users/Tim/Development/INFOMPROM/example.ipynb#ch0000007?line=17'>18</a>\u001b[0m \u001b[39m# y_preds_linreg.append(ats_linreg.predict(event))\u001b[39;00m\n\u001b[1;32m---> <a href='vscode-notebook-cell:/c%3A/Users/Tim/Development/INFOMPROM/example.ipynb#ch0000007?line=18'>19</a>\u001b[0m y_preds_svm\u001b[39m.\u001b[39mappend(ats_svm\u001b[39m.\u001b[39;49mpredict(event))\n\u001b[0;32m     <a href='vscode-notebook-cell:/c%3A/Users/Tim/Development/INFOMPROM/example.ipynb#ch0000007?line=19'>20</a>\u001b[0m print_progress_bar(\n\u001b[0;32m     <a href='vscode-notebook-cell:/c%3A/Users/Tim/Development/INFOMPROM/example.ipynb#ch0000007?line=20'>21</a>\u001b[0m     i\u001b[39m+\u001b[39m\u001b[39m1\u001b[39m, \u001b[39mlen\u001b[39m(y_test), prefix\u001b[39m=\u001b[39m\u001b[39m\"\u001b[39m\u001b[39mPrediction:\u001b[39m\u001b[39m\"\u001b[39m, suffix\u001b[39m=\u001b[39m\u001b[39m\"\u001b[39m\u001b[39mComplete\u001b[39m\u001b[39m\"\u001b[39m, length\u001b[39m=\u001b[39m\u001b[39m50\u001b[39m\n\u001b[0;32m     <a href='vscode-notebook-cell:/c%3A/Users/Tim/Development/INFOMPROM/example.ipynb#ch0000007?line=21'>22</a>\u001b[0m )\n",
      "File \u001b[1;32mc:\\Users\\Tim\\Development\\INFOMPROM\\src\\ats.py:317\u001b[0m, in \u001b[0;36mATS.predict\u001b[1;34m(self, event)\u001b[0m\n\u001b[0;32m    313\u001b[0m             \u001b[39mbreak\u001b[39;00m\n\u001b[0;32m    315\u001b[0m     \u001b[39mif\u001b[39;00m event[\u001b[39m\"\u001b[39m\u001b[39mPrevEvents\u001b[39m\u001b[39m\"\u001b[39m] \u001b[39m==\u001b[39m state\u001b[39m.\u001b[39mactivities \u001b[39mor\u001b[39;00m next_state \u001b[39m==\u001b[39m \u001b[39m0\u001b[39m:\n\u001b[1;32m--> 317\u001b[0m         \u001b[39mreturn\u001b[39;00m state\u001b[39m.\u001b[39;49mpredict(event)\n\u001b[0;32m    319\u001b[0m \u001b[39mreturn\u001b[39;00m state\u001b[39m.\u001b[39mpredict(event)\n",
      "File \u001b[1;32mc:\\Users\\Tim\\Development\\INFOMPROM\\src\\state.py:51\u001b[0m, in \u001b[0;36mState.predict\u001b[1;34m(self, event)\u001b[0m\n\u001b[0;32m     49\u001b[0m \u001b[39mdef\u001b[39;00m \u001b[39mpredict\u001b[39m(\u001b[39mself\u001b[39m, event) \u001b[39m-\u001b[39m\u001b[39m>\u001b[39m \u001b[39mfloat\u001b[39m:\n\u001b[1;32m---> 51\u001b[0m     y_pred \u001b[39m=\u001b[39m \u001b[39mself\u001b[39;49m\u001b[39m.\u001b[39;49mbucket\u001b[39m.\u001b[39;49mpredict_one(event)\n\u001b[0;32m     53\u001b[0m     \u001b[39m# print(f\"state {self.id} predicts: {y_pred / (60*60)} hour\")\u001b[39;00m\n\u001b[0;32m     54\u001b[0m     \u001b[39mreturn\u001b[39;00m y_pred\n",
      "File \u001b[1;32mc:\\Users\\Tim\\Development\\INFOMPROM\\src\\bucket.py:72\u001b[0m, in \u001b[0;36mBucket.predict_one\u001b[1;34m(self, pred_x)\u001b[0m\n\u001b[0;32m     69\u001b[0m \u001b[39mdef\u001b[39;00m \u001b[39mpredict_one\u001b[39m(\u001b[39mself\u001b[39m, pred_x) \u001b[39m-\u001b[39m\u001b[39m>\u001b[39m \u001b[39mfloat\u001b[39m:\n\u001b[0;32m     71\u001b[0m     formatted_x \u001b[39m=\u001b[39m pd\u001b[39m.\u001b[39mDataFrame([pred_x])\n\u001b[1;32m---> 72\u001b[0m     \u001b[39mreturn\u001b[39;00m \u001b[39mself\u001b[39;49m\u001b[39m.\u001b[39;49mpredict(formatted_x)[\u001b[39m0\u001b[39m]\n",
      "File \u001b[1;32mc:\\Users\\Tim\\Development\\INFOMPROM\\src\\bucket.py:65\u001b[0m, in \u001b[0;36mBucket.predict\u001b[1;34m(self, pred_x)\u001b[0m\n\u001b[0;32m     63\u001b[0m \u001b[39mdef\u001b[39;00m \u001b[39mpredict\u001b[39m(\u001b[39mself\u001b[39m, pred_x: pd\u001b[39m.\u001b[39mDataFrame) \u001b[39m-\u001b[39m\u001b[39m>\u001b[39m \u001b[39mlist\u001b[39m[\u001b[39mfloat\u001b[39m]:\n\u001b[1;32m---> 65\u001b[0m     x_cols \u001b[39m=\u001b[39m \u001b[39mself\u001b[39;49m\u001b[39m.\u001b[39;49mX\u001b[39m.\u001b[39;49mcolumns\u001b[39m.\u001b[39mtolist()\n\u001b[0;32m     66\u001b[0m     pred_x \u001b[39m=\u001b[39m pred_x[x_cols]\n\u001b[0;32m     67\u001b[0m     \u001b[39mreturn\u001b[39;00m \u001b[39mself\u001b[39m\u001b[39m.\u001b[39mmodel\u001b[39m.\u001b[39mpredict(pred_x)\n",
      "\u001b[1;31mAttributeError\u001b[0m: 'list' object has no attribute 'columns'"
     ]
    }
   ],
   "source": [
    "print_progress_bar(\n",
    "    0, len(y_test), prefix=\"Prediction:\", suffix=\"Complete\", length=50\n",
    ")\n",
    "\n",
    "y_preds_average = []\n",
    "y_preds_median = []\n",
    "y_preds_mode = []\n",
    "y_preds_hgb = []\n",
    "# y_preds_linreg = []\n",
    "y_preds_svm = []\n",
    "\n",
    "for i, event in enumerate(X_test.to_dict(orient=\"records\")):\n",
    "\n",
    "    y_preds_average.append(ats_average.predict(event))\n",
    "    y_preds_median.append(ats_median.predict(event))\n",
    "    y_preds_mode.append(ats_mode.predict(event))\n",
    "    y_preds_hgb.append(ats_hgb.predict(event))\n",
    "    # y_preds_linreg.append(ats_linreg.predict(event))\n",
    "    y_preds_svm.append(ats_svm.predict(event))\n",
    "    print_progress_bar(\n",
    "        i+1, len(y_test), prefix=\"Prediction:\", suffix=\"Complete\", length=50\n",
    "    )\n",
    "\n",
    "\n"
   ]
  },
  {
   "cell_type": "code",
   "execution_count": 18,
   "metadata": {},
   "outputs": [
    {
     "ename": "ValueError",
     "evalue": "not enough values to unpack (expected 2, got 0)",
     "output_type": "error",
     "traceback": [
      "\u001b[1;31m---------------------------------------------------------------------------\u001b[0m",
      "\u001b[1;31mValueError\u001b[0m                                Traceback (most recent call last)",
      "\u001b[1;32mc:\\Users\\Tim\\Development\\INFOMPROM\\example.ipynb Cell 10'\u001b[0m in \u001b[0;36m<cell line: 15>\u001b[1;34m()\u001b[0m\n\u001b[0;32m     <a href='vscode-notebook-cell:/c%3A/Users/Tim/Development/INFOMPROM/example.ipynb#ch0000010?line=10'>11</a>\u001b[0m     mse \u001b[39m=\u001b[39m mse \u001b[39m/\u001b[39m n\n\u001b[0;32m     <a href='vscode-notebook-cell:/c%3A/Users/Tim/Development/INFOMPROM/example.ipynb#ch0000010?line=12'>13</a>\u001b[0m     \u001b[39mreturn\u001b[39;00m mae, mse\n\u001b[1;32m---> <a href='vscode-notebook-cell:/c%3A/Users/Tim/Development/INFOMPROM/example.ipynb#ch0000010?line=14'>15</a>\u001b[0m mae, mse \u001b[39m=\u001b[39m get_mae_mse(y_test\u001b[39m.\u001b[39;49mtolist(),y_preds\u001b[39m.\u001b[39;49mtolist())\n\u001b[0;32m     <a href='vscode-notebook-cell:/c%3A/Users/Tim/Development/INFOMPROM/example.ipynb#ch0000010?line=16'>17</a>\u001b[0m \u001b[39mprint\u001b[39m(\u001b[39mf\u001b[39m\u001b[39m\"\u001b[39m\u001b[39mMAE: \u001b[39m\u001b[39m{\u001b[39;00m\u001b[39mround\u001b[39m(mae\u001b[39m/\u001b[39m (\u001b[39m60\u001b[39m\u001b[39m*\u001b[39m\u001b[39m60\u001b[39m))\u001b[39m}\u001b[39;00m\u001b[39m hours  = \u001b[39m\u001b[39m{\u001b[39;00m\u001b[39mround\u001b[39m(mae \u001b[39m/\u001b[39m (\u001b[39m60\u001b[39m\u001b[39m*\u001b[39m\u001b[39m60\u001b[39m\u001b[39m*\u001b[39m\u001b[39m24\u001b[39m))\u001b[39m}\u001b[39;00m\u001b[39m days\u001b[39m\u001b[39m\"\u001b[39m) \u001b[39m#get difference in hours instead of seconds\u001b[39;00m\n\u001b[0;32m     <a href='vscode-notebook-cell:/c%3A/Users/Tim/Development/INFOMPROM/example.ipynb#ch0000010?line=17'>18</a>\u001b[0m \u001b[39mprint\u001b[39m(\u001b[39mf\u001b[39m\u001b[39m\"\u001b[39m\u001b[39mMSE: \u001b[39m\u001b[39m{\u001b[39;00m\u001b[39mint\u001b[39m(mse\u001b[39m/\u001b[39m (\u001b[39m60\u001b[39m\u001b[39m*\u001b[39m\u001b[39m60\u001b[39m))\u001b[39m}\u001b[39;00m\u001b[39m hours  = \u001b[39m\u001b[39m{\u001b[39;00m\u001b[39mint\u001b[39m(mse \u001b[39m/\u001b[39m (\u001b[39m60\u001b[39m\u001b[39m*\u001b[39m\u001b[39m60\u001b[39m\u001b[39m*\u001b[39m\u001b[39m24\u001b[39m))\u001b[39m}\u001b[39;00m\u001b[39m days\u001b[39m\u001b[39m\"\u001b[39m)\n",
      "\u001b[1;32mc:\\Users\\Tim\\Development\\INFOMPROM\\example.ipynb Cell 10'\u001b[0m in \u001b[0;36mget_mae_mse\u001b[1;34m(y_test, y_preds)\u001b[0m\n\u001b[0;32m      <a href='vscode-notebook-cell:/c%3A/Users/Tim/Development/INFOMPROM/example.ipynb#ch0000010?line=1'>2</a>\u001b[0m mae \u001b[39m=\u001b[39m \u001b[39m0.0\u001b[39m\n\u001b[0;32m      <a href='vscode-notebook-cell:/c%3A/Users/Tim/Development/INFOMPROM/example.ipynb#ch0000010?line=2'>3</a>\u001b[0m mse \u001b[39m=\u001b[39m \u001b[39m0.0\u001b[39m\n\u001b[1;32m----> <a href='vscode-notebook-cell:/c%3A/Users/Tim/Development/INFOMPROM/example.ipynb#ch0000010?line=4'>5</a>\u001b[0m \u001b[39mfor\u001b[39;00m y_pred, y \u001b[39min\u001b[39;00m y_preds, y_test:\n\u001b[0;32m      <a href='vscode-notebook-cell:/c%3A/Users/Tim/Development/INFOMPROM/example.ipynb#ch0000010?line=5'>6</a>\u001b[0m     mae \u001b[39m+\u001b[39m\u001b[39m=\u001b[39m \u001b[39mabs\u001b[39m(y_pred \u001b[39m-\u001b[39m y)\n\u001b[0;32m      <a href='vscode-notebook-cell:/c%3A/Users/Tim/Development/INFOMPROM/example.ipynb#ch0000010?line=6'>7</a>\u001b[0m     mse \u001b[39m+\u001b[39m\u001b[39m=\u001b[39m (y_pred \u001b[39m-\u001b[39m y)\u001b[39m*\u001b[39m\u001b[39m*\u001b[39m\u001b[39m2\u001b[39m\n",
      "\u001b[1;31mValueError\u001b[0m: not enough values to unpack (expected 2, got 0)"
     ]
    }
   ],
   "source": [
    "def get_mae_mse(y_test,y_preds)->float:\n",
    "    mae = 0.0\n",
    "    mse = 0.0\n",
    "\n",
    "    for y_pred, y in y_preds, y_test:\n",
    "        mae += abs(y_pred - y)\n",
    "        mse += (y_pred - y)**2\n",
    "    \n",
    "    n = len(y_test)\n",
    "    mae = mae / n\n",
    "    mse = mse / n\n",
    "\n",
    "    return mae, mse\n",
    "\n",
    "mae_average, mse_average = get_mae_mse(y_test.tolist(),y_preds_average.tolist())\n",
    "\n",
    "print(f\"MAE: {round(mae_average/ (60*60))} hours  = {round(mae_average / (60*60*24))} days\") #get difference in hours instead of seconds\n",
    "print(f\"MSE: {int(mse_average/ (60*60))} hours  = {int(mse_average / (60*60*24))} days\") #get difference in hours instead of seconds\n"
   ]
  },
  {
   "cell_type": "code",
   "execution_count": null,
   "metadata": {},
   "outputs": [],
   "source": []
  }
 ],
 "metadata": {
  "kernelspec": {
   "display_name": "Python 3.10.4 ('venv': venv)",
   "language": "python",
   "name": "python3"
  },
  "language_info": {
   "codemirror_mode": {
    "name": "ipython",
    "version": 3
   },
   "file_extension": ".py",
   "mimetype": "text/x-python",
   "name": "python",
   "nbconvert_exporter": "python",
   "pygments_lexer": "ipython3",
   "version": "3.10.4"
  },
  "orig_nbformat": 4,
  "vscode": {
   "interpreter": {
    "hash": "d58c946d523da25b67c9c710fb95a4d23a654dcfdb423986d06f0a6f7387888f"
   }
  }
 },
 "nbformat": 4,
 "nbformat_minor": 2
}
