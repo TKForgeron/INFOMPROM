{
 "cells": [
  {
   "cell_type": "markdown",
   "metadata": {},
   "source": [
    "First, we need to import all necessary components."
   ]
  },
  {
   "cell_type": "code",
   "execution_count": 15,
   "metadata": {},
   "outputs": [],
   "source": [
    "import pickle\n",
    "import pandas as pd\n",
    "from src.custom_models import Average, Minimum, Maximum, SampleMean, Median, Mode\n",
    "from src.metrics import get_mae_mse\n",
    "from src.globals import (\n",
    "    PREPROCESSING_IN_FILE,\n",
    "    INPUTDATA_OBJECT,\n",
    "    ATS_OUT_FILE,\n",
    "    RANDOM_SEED,\n",
    "    TARGET_COLUMN,\n",
    "    DATE_COLS,\n",
    ")\n"
   ]
  },
  {
   "cell_type": "markdown",
   "metadata": {},
   "source": [
    "##### Loading the actual test values of the target variable y \n",
    "(with the same train-test-split as used in the experiment)"
   ]
  },
  {
   "cell_type": "code",
   "execution_count": 16,
   "metadata": {},
   "outputs": [],
   "source": [
    "\n",
    "with open(f'data/y_test.pkl', 'rb') as file:\n",
    "      y_test = pickle.load(file)\n",
    "\n",
    "y_test = y_test.tolist()"
   ]
  },
  {
   "cell_type": "markdown",
   "metadata": {},
   "source": [
    "##### Retrieving MAE and MSE for each model"
   ]
  },
  {
   "cell_type": "code",
   "execution_count": 17,
   "metadata": {},
   "outputs": [
    {
     "name": "stdout",
     "output_type": "stream",
     "text": [
      "Average()\n",
      "MAE: 213 hours  = 9 days\n",
      "MSE: 885782416 hours  = 36907601 days\n"
     ]
    }
   ],
   "source": [
    "with open(f'data/y_preds_Average().pkl', 'rb') as file:\n",
    "      y_preds_average = pickle.load(file)\n",
    "\n",
    "mae_average, mse_average = get_mae_mse(y_test, y_preds_average)\n",
    "\n",
    "print('Average()')\n",
    "print(f\"MAE: {round(mae_average/ (60*60))} hours  = {round(mae_average / (60*60*24))} days\") # get difference in hours instead of seconds\n",
    "print(f\"MSE: {round(mse_average/ (60*60))} hours  = {round(mse_average / (60*60*24))} days\") # get difference in hours instead of seconds\n"
   ]
  },
  {
   "cell_type": "code",
   "execution_count": 18,
   "metadata": {},
   "outputs": [
    {
     "name": "stdout",
     "output_type": "stream",
     "text": [
      "Median()\n",
      "MAE: 167 hours  = 7 days\n",
      "MSE: 988154601 hours  = 41173108 days\n"
     ]
    }
   ],
   "source": [
    "with open(f'data/y_preds_Median().pkl', 'rb') as file:\n",
    "      y_preds_median = pickle.load(file)\n",
    "\n",
    "mae_median, mse_median = get_mae_mse(y_test,y_preds_median)\n",
    "\n",
    "print('Median()')\n",
    "print(f\"MAE: {round(mae_median/ (60*60))} hours  = {round(mae_median / (60*60*24))} days\") # get difference in hours instead of seconds\n",
    "print(f\"MSE: {round(mse_median/ (60*60))} hours  = {round(mse_median / (60*60*24))} days\") # get difference in hours instead of seconds"
   ]
  },
  {
   "cell_type": "code",
   "execution_count": 19,
   "metadata": {},
   "outputs": [
    {
     "name": "stdout",
     "output_type": "stream",
     "text": [
      "Mode()\n",
      "MAE: 174 hours  = 7 days\n",
      "MSE: 4092 hours  = 170 days\n"
     ]
    }
   ],
   "source": [
    "with open(f'data/y_preds_Mode().pkl', 'rb') as file:\n",
    "      y_preds_mode = pickle.load(file)\n",
    "\n",
    "mae_mode, mse_mode = get_mae_mse(y_test,y_preds_mode)\n",
    "\n",
    "print('Mode()')\n",
    "print(f\"MAE: {round(mae_mode/ (60*60))} hours  = {round(mae_mode / (60*60*24))} days\") # get difference in hours instead of seconds\n",
    "print(f\"MSE: {round(mse_mode/ (60*60))} hours  = {round(mse_mode / (60*60*24))} days\") # get difference in hours instead of seconds\n"
   ]
  },
  {
   "cell_type": "code",
   "execution_count": 20,
   "metadata": {},
   "outputs": [
    {
     "name": "stdout",
     "output_type": "stream",
     "text": [
      "HistGradientBoostingRegressor()\n",
      "MAE: 57 hours  = 2 days\n",
      "MSE: 143324058 hours  = 5971836 days\n"
     ]
    }
   ],
   "source": [
    "with open(f'data/y_preds_HistGradientBoostingRegressor().pkl', 'rb') as file:\n",
    "      y_preds_hgb = pickle.load(file)\n",
    "\n",
    "mae_hgb, mse_hgb = get_mae_mse(y_test,y_preds_hgb)\n",
    "\n",
    "print('HistGradientBoostingRegressor()')\n",
    "print(f\"MAE: {round(mae_hgb/ (60*60))} hours  = {round(mae_hgb / (60*60*24))} days\") # get difference in hours instead of seconds\n",
    "print(f\"MSE: {round(mse_hgb/ (60*60))} hours  = {round(mse_hgb / (60*60*24))} days\") # get difference in hours instead of seconds\n"
   ]
  },
  {
   "cell_type": "code",
   "execution_count": 21,
   "metadata": {},
   "outputs": [
    {
     "ename": "FileNotFoundError",
     "evalue": "[Errno 2] No such file or directory: 'data/y_preds_LinearRegression().pkl'",
     "output_type": "error",
     "traceback": [
      "\u001b[1;31m---------------------------------------------------------------------------\u001b[0m",
      "\u001b[1;31mFileNotFoundError\u001b[0m                         Traceback (most recent call last)",
      "\u001b[1;32mc:\\Users\\Tim\\Development\\INFOMPROM\\metrics.ipynb Cell 10'\u001b[0m in \u001b[0;36m<cell line: 1>\u001b[1;34m()\u001b[0m\n\u001b[1;32m----> <a href='vscode-notebook-cell:/c%3A/Users/Tim/Development/INFOMPROM/metrics.ipynb#ch0000024?line=0'>1</a>\u001b[0m \u001b[39mwith\u001b[39;00m \u001b[39mopen\u001b[39;49m(\u001b[39mf\u001b[39;49m\u001b[39m'\u001b[39;49m\u001b[39mdata/y_preds_LinearRegression().pkl\u001b[39;49m\u001b[39m'\u001b[39;49m, \u001b[39m'\u001b[39;49m\u001b[39mrb\u001b[39;49m\u001b[39m'\u001b[39;49m) \u001b[39mas\u001b[39;00m file:\n\u001b[0;32m      <a href='vscode-notebook-cell:/c%3A/Users/Tim/Development/INFOMPROM/metrics.ipynb#ch0000024?line=1'>2</a>\u001b[0m       y_preds_lr \u001b[39m=\u001b[39m pickle\u001b[39m.\u001b[39mload(file)\n\u001b[0;32m      <a href='vscode-notebook-cell:/c%3A/Users/Tim/Development/INFOMPROM/metrics.ipynb#ch0000024?line=3'>4</a>\u001b[0m mae_lr, mse_lr \u001b[39m=\u001b[39m get_mae_mse(y_test,y_preds_lr)\n",
      "\u001b[1;31mFileNotFoundError\u001b[0m: [Errno 2] No such file or directory: 'data/y_preds_LinearRegression().pkl'"
     ]
    }
   ],
   "source": [
    "with open(f'data/y_preds_LinearRegression().pkl', 'rb') as file:\n",
    "      y_preds_lr = pickle.load(file)\n",
    "\n",
    "mae_lr, mse_lr = get_mae_mse(y_test,y_preds_lr)\n",
    "\n",
    "print('LinearRegression()')\n",
    "print(f\"MAE: {round(mae_lr/ (60*60))} hours  = {round(mae_lr / (60*60*24))} days\") # get difference in hours instead of seconds\n",
    "print(f\"MSE: {round(mse_lr/ (60*60))} hours  = {round(mse_lr / (60*60*24))} days\") # get difference in hours instead of seconds\n"
   ]
  },
  {
   "cell_type": "code",
   "execution_count": null,
   "metadata": {},
   "outputs": [
    {
     "name": "stdout",
     "output_type": "stream",
     "text": [
      "MAE: 178 hours  = 7 days\n",
      "MSE: 4122 hours  = 171 days\n"
     ]
    }
   ],
   "source": [
    "with open(f'data/y_preds_SVR().pkl', 'rb') as file:\n",
    "      y_preds_svr = pickle.load(file)\n",
    "\n",
    "mae_svr, mse_svr = get_mae_mse(y_test,y_preds_svr)\n",
    "\n",
    "print('SVR()')\n",
    "print(f\"MAE: {round(mae_hgb/ (60*60))} hours  = {round(mae_hgb / (60*60*24))} days\") # get difference in hours instead of seconds\n",
    "print(f\"MSE: {round(mse_hgb/ (60*60))} hours  = {round(mse_hgb / (60*60*24))} days\") # get difference in hours instead of seconds\n"
   ]
  },
  {
   "cell_type": "code",
   "execution_count": null,
   "metadata": {},
   "outputs": [
    {
     "name": "stdout",
     "output_type": "stream",
     "text": [
      "MAE: 178 hours  = 7 days\n",
      "MSE: 4122 hours  = 171 days\n"
     ]
    }
   ],
   "source": []
  }
 ],
 "metadata": {
  "kernelspec": {
   "display_name": "Python 3.10.4 ('venv': venv)",
   "language": "python",
   "name": "python3"
  },
  "language_info": {
   "codemirror_mode": {
    "name": "ipython",
    "version": 3
   },
   "file_extension": ".py",
   "mimetype": "text/x-python",
   "name": "python",
   "nbconvert_exporter": "python",
   "pygments_lexer": "ipython3",
   "version": "3.10.4"
  },
  "orig_nbformat": 4,
  "vscode": {
   "interpreter": {
    "hash": "d58c946d523da25b67c9c710fb95a4d23a654dcfdb423986d06f0a6f7387888f"
   }
  }
 },
 "nbformat": 4,
 "nbformat_minor": 2
}
