{
 "cells": [
  {
   "cell_type": "code",
   "execution_count": 10,
   "metadata": {},
   "outputs": [],
   "source": [
    "import model_builder as mb\n",
    "import numpy as np\n",
    "import pandas as pd\n"
   ]
  },
  {
   "cell_type": "code",
   "execution_count": 11,
   "metadata": {},
   "outputs": [],
   "source": [
    "ORG_DATA_DIR = \"data/incidentProcess_custom.csv\"\n",
    "PREP_DATA_DIR = \"./data/preprocessed_incident_process_custom.pkl\""
   ]
  },
  {
   "cell_type": "code",
   "execution_count": 12,
   "metadata": {},
   "outputs": [],
   "source": [
    "df = pd.read_pickle(PREP_DATA_DIR)"
   ]
  },
  {
   "cell_type": "code",
   "execution_count": 15,
   "metadata": {},
   "outputs": [
    {
     "data": {
      "text/html": [
       "<div>\n",
       "<style scoped>\n",
       "    .dataframe tbody tr th:only-of-type {\n",
       "        vertical-align: middle;\n",
       "    }\n",
       "\n",
       "    .dataframe tbody tr th {\n",
       "        vertical-align: top;\n",
       "    }\n",
       "\n",
       "    .dataframe thead th {\n",
       "        text-align: right;\n",
       "    }\n",
       "</style>\n",
       "<table border=\"1\" class=\"dataframe\">\n",
       "  <thead>\n",
       "    <tr style=\"text-align: right;\">\n",
       "      <th></th>\n",
       "      <th>Incident ID</th>\n",
       "      <th>Activity</th>\n",
       "      <th>ActivityTimeStamp</th>\n",
       "      <th>Asset Affected</th>\n",
       "      <th>Asset Type Affected</th>\n",
       "      <th>Asset SubType Affected</th>\n",
       "      <th>Service Affected</th>\n",
       "      <th>Status</th>\n",
       "      <th>Impact</th>\n",
       "      <th>Urgency</th>\n",
       "      <th>...</th>\n",
       "      <th>Reopen Time</th>\n",
       "      <th>Resolved Time</th>\n",
       "      <th>Close Time</th>\n",
       "      <th>Handle Time (Hours)</th>\n",
       "      <th>Closure Code</th>\n",
       "      <th>Asset Caused</th>\n",
       "      <th>Asset Type Caused</th>\n",
       "      <th>Asset SubType Caused</th>\n",
       "      <th>Service Caused</th>\n",
       "      <th>Assignment Group</th>\n",
       "    </tr>\n",
       "  </thead>\n",
       "  <tbody>\n",
       "    <tr>\n",
       "      <th>0</th>\n",
       "      <td>IM0000004</td>\n",
       "      <td>Assign to 2nd Line Operator</td>\n",
       "      <td>1357543037</td>\n",
       "      <td>SUB000508</td>\n",
       "      <td>subapplication</td>\n",
       "      <td>Web Based Application</td>\n",
       "      <td>SRVC000162</td>\n",
       "      <td>Closed</td>\n",
       "      <td>4</td>\n",
       "      <td>4</td>\n",
       "      <td>...</td>\n",
       "      <td>NaN</td>\n",
       "      <td>1.383569e+09</td>\n",
       "      <td>1383569477</td>\n",
       "      <td>3.871691e+09</td>\n",
       "      <td>Other</td>\n",
       "      <td>SUB000508</td>\n",
       "      <td>subapplication</td>\n",
       "      <td>Web Based Application</td>\n",
       "      <td>SRVC000162</td>\n",
       "      <td>TEAM0001</td>\n",
       "    </tr>\n",
       "    <tr>\n",
       "      <th>1</th>\n",
       "      <td>IM0000004</td>\n",
       "      <td>Assign to 1st Line Operator</td>\n",
       "      <td>1383563377</td>\n",
       "      <td>SUB000508</td>\n",
       "      <td>subapplication</td>\n",
       "      <td>Web Based Application</td>\n",
       "      <td>SRVC000162</td>\n",
       "      <td>Closed</td>\n",
       "      <td>4</td>\n",
       "      <td>4</td>\n",
       "      <td>...</td>\n",
       "      <td>NaN</td>\n",
       "      <td>1.383569e+09</td>\n",
       "      <td>1383569477</td>\n",
       "      <td>3.871691e+09</td>\n",
       "      <td>Other</td>\n",
       "      <td>SUB000508</td>\n",
       "      <td>subapplication</td>\n",
       "      <td>Web Based Application</td>\n",
       "      <td>SRVC000162</td>\n",
       "      <td>TEAM0003</td>\n",
       "    </tr>\n",
       "    <tr>\n",
       "      <th>2</th>\n",
       "      <td>IM0000004</td>\n",
       "      <td>Assign to 2nd Line Operator</td>\n",
       "      <td>1383563378</td>\n",
       "      <td>SUB000508</td>\n",
       "      <td>subapplication</td>\n",
       "      <td>Web Based Application</td>\n",
       "      <td>SRVC000162</td>\n",
       "      <td>Closed</td>\n",
       "      <td>4</td>\n",
       "      <td>4</td>\n",
       "      <td>...</td>\n",
       "      <td>NaN</td>\n",
       "      <td>1.383569e+09</td>\n",
       "      <td>1383569477</td>\n",
       "      <td>3.871691e+09</td>\n",
       "      <td>Other</td>\n",
       "      <td>SUB000508</td>\n",
       "      <td>subapplication</td>\n",
       "      <td>Web Based Application</td>\n",
       "      <td>SRVC000162</td>\n",
       "      <td>TEAM0003</td>\n",
       "    </tr>\n",
       "  </tbody>\n",
       "</table>\n",
       "<p>3 rows × 24 columns</p>\n",
       "</div>"
      ],
      "text/plain": [
       "  Incident ID                     Activity  ActivityTimeStamp Asset Affected  \\\n",
       "0   IM0000004  Assign to 2nd Line Operator         1357543037      SUB000508   \n",
       "1   IM0000004  Assign to 1st Line Operator         1383563377      SUB000508   \n",
       "2   IM0000004  Assign to 2nd Line Operator         1383563378      SUB000508   \n",
       "\n",
       "  Asset Type Affected Asset SubType Affected Service Affected  Status  Impact  \\\n",
       "0      subapplication  Web Based Application       SRVC000162  Closed       4   \n",
       "1      subapplication  Web Based Application       SRVC000162  Closed       4   \n",
       "2      subapplication  Web Based Application       SRVC000162  Closed       4   \n",
       "\n",
       "   Urgency  ...  Reopen Time Resolved Time  Close Time  Handle Time (Hours)  \\\n",
       "0        4  ...          NaN  1.383569e+09  1383569477         3.871691e+09   \n",
       "1        4  ...          NaN  1.383569e+09  1383569477         3.871691e+09   \n",
       "2        4  ...          NaN  1.383569e+09  1383569477         3.871691e+09   \n",
       "\n",
       "   Closure Code  Asset Caused  Asset Type Caused   Asset SubType Caused  \\\n",
       "0         Other     SUB000508     subapplication  Web Based Application   \n",
       "1         Other     SUB000508     subapplication  Web Based Application   \n",
       "2         Other     SUB000508     subapplication  Web Based Application   \n",
       "\n",
       "  Service Caused Assignment Group  \n",
       "0     SRVC000162         TEAM0001  \n",
       "1     SRVC000162         TEAM0003  \n",
       "2     SRVC000162         TEAM0003  \n",
       "\n",
       "[3 rows x 24 columns]"
      ]
     },
     "execution_count": 15,
     "metadata": {},
     "output_type": "execute_result"
    }
   ],
   "source": [
    "df.head(3)"
   ]
  },
  {
   "cell_type": "code",
   "execution_count": 19,
   "metadata": {},
   "outputs": [
    {
     "data": {
      "text/plain": [
       "3871691111.0"
      ]
     },
     "execution_count": 19,
     "metadata": {},
     "output_type": "execute_result"
    }
   ],
   "source": [
    "df.iloc[0,17]"
   ]
  }
 ],
 "metadata": {
  "interpreter": {
   "hash": "d58c946d523da25b67c9c710fb95a4d23a654dcfdb423986d06f0a6f7387888f"
  },
  "kernelspec": {
   "display_name": "Python 3.10.4 ('venv': venv)",
   "language": "python",
   "name": "python3"
  },
  "language_info": {
   "codemirror_mode": {
    "name": "ipython",
    "version": 3
   },
   "file_extension": ".py",
   "mimetype": "text/x-python",
   "name": "python",
   "nbconvert_exporter": "python",
   "pygments_lexer": "ipython3",
   "version": "3.10.4"
  },
  "orig_nbformat": 4
 },
 "nbformat": 4,
 "nbformat_minor": 2
}
