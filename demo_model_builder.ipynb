{
 "cells": [
  {
   "cell_type": "code",
   "execution_count": 9,
   "metadata": {},
   "outputs": [],
   "source": [
    "import model_builder as mb\n",
    "import numpy as np\n",
    "import csv\n",
    "import pandas as pd\n"
   ]
  },
  {
   "cell_type": "code",
   "execution_count": 86,
   "metadata": {},
   "outputs": [],
   "source": [
    "with open(\"data/incidentProcess_custom.csv\", \"r\") as x:\n",
    "    sample_data = list(csv.reader(x, delimiter=\"\\t\"))\n",
    "\n",
    "sample_data = np.array(sample_data,dtype=dts)\n",
    "# print(sample_data[:3,])"
   ]
  },
  {
   "cell_type": "code",
   "execution_count": 87,
   "metadata": {},
   "outputs": [
    {
     "data": {
      "text/plain": [
       "array([['ï»¿Incident ID', 'Activity', 'ActivityTimeStamp', ...,\n",
       "        'Asset SubType Caused', 'Service Caused', 'Assignment Group'],\n",
       "       ['IM0000004', 'Assign to 2nd Line Operator',\n",
       "        '2013-01-07 08:17:17.000', ..., 'Web Based Application',\n",
       "        'SRVC000162', 'TEAM0001'],\n",
       "       ['IM0000004', 'Assign to 1st Line Operator',\n",
       "        '2013-11-04 12:09:37.000', ..., 'Web Based Application',\n",
       "        'SRVC000162', 'TEAM0003'],\n",
       "       ...,\n",
       "       ['IM0047057', 'Open', '2014-03-31 17:24:50.000', ...,\n",
       "        'DataCenterEquipment', 'SRVC000267', 'TEAM0199'],\n",
       "       ['IM0047057', 'Assign to 1st Line Operator',\n",
       "        '2014-03-31 20:38:58.000', ..., 'DataCenterEquipment',\n",
       "        'SRVC000267', 'TEAM0134'],\n",
       "       ['IM0047057', 'Close', '2014-03-31 22:47:33.000', ...,\n",
       "        'DataCenterEquipment', 'SRVC000267', 'TEAM0134']], dtype=object)"
      ]
     },
     "execution_count": 87,
     "metadata": {},
     "output_type": "execute_result"
    }
   ],
   "source": [
    "sample_data"
   ]
  },
  {
   "cell_type": "code",
   "execution_count": 84,
   "metadata": {},
   "outputs": [
    {
     "ename": "ValueError",
     "evalue": "Wrong number of columns at line 82",
     "output_type": "error",
     "traceback": [
      "\u001b[1;31m---------------------------------------------------------------------------\u001b[0m",
      "\u001b[1;31mValueError\u001b[0m                                Traceback (most recent call last)",
      "\u001b[1;32mc:\\Users\\Tim\\Development\\ProcessMining\\demo_model_builder.ipynb Cell 3'\u001b[0m in \u001b[0;36m<cell line: 2>\u001b[1;34m()\u001b[0m\n\u001b[0;32m      <a href='vscode-notebook-cell:/c%3A/Users/Tim/Development/ProcessMining/demo_model_builder.ipynb#ch0000005?line=0'>1</a>\u001b[0m \u001b[39m# data = np.loadtxt('data/incidentProcess_custom.csv',delimiter='\\t',skiprows=1,dtype=dts)\u001b[39;00m\n\u001b[1;32m----> <a href='vscode-notebook-cell:/c%3A/Users/Tim/Development/ProcessMining/demo_model_builder.ipynb#ch0000005?line=1'>2</a>\u001b[0m data \u001b[39m=\u001b[39m np\u001b[39m.\u001b[39;49mloadtxt(\u001b[39m'\u001b[39;49m\u001b[39mdata/incidentProcess_custom.csv\u001b[39;49m\u001b[39m'\u001b[39;49m,delimiter\u001b[39m=\u001b[39;49m\u001b[39m'\u001b[39;49m\u001b[39m\\t\u001b[39;49;00m\u001b[39m'\u001b[39;49m,dtype\u001b[39m=\u001b[39;49m\u001b[39mstr\u001b[39;49m)\n",
      "File \u001b[1;32mc:\\Users\\Tim\\Development\\ProcessMining\\venv\\lib\\site-packages\\numpy\\lib\\npyio.py:1159\u001b[0m, in \u001b[0;36mloadtxt\u001b[1;34m(fname, dtype, comments, delimiter, converters, skiprows, usecols, unpack, ndmin, encoding, max_rows, like)\u001b[0m\n\u001b[0;32m   <a href='file:///c%3A/Users/Tim/Development/ProcessMining/venv/lib/site-packages/numpy/lib/npyio.py?line=1156'>1157</a>\u001b[0m     words \u001b[39m=\u001b[39m usecols_getter(words)\n\u001b[0;32m   <a href='file:///c%3A/Users/Tim/Development/ProcessMining/venv/lib/site-packages/numpy/lib/npyio.py?line=1157'>1158</a>\u001b[0m \u001b[39melif\u001b[39;00m \u001b[39mlen\u001b[39m(words) \u001b[39m!=\u001b[39m ncols:\n\u001b[1;32m-> <a href='file:///c%3A/Users/Tim/Development/ProcessMining/venv/lib/site-packages/numpy/lib/npyio.py?line=1158'>1159</a>\u001b[0m     \u001b[39mraise\u001b[39;00m \u001b[39mValueError\u001b[39;00m(\n\u001b[0;32m   <a href='file:///c%3A/Users/Tim/Development/ProcessMining/venv/lib/site-packages/numpy/lib/npyio.py?line=1159'>1160</a>\u001b[0m         \u001b[39mf\u001b[39m\u001b[39m\"\u001b[39m\u001b[39mWrong number of columns at line \u001b[39m\u001b[39m{\u001b[39;00mlineno\u001b[39m}\u001b[39;00m\u001b[39m\"\u001b[39m)\n\u001b[0;32m   <a href='file:///c%3A/Users/Tim/Development/ProcessMining/venv/lib/site-packages/numpy/lib/npyio.py?line=1160'>1161</a>\u001b[0m \u001b[39m# Convert each value according to its column, then pack it\u001b[39;00m\n\u001b[0;32m   <a href='file:///c%3A/Users/Tim/Development/ProcessMining/venv/lib/site-packages/numpy/lib/npyio.py?line=1161'>1162</a>\u001b[0m \u001b[39m# according to the dtype's nesting, and store it.\u001b[39;00m\n\u001b[0;32m   <a href='file:///c%3A/Users/Tim/Development/ProcessMining/venv/lib/site-packages/numpy/lib/npyio.py?line=1162'>1163</a>\u001b[0m chunk\u001b[39m.\u001b[39mappend(packer(convert_row(words)))\n",
      "\u001b[1;31mValueError\u001b[0m: Wrong number of columns at line 82"
     ]
    }
   ],
   "source": [
    "# data = np.loadtxt('data/incidentProcess_custom.csv',delimiter='\\t',skiprows=1,dtype=dts)\n",
    "data = np.loadtxt('data/incidentProcess_custom.csv',delimiter='\\t',dtype=str)"
   ]
  },
  {
   "cell_type": "code",
   "execution_count": 89,
   "metadata": {},
   "outputs": [
    {
     "data": {
      "text/plain": [
       "{'Incident ID': dtype('O'),\n",
       " 'Activity': dtype('O'),\n",
       " 'ActivityTimeStamp': dtype('<M8[ns]'),\n",
       " 'Asset Affected': dtype('O'),\n",
       " 'Asset Type Affected': dtype('O'),\n",
       " 'Asset SubType Affected': dtype('O'),\n",
       " 'Service Affected': dtype('O'),\n",
       " 'Status': dtype('O'),\n",
       " 'Impact': dtype('int64'),\n",
       " 'Urgency': dtype('int64'),\n",
       " 'Priority': dtype('int64'),\n",
       " 'Category': dtype('O'),\n",
       " 'Number of Reassignments': dtype('float64'),\n",
       " 'Open Time': dtype('<M8[ns]'),\n",
       " 'Reopen Time': dtype('<M8[ns]'),\n",
       " 'Resolved Time': dtype('O'),\n",
       " 'Close Time': dtype('<M8[ns]'),\n",
       " 'Handle Time (Hours)': dtype('O'),\n",
       " 'Closure Code': dtype('O'),\n",
       " 'Asset Caused': dtype('O'),\n",
       " 'Asset Type Caused': dtype('O'),\n",
       " 'Asset SubType Caused': dtype('O'),\n",
       " 'Service Caused': dtype('O'),\n",
       " 'Assignment Group': dtype('O'),\n",
       " 'Resolve Time': dtype('<M8[ns]')}"
      ]
     },
     "execution_count": 89,
     "metadata": {},
     "output_type": "execute_result"
    }
   ],
   "source": [
    "dts.to_dict()"
   ]
  },
  {
   "cell_type": "code",
   "execution_count": 92,
   "metadata": {},
   "outputs": [],
   "source": [
    "dtypes = {\n",
    "    \"Incident ID\": str,\n",
    "    \"Activity\": str,\n",
    "    \"ActivityTimeStamp\": str,\n",
    "    \"Asset Affected\": str,\n",
    "    \"Asset Type Affected\": str,\n",
    "    \"Asset SubType Affected\": str,\n",
    "    \"Service Affected\": str,\n",
    "    \"Status\": str,\n",
    "    \"Impact\": int,\n",
    "    \"Urgency\": int,\n",
    "    \"Priority\": int,\n",
    "    \"Category\": str,\n",
    "    \"Number of Reassignments\": float,\n",
    "    \"Open Time\": str,\n",
    "    \"Reopen Time\": str,\n",
    "    \"Resolved Time\": str,\n",
    "    \"Close Time\": str,\n",
    "    \"Handle Time (Hours)\": str,\n",
    "    \"Closure Code\": str,\n",
    "    \"Asset Caused\": str,\n",
    "    \"Asset Type Caused\": str,\n",
    "    \"Asset SubType Caused\": str,\n",
    "    \"Service Caused\": str,\n",
    "    \"Assignment Group\": str,\n",
    "}\n",
    "parse_dates = [\n",
    "    \"ActivityTimeStamp\",\n",
    "    \"Open Time\",\n",
    "    \"Reopen Time\",\n",
    "    \"Resolved Time\",\n",
    "    \"Close Time\",\n",
    "]\n",
    "df = pd.read_csv(\n",
    "    \"data/incidentProcess_custom.csv\",\n",
    "    delimiter=\"\\t\",\n",
    "    dtype=dtypes,\n",
    "    parse_dates=parse_dates,\n",
    ")\n",
    "# print(df.head(3))\n"
   ]
  },
  {
   "cell_type": "code",
   "execution_count": null,
   "metadata": {},
   "outputs": [],
   "source": []
  },
  {
   "cell_type": "code",
   "execution_count": 94,
   "metadata": {},
   "outputs": [
    {
     "ename": "TypeError",
     "evalue": "unhashable type: 'list'",
     "output_type": "error",
     "traceback": [
      "\u001b[1;31m---------------------------------------------------------------------------\u001b[0m",
      "\u001b[1;31mTypeError\u001b[0m                                 Traceback (most recent call last)",
      "\u001b[1;32mc:\\Users\\Tim\\Development\\ProcessMining\\demo_model_builder.ipynb Cell 8'\u001b[0m in \u001b[0;36m<cell line: 2>\u001b[1;34m()\u001b[0m\n\u001b[0;32m      <a href='vscode-notebook-cell:/c%3A/Users/Tim/Development/ProcessMining/demo_model_builder.ipynb#ch0000012?line=0'>1</a>\u001b[0m dtypes_with_unix \u001b[39m=\u001b[39m dtypes\n\u001b[1;32m----> <a href='vscode-notebook-cell:/c%3A/Users/Tim/Development/ProcessMining/demo_model_builder.ipynb#ch0000012?line=1'>2</a>\u001b[0m dtypes_with_unix[[\u001b[39m\"\u001b[39m\u001b[39mActivityTimeStamp\u001b[39m\u001b[39m\"\u001b[39m, \u001b[39m\"\u001b[39m\u001b[39mOpen Time\u001b[39m\u001b[39m\"\u001b[39m,\u001b[39m\"\u001b[39m\u001b[39mReopen Time\u001b[39m\u001b[39m\"\u001b[39m,\u001b[39m\"\u001b[39m\u001b[39mResolved Time\u001b[39m\u001b[39m\"\u001b[39m,\u001b[39m\"\u001b[39m\u001b[39mClose Time\u001b[39m\u001b[39m\"\u001b[39m]] \u001b[39m=\u001b[39m \u001b[39mint\u001b[39m\n\u001b[0;32m      <a href='vscode-notebook-cell:/c%3A/Users/Tim/Development/ProcessMining/demo_model_builder.ipynb#ch0000012?line=2'>3</a>\u001b[0m df\u001b[39m.\u001b[39mto_numpy(dtype\u001b[39m=\u001b[39mdtypes_with_unix)\n",
      "\u001b[1;31mTypeError\u001b[0m: unhashable type: 'list'"
     ]
    }
   ],
   "source": [
    "dtypes_with_unix = dtypes\n",
    "dtypes_with_unix[\"ActivityTimeStamp\"]= int\n",
    "dtypes_with_unix[\"Open Time\"]  = int\n",
    "dtypes_with_unix[\"Reopen Time\"] = int\n",
    "dtypes_with_unix[\"Resolved Time\"] = int\n",
    "dtypes_with_unix[\"Close Time\"] = int\n",
    "# df.to_numpy(dtype=dtypes_with_unix)"
   ]
  },
  {
   "cell_type": "code",
   "execution_count": 65,
   "metadata": {},
   "outputs": [],
   "source": [
    "\n",
    "df['ActivityTimeStamp'] = np.asarray(df['ActivityTimeStamp'], dtype=int)\n",
    "df['Open Time'] = pd.to_datetime(df['Open Time'],infer_datetime_format=True)\n",
    "df['Reopen Time'] = pd.to_datetime(df['Reopen Time'],infer_datetime_format=True)\n",
    "df['Resolve Time'] = pd.to_datetime(df['Resolved Time'],infer_datetime_format=True)\n",
    "df['Close Time'] = pd.to_datetime(df['Close Time'],infer_datetime_format=True)\n",
    "dts = df.dtypes"
   ]
  },
  {
   "cell_type": "code",
   "execution_count": 74,
   "metadata": {},
   "outputs": [
    {
     "data": {
      "text/plain": [
       "array([dtype('O'), dtype('O'), dtype('<M8[ns]'), dtype('O'), dtype('O'),\n",
       "       dtype('O'), dtype('O'), dtype('O'), dtype('int64'), dtype('int64'),\n",
       "       dtype('int64'), dtype('O'), dtype('float64'), dtype('<M8[ns]'),\n",
       "       dtype('<M8[ns]'), dtype('O'), dtype('<M8[ns]'), dtype('O'),\n",
       "       dtype('O'), dtype('O'), dtype('O'), dtype('O'), dtype('O'),\n",
       "       dtype('O'), dtype('<M8[ns]')], dtype=object)"
      ]
     },
     "execution_count": 74,
     "metadata": {},
     "output_type": "execute_result"
    }
   ],
   "source": [
    "dts.to_numpy()"
   ]
  },
  {
   "cell_type": "code",
   "execution_count": 3,
   "metadata": {},
   "outputs": [
    {
     "name": "stdout",
     "output_type": "stream",
     "text": [
      "[['ï»¿Incident ID' 'Activity' 'ActivityTimeStamp' ...\n",
      "  'Asset SubType Caused' 'Service Caused' 'Assignment Group']\n",
      " ['IM0000004' 'Assign to 2nd Line Operator' '2013-01-07 08:17:17.000' ...\n",
      "  'Web Based Application' 'SRVC000162' 'TEAM0001']\n",
      " ['IM0000004' 'Assign to 1st Line Operator' '2013-11-04 12:09:37.000' ...\n",
      "  'Web Based Application' 'SRVC000162' 'TEAM0003']\n",
      " ...\n",
      " ['IM0047057' 'Open' '2014-03-31 17:24:50.000' ... 'DataCenterEquipment'\n",
      "  'SRVC000267' 'TEAM0199']\n",
      " ['IM0047057' 'Assign to 1st Line Operator' '2014-03-31 20:38:58.000' ...\n",
      "  'DataCenterEquipment' 'SRVC000267' 'TEAM0134']\n",
      " ['IM0047057' 'Close' '2014-03-31 22:47:33.000' ... 'DataCenterEquipment'\n",
      "  'SRVC000267' 'TEAM0134']]\n"
     ]
    }
   ],
   "source": [
    "sample_data = np.array(sample_data)\n",
    "print(sample_data)\n",
    "\n",
    "# model_container = mb.Model_builder()\n"
   ]
  },
  {
   "cell_type": "code",
   "execution_count": null,
   "metadata": {},
   "outputs": [],
   "source": []
  }
 ],
 "metadata": {
  "interpreter": {
   "hash": "6ac824abf5f4d214559bf6a018d0920861f6d74a2a35f1dd9870c871d8d5e975"
  },
  "kernelspec": {
   "display_name": "Python 3.9.6 ('venv': venv)",
   "language": "python",
   "name": "python3"
  },
  "language_info": {
   "codemirror_mode": {
    "name": "ipython",
    "version": 3
   },
   "file_extension": ".py",
   "mimetype": "text/x-python",
   "name": "python",
   "nbconvert_exporter": "python",
   "pygments_lexer": "ipython3",
   "version": "3.10.4"
  },
  "orig_nbformat": 4
 },
 "nbformat": 4,
 "nbformat_minor": 2
}
