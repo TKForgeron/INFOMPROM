{
 "cells": [
  {
   "cell_type": "markdown",
   "metadata": {},
   "source": [
    "First, we need to import all necessary components."
   ]
  },
  {
   "cell_type": "code",
   "execution_count": 8,
   "metadata": {},
   "outputs": [],
   "source": [
    "import pickle\n",
    "import pandas as pd\n",
    "from src.custom_models import Average, Minimum, Maximum, SampleMean, Median, Mode\n",
    "from src.metrics import get_mae_mse\n",
    "from src.globals import (\n",
    "    PREPROCESSING_IN_FILE,\n",
    "    INPUTDATA_OBJECT,\n",
    "    ATS_OUT_FILE,\n",
    "    RANDOM_SEED,\n",
    "    TARGET_COLUMN,\n",
    "    DATE_COLS,\n",
    ")\n"
   ]
  },
  {
   "cell_type": "markdown",
   "metadata": {},
   "source": [
    "##### Loading the actual test values of the target variable y \n",
    "(with the same train-test-split as used in the experiment)"
   ]
  },
  {
   "cell_type": "code",
   "execution_count": 9,
   "metadata": {},
   "outputs": [],
   "source": [
    "\n",
    "with open(f'data/y_test.pkl', 'rb') as file:\n",
    "      y_test = pickle.load(file)\n",
    "\n",
    "y_test = y_test.tolist()"
   ]
  },
  {
   "cell_type": "markdown",
   "metadata": {},
   "source": [
    "##### Retrieving MAE and MSE for each model"
   ]
  },
  {
   "cell_type": "code",
   "execution_count": 10,
   "metadata": {},
   "outputs": [
    {
     "name": "stdout",
     "output_type": "stream",
     "text": [
      "Average()\n",
      "R^2: 0.057\n",
      "MAE: 213 hours  = 9 days\n",
      "MSE: 885782416 hours  = 36907601 days\n"
     ]
    }
   ],
   "source": [
    "with open(f'data/y_preds_Average().pkl', 'rb') as file:\n",
    "      y_preds_average = pickle.load(file)\n",
    "\n",
    "mae_average, mse_average, r2 = get_mae_mse(y_test, y_preds_average)\n",
    "\n",
    "print(f'Average()')\n",
    "print(f'R^2: {round(r2,3)}')\n",
    "print(f\"MAE: {round(mae_average/ (60*60))} hours  = {round(mae_average / (60*60*24))} days\") # get difference in hours instead of seconds\n",
    "print(f\"MSE: {round(mse_average/ (60*60))} hours  = {round(mse_average / (60*60*24))} days\") # get difference in hours instead of seconds"
   ]
  },
  {
   "cell_type": "code",
   "execution_count": 11,
   "metadata": {},
   "outputs": [
    {
     "name": "stdout",
     "output_type": "stream",
     "text": [
      "Median()\n",
      "R^2: -0.052\n",
      "MAE: 167 hours  = 7 days\n",
      "MSE: 988154601 hours  = 41173108 days\n"
     ]
    }
   ],
   "source": [
    "with open(f'data/y_preds_Median().pkl', 'rb') as file:\n",
    "      y_preds_median = pickle.load(file)\n",
    "\n",
    "mae_median, mse_median, r2 = get_mae_mse(y_test,y_preds_median)\n",
    "\n",
    "print(f'Median()')\n",
    "print(f'R^2: {round(r2,3)}')\n",
    "print(f\"MAE: {round(mae_median/ (60*60))} hours  = {round(mae_median / (60*60*24))} days\") # get difference in hours instead of seconds\n",
    "print(f\"MSE: {round(mse_median/ (60*60))} hours  = {round(mse_median / (60*60*24))} days\") # get difference in hours instead of seconds"
   ]
  },
  {
   "cell_type": "code",
   "execution_count": 18,
   "metadata": {},
   "outputs": [
    {
     "name": "stdout",
     "output_type": "stream",
     "text": [
      "Mode()\n",
      "R^2: 0.9999956456799848\n",
      "MAE: 174 hours  = 7 days\n",
      "MSE: 4092 hours  = 170 days\n"
     ]
    }
   ],
   "source": [
    "with open(f'data/y_preds_Mode().pkl', 'rb') as file:\n",
    "      y_preds_mode = pickle.load(file)\n",
    "\n",
    "mae_mode, mse_mode, r2 = get_mae_mse(y_test,y_preds_mode)\n",
    "\n",
    "print('Mode()')\n",
    "print(f'R^2: {round(r2,3)}')\n",
    "print(f\"MAE: {round(mae_mode/ (60*60))} hours  = {round(mae_mode / (60*60*24))} days\") # get difference in hours instead of seconds\n",
    "print(f\"MSE: {round(mse_mode/ (60*60))} hours  = {round(mse_mode / (60*60*24))} days\") # get difference in hours instead of seconds\n"
   ]
  },
  {
   "cell_type": "code",
   "execution_count": 13,
   "metadata": {},
   "outputs": [
    {
     "name": "stdout",
     "output_type": "stream",
     "text": [
      "HistGradientBoostingRegressor()\n",
      "R^2: 0.847\n",
      "MAE: 57 hours  = 2 days\n",
      "MSE: 143324058 hours  = 5971836 days\n"
     ]
    }
   ],
   "source": [
    "with open(f'data/y_preds_HistGradientBoostingRegressor().pkl', 'rb') as file:\n",
    "      y_preds_hgb = pickle.load(file)\n",
    "\n",
    "mae_hgb, mse_hgb, r2 = get_mae_mse(y_test,y_preds_hgb)\n",
    "\n",
    "print('HistGradientBoostingRegressor()')\n",
    "print(f'R^2: {round(r2,3)}')\n",
    "print(f\"MAE: {round(mae_hgb/ (60*60))} hours  = {round(mae_hgb / (60*60*24))} days\") # get difference in hours instead of seconds\n",
    "print(f\"MSE: {round(mse_hgb/ (60*60))} hours  = {round(mse_hgb / (60*60*24))} days\") # get difference in hours instead of seconds\n"
   ]
  },
  {
   "cell_type": "code",
   "execution_count": 14,
   "metadata": {},
   "outputs": [
    {
     "name": "stdout",
     "output_type": "stream",
     "text": [
      "LinearRegression()\n",
      "R^2: 0.39\n",
      "MAE: 220 hours  = 9 days\n",
      "MSE: 572758631 hours  = 23864943 days\n"
     ]
    }
   ],
   "source": [
    "with open(f'data/y_preds_LinearRegression().pkl', 'rb') as file:\n",
    "      y_preds_lr = pickle.load(file)\n",
    "\n",
    "mae_lr, mse_lr, r2 = get_mae_mse(y_test,y_preds_lr)\n",
    "\n",
    "print('LinearRegression()')\n",
    "print(f'R^2: {round(r2,3)}')\n",
    "print(f\"MAE: {round(mae_lr/ (60*60))} hours  = {round(mae_lr / (60*60*24))} days\") # get difference in hours instead of seconds\n",
    "print(f\"MSE: {round(mse_lr/ (60*60))} hours  = {round(mse_lr / (60*60*24))} days\") # get difference in hours instead of seconds\n"
   ]
  },
  {
   "cell_type": "code",
   "execution_count": 15,
   "metadata": {},
   "outputs": [
    {
     "name": "stdout",
     "output_type": "stream",
     "text": [
      "SVR()\n",
      "R^2: -0.052\n",
      "MAE: 57 hours  = 2 days\n",
      "MSE: 143324058 hours  = 5971836 days\n"
     ]
    }
   ],
   "source": [
    "with open(f'data/y_preds_SVR().pkl', 'rb') as file:\n",
    "      y_preds_svr = pickle.load(file)\n",
    "\n",
    "mae_svr, mse_svr, r2 = get_mae_mse(y_test,y_preds_svr)\n",
    "\n",
    "print('SVR()')\n",
    "print(f'R^2: {round(r2,3)}')\n",
    "print(f\"MAE: {round(mae_hgb/ (60*60))} hours  = {round(mae_hgb / (60*60*24))} days\") # get difference in hours instead of seconds\n",
    "print(f\"MSE: {round(mse_hgb/ (60*60))} hours  = {round(mse_hgb / (60*60*24))} days\") # get difference in hours instead of seconds\n"
   ]
  },
  {
   "cell_type": "code",
   "execution_count": 17,
   "metadata": {},
   "outputs": [
    {
     "name": "stdout",
     "output_type": "stream",
     "text": [
      "KNeighborsRegressor\n",
      "R^2: 0.799\n",
      "MAE: 46 hours  = 2 days\n",
      "MSE: 188426404 hours  = 7851100 days\n"
     ]
    }
   ],
   "source": [
    "with open(f'data/y_preds_KNeighborsRegressor(n_jobs=-1).pkl', 'rb') as file:\n",
    "      y_preds_knn = pickle.load(file)\n",
    "\n",
    "mae_knn, mse_knn, r2 = get_mae_mse(y_test,y_preds_knn)\n",
    "\n",
    "print('KNeighborsRegressor')\n",
    "print(f'R^2: {round(r2,3)}')\n",
    "print(f\"MAE: {round(mae_knn/ (60*60))} hours  = {round(mae_knn / (60*60*24))} days\") # get difference in hours instead of seconds\n",
    "print(f\"MSE: {round(mse_knn/ (60*60))} hours  = {round(mse_knn / (60*60*24))} days\") # get difference in hours instead of seconds\n"
   ]
  }
 ],
 "metadata": {
  "kernelspec": {
   "display_name": "Python 3.10.4 ('venv': venv)",
   "language": "python",
   "name": "python3"
  },
  "language_info": {
   "codemirror_mode": {
    "name": "ipython",
    "version": 3
   },
   "file_extension": ".py",
   "mimetype": "text/x-python",
   "name": "python",
   "nbconvert_exporter": "python",
   "pygments_lexer": "ipython3",
   "version": "3.10.4"
  },
  "orig_nbformat": 4,
  "vscode": {
   "interpreter": {
    "hash": "d58c946d523da25b67c9c710fb95a4d23a654dcfdb423986d06f0a6f7387888f"
   }
  }
 },
 "nbformat": 4,
 "nbformat_minor": 2
}
