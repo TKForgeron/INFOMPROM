{
 "cells": [
  {
   "cell_type": "markdown",
   "metadata": {},
   "source": [
    "First, we need to import all necessary components."
   ]
  },
  {
   "cell_type": "code",
   "execution_count": 53,
   "metadata": {},
   "outputs": [],
   "source": [
    "import pickle\n",
    "from src.metrics import *\n",
    "from src.globals import *\n",
    "from src.custom_models import *\n",
    "from sklearn.linear_model import LinearRegression\n",
    "from sklearn.neighbors import KNeighborsRegressor\n",
    "from sklearn.svm import SVR\n",
    "from sklearn.ensemble import HistGradientBoostingRegressor, BaggingRegressor\n"
   ]
  },
  {
   "cell_type": "markdown",
   "metadata": {},
   "source": [
    "##### Loading the actual test values of the target variable y \n",
    "(with the same train-test-split as used in the experiment)"
   ]
  },
  {
   "cell_type": "code",
   "execution_count": 54,
   "metadata": {},
   "outputs": [],
   "source": [
    "y_test=[]\n",
    "for target_var in TARGET_VARS:\n",
    "      with open(f'data/y_test_{target_var}.pkl', 'rb') as file:\n",
    "            pickled_var = pickle.load(file)\n",
    "            y_test.append(pickled_var.tolist())"
   ]
  },
  {
   "cell_type": "markdown",
   "metadata": {},
   "source": [
    "##### Retrieving MAE, RMSE, and R^2 for each model"
   ]
  },
  {
   "cell_type": "code",
   "execution_count": 55,
   "metadata": {},
   "outputs": [
    {
     "name": "stdout",
     "output_type": "stream",
     "text": [
      "--------------------------------\n",
      "Mean()\n",
      "R^2: 0.057\n",
      "MAE: 213 hours  = 9 days\n",
      "RMSE: 496 hours  = 21 days\n",
      "--------------------------------\n",
      "Mean()\n",
      "R^2: 0.141\n",
      "MAE: 3.96 activities\n",
      "RMSE: 7.3 activities\n"
     ]
    }
   ],
   "source": [
    "model = Mean()\n",
    "for i, target_var in enumerate(TARGET_VARS):\n",
    "      with open(f'data/y_preds_{target_var}_{model}.pkl', 'rb') as file:\n",
    "            y_preds = pickle.load(file)\n",
    "\n",
    "      mae, rmse, r2 = get_mae_rmse(y_test[i], y_preds)\n",
    "      ae = get_ae_vector(y_test[i], y_preds)\n",
    "      \n",
    "      if 'time' in target_var:\n",
    "            # ae to hourse\n",
    "            ae = list(map(lambda x: x / 60 / 60, ae))\n",
    "      with open(f\"data/ae_{target_var}_{model}.pkl\", \"wb\") as file:\n",
    "        pickle.dump(ae, file)\n",
    "\n",
    "      print('-' * 32)\n",
    "      print(model)\n",
    "      print(f'R^2: {round(r2,3)}')\n",
    "      if \"time\" in target_var:\n",
    "            print(f\"MAE: {round(mae/ (60*60))} hours  = {round(mae / (60*60*24))} days\") # get difference in hours instead of seconds\n",
    "            print(f\"RMSE: {round(rmse/ (60*60))} hours  = {round(rmse / (60*60*24))} days\") # get difference in hours instead of seconds\n",
    "      else:\n",
    "            print(f\"MAE: {round(mae,2)} activities\")\n",
    "            print(f\"RMSE: {round(rmse,2)} activities\")\n"
   ]
  },
  {
   "cell_type": "code",
   "execution_count": 56,
   "metadata": {},
   "outputs": [
    {
     "name": "stdout",
     "output_type": "stream",
     "text": [
      "--------------------------------\n",
      "Median()\n",
      "R^2: -0.052\n",
      "MAE: 167 hours  = 7 days\n",
      "RMSE: 524 hours  = 22 days\n",
      "--------------------------------\n",
      "Median()\n",
      "R^2: 0.039\n",
      "MAE: 3.46 activities\n",
      "RMSE: 7.72 activities\n"
     ]
    }
   ],
   "source": [
    "model = Median()\n",
    "for i, target_var in enumerate(TARGET_VARS):\n",
    "      with open(f'data/y_preds_{target_var}_{model}.pkl', 'rb') as file:\n",
    "            y_preds = pickle.load(file)\n",
    "\n",
    "      mae, rmse, r2 = get_mae_rmse(y_test[i], y_preds)\n",
    "      ae = get_ae_vector(y_test[i], y_preds)\n",
    "      \n",
    "      if 'time' in target_var:\n",
    "            # ae to hourse\n",
    "            ae = list(map(lambda x: x / 60 / 60, ae))\n",
    "      with open(f\"data/ae_{target_var}_{model}.pkl\", \"wb\") as file:\n",
    "        pickle.dump(ae, file)\n",
    "\n",
    "      print('-' * 32)\n",
    "      print(model)\n",
    "      print(f'R^2: {round(r2,3)}')\n",
    "      if \"time\" in target_var:\n",
    "            print(f\"MAE: {round(mae/ (60*60))} hours  = {round(mae / (60*60*24))} days\") # get difference in hours instead of seconds\n",
    "            print(f\"RMSE: {round(rmse/ (60*60))} hours  = {round(rmse / (60*60*24))} days\") # get difference in hours instead of seconds\n",
    "      else:\n",
    "            print(f\"MAE: {round(mae,2)} activities\")\n",
    "            print(f\"RMSE: {round(rmse,2)} activities\")\n"
   ]
  },
  {
   "cell_type": "code",
   "execution_count": 57,
   "metadata": {},
   "outputs": [
    {
     "name": "stdout",
     "output_type": "stream",
     "text": [
      "--------------------------------\n",
      "Mode()\n",
      "R^2: 1.0\n",
      "MAE: 174 hours  = 7 days\n",
      "RMSE: 1 hours  = 0 days\n",
      "--------------------------------\n",
      "Mode()\n",
      "R^2: -0.12\n",
      "MAE: 3.7 activities\n",
      "RMSE: 8.33 activities\n"
     ]
    }
   ],
   "source": [
    "model = Mode()\n",
    "for i, target_var in enumerate(TARGET_VARS):\n",
    "      with open(f'data/y_preds_{target_var}_{model}.pkl', 'rb') as file:\n",
    "            y_preds = pickle.load(file)\n",
    "\n",
    "      mae, rmse, r2 = get_mae_rmse(y_test[i], y_preds)\n",
    "      ae = get_ae_vector(y_test[i], y_preds)\n",
    "      \n",
    "      if 'time' in target_var:\n",
    "            # ae to hourse\n",
    "            ae = list(map(lambda x: x / 60 / 60, ae))\n",
    "      \n",
    "      with open(f\"data/ae_{target_var}_{model}.pkl\", \"wb\") as file:\n",
    "        pickle.dump(ae, file)\n",
    "\n",
    "      print('-' * 32)\n",
    "      print(model)\n",
    "      print(f'R^2: {round(r2,3)}')\n",
    "      if \"time\" in target_var:\n",
    "            print(f\"MAE: {round(mae/ (60*60))} hours  = {round(mae / (60*60*24))} days\") # get difference in hours instead of seconds\n",
    "            print(f\"RMSE: {round(rmse/ (60*60))} hours  = {round(rmse / (60*60*24))} days\") # get difference in hours instead of seconds\n",
    "      else:\n",
    "            print(f\"MAE: {round(mae,2)} activities\")\n",
    "            print(f\"RMSE: {round(rmse,2)} activities\")\n",
    "            "
   ]
  },
  {
   "cell_type": "code",
   "execution_count": 58,
   "metadata": {},
   "outputs": [
    {
     "name": "stdout",
     "output_type": "stream",
     "text": [
      "--------------------------------\n",
      "HistGradientBoostingRegressor(random_state=42)\n",
      "R^2: 0.852\n",
      "MAE: 54 hours  = 2 days\n",
      "RMSE: 197 hours  = 8 days\n",
      "--------------------------------\n",
      "HistGradientBoostingRegressor(random_state=42)\n",
      "R^2: 0.408\n",
      "MAE: 3.14 activities\n",
      "RMSE: 6.06 activities\n"
     ]
    }
   ],
   "source": [
    "model = HistGradientBoostingRegressor(random_state=RANDOM_SEED)\n",
    "for i, target_var in enumerate(TARGET_VARS):\n",
    "      with open(f'data/y_preds_{target_var}_{model}.pkl', 'rb') as file:\n",
    "            y_preds = pickle.load(file)\n",
    "\n",
    "      mae, rmse, r2 = get_mae_rmse(y_test[i], y_preds)\n",
    "      ae = get_ae_vector(y_test[i], y_preds)\n",
    "      \n",
    "      if 'time' in target_var:\n",
    "            # ae to hourse\n",
    "            ae = list(map(lambda x: x / 60 / 60, ae))\n",
    "      \n",
    "      with open(f\"data/ae_{target_var}_{model}.pkl\", \"wb\") as file:\n",
    "        pickle.dump(ae, file)\n",
    "\n",
    "      print('-' * 32)\n",
    "      print(model)\n",
    "      print(f'R^2: {round(r2,3)}')\n",
    "      if \"time\" in target_var:\n",
    "            print(f\"MAE: {round(mae/ (60*60))} hours  = {round(mae / (60*60*24))} days\") # get difference in hours instead of seconds\n",
    "            print(f\"RMSE: {round(rmse/ (60*60))} hours  = {round(rmse / (60*60*24))} days\") # get difference in hours instead of seconds\n",
    "      else:\n",
    "            print(f\"MAE: {round(mae,2)} activities\")\n",
    "            print(f\"RMSE: {round(rmse,2)} activities\")\n"
   ]
  },
  {
   "cell_type": "code",
   "execution_count": 59,
   "metadata": {},
   "outputs": [
    {
     "name": "stdout",
     "output_type": "stream",
     "text": [
      "--------------------------------\n",
      "LinearRegression()\n",
      "R^2: 0.39\n",
      "MAE: 220 hours  = 9 days\n",
      "RMSE: 399 hours  = 17 days\n",
      "--------------------------------\n",
      "LinearRegression()\n",
      "R^2: 0.223\n",
      "MAE: 3.83 activities\n",
      "RMSE: 6.94 activities\n"
     ]
    }
   ],
   "source": [
    "model = LinearRegression()\n",
    "for i, target_var in enumerate(TARGET_VARS):\n",
    "      with open(f'data/y_preds_{target_var}_{model}.pkl', 'rb') as file:\n",
    "            y_preds = pickle.load(file)\n",
    "\n",
    "      mae, rmse, r2 = get_mae_rmse(y_test[i], y_preds)\n",
    "      ae = get_ae_vector(y_test[i], y_preds)\n",
    "      \n",
    "      if 'time' in target_var:\n",
    "            # ae to hourse\n",
    "            ae = list(map(lambda x: x / 60 / 60, ae))\n",
    "      \n",
    "      with open(f\"data/ae_{target_var}_{model}.pkl\", \"wb\") as file:\n",
    "        pickle.dump(ae, file)\n",
    "\n",
    "      print('-' * 32)\n",
    "      print(model)\n",
    "      print(f'R^2: {round(r2,3)}')\n",
    "      if \"time\" in target_var:\n",
    "            print(f\"MAE: {round(mae/ (60*60))} hours  = {round(mae / (60*60*24))} days\") # get difference in hours instead of seconds\n",
    "            print(f\"RMSE: {round(rmse/ (60*60))} hours  = {round(rmse / (60*60*24))} days\") # get difference in hours instead of seconds\n",
    "      else:\n",
    "            print(f\"MAE: {round(mae,2)} activities\")\n",
    "            print(f\"RMSE: {round(rmse,2)} activities\")\n",
    "            "
   ]
  },
  {
   "cell_type": "code",
   "execution_count": 60,
   "metadata": {},
   "outputs": [
    {
     "name": "stdout",
     "output_type": "stream",
     "text": [
      "--------------------------------\n",
      "SVR()\n",
      "R^2: -0.052\n",
      "MAE: 167 hours  = 7 days\n",
      "RMSE: 524 hours  = 22 days\n",
      "--------------------------------\n",
      "SVR()\n",
      "R^2: 0.044\n",
      "MAE: 3.46 activities\n",
      "RMSE: 7.7 activities\n"
     ]
    }
   ],
   "source": [
    "model = SVR()\n",
    "for i, target_var in enumerate(TARGET_VARS):\n",
    "      with open(f'data/y_preds_{target_var}_{model}.pkl', 'rb') as file:\n",
    "            y_preds = pickle.load(file)\n",
    "\n",
    "      mae, rmse, r2 = get_mae_rmse(y_test[i], y_preds)\n",
    "      ae = get_ae_vector(y_test[i], y_preds)\n",
    "      \n",
    "      if 'time' in target_var:\n",
    "            # ae to hourse\n",
    "            ae = list(map(lambda x: x / 60 / 60, ae))\n",
    "      \n",
    "      with open(f\"data/ae_{target_var}_{model}.pkl\", \"wb\") as file:\n",
    "        pickle.dump(ae, file)\n",
    "\n",
    "      print('-' * 32)\n",
    "      print(model)\n",
    "      print(f'R^2: {round(r2,3)}')\n",
    "      if \"time\" in target_var:\n",
    "            print(f\"MAE: {round(mae/ (60*60))} hours  = {round(mae / (60*60*24))} days\") # get difference in hours instead of seconds\n",
    "            print(f\"RMSE: {round(rmse/ (60*60))} hours  = {round(rmse / (60*60*24))} days\") # get difference in hours instead of seconds\n",
    "      else:\n",
    "            print(f\"MAE: {round(mae,2)} activities\")\n",
    "            print(f\"RMSE: {round(rmse,2)} activities\")"
   ]
  },
  {
   "cell_type": "code",
   "execution_count": 61,
   "metadata": {},
   "outputs": [
    {
     "name": "stdout",
     "output_type": "stream",
     "text": [
      "--------------------------------\n",
      "KNeighborsRegressor(n_jobs=-1)\n",
      "R^2: 0.799\n",
      "MAE: 46 hours  = 2 days\n",
      "RMSE: 229 hours  = 10 days\n",
      "--------------------------------\n",
      "KNeighborsRegressor(n_jobs=-1)\n",
      "R^2: 0.123\n",
      "MAE: 3.36 activities\n",
      "RMSE: 7.37 activities\n"
     ]
    }
   ],
   "source": [
    "model = KNeighborsRegressor(n_jobs=-1)\n",
    "for i, target_var in enumerate(TARGET_VARS):\n",
    "      with open(f'data/y_preds_{target_var}_{model}.pkl', 'rb') as file:\n",
    "            y_preds = pickle.load(file)\n",
    "\n",
    "      mae, rmse, r2 = get_mae_rmse(y_test[i], y_preds)\n",
    "      ae = get_ae_vector(y_test[i], y_preds)\n",
    "      \n",
    "      if 'time' in target_var:\n",
    "            # ae to hourse\n",
    "            ae = list(map(lambda x: x / 60 / 60, ae))\n",
    "      \n",
    "      with open(f\"data/ae_{target_var}_{model}.pkl\", \"wb\") as file:\n",
    "        pickle.dump(ae, file)\n",
    "\n",
    "      print('-' * 32)\n",
    "      print(model)\n",
    "      print(f'R^2: {round(r2,3)}')\n",
    "      if \"time\" in target_var:\n",
    "            print(f\"MAE: {round(mae/ (60*60))} hours  = {round(mae / (60*60*24))} days\") # get difference in hours instead of seconds\n",
    "            print(f\"RMSE: {round(rmse/ (60*60))} hours  = {round(rmse / (60*60*24))} days\") # get difference in hours instead of seconds\n",
    "      else:\n",
    "            print(f\"MAE: {round(mae,2)} activities\")\n",
    "            print(f\"RMSE: {round(rmse,2)} activities\")"
   ]
  },
  {
   "cell_type": "code",
   "execution_count": 62,
   "metadata": {},
   "outputs": [
    {
     "name": "stdout",
     "output_type": "stream",
     "text": [
      "--------------------------------\n",
      "BaggingRegressor(n_jobs=-1)\n",
      "R^2: 0.86\n",
      "MAE: 38 hours  = 2 days\n",
      "RMSE: 191 hours  = 8 days\n",
      "--------------------------------\n",
      "BaggingRegressor(n_jobs=-1)\n",
      "R^2: 0.357\n",
      "MAE: 3.02 activities\n",
      "RMSE: 6.31 activities\n"
     ]
    }
   ],
   "source": [
    "model = BaggingRegressor(n_jobs=-1)\n",
    "for i, target_var in enumerate(TARGET_VARS):\n",
    "      with open(f'data/y_preds_{target_var}_{model}.pkl', 'rb') as file:\n",
    "            y_preds = pickle.load(file)\n",
    "\n",
    "      mae, rmse, r2 = get_mae_rmse(y_test[i], y_preds)\n",
    "      ae = get_ae_vector(y_test[i], y_preds)\n",
    "      \n",
    "      if 'time' in target_var:\n",
    "            # ae to hours\n",
    "            ae = list(map(lambda x: x / 60 / 60, ae))\n",
    "      \n",
    "      with open(f\"data/ae_{target_var}_{model}.pkl\", \"wb\") as file:\n",
    "        pickle.dump(ae, file)\n",
    "\n",
    "      print('-' * 32)\n",
    "      print(model)\n",
    "      print(f'R^2: {round(r2,3)}')\n",
    "      if \"time\" in target_var:\n",
    "            print(f\"MAE: {round(mae/ (60*60))} hours  = {round(mae / (60*60*24))} days\") # get difference in hours instead of seconds\n",
    "            print(f\"RMSE: {round(rmse/ (60*60))} hours  = {round(rmse / (60*60*24))} days\") # get difference in hours instead of seconds\n",
    "      else:\n",
    "            print(f\"MAE: {round(mae,2)} activities\")\n",
    "            print(f\"RMSE: {round(rmse,2)} activities\")"
   ]
  },
  {
   "cell_type": "code",
   "execution_count": null,
   "metadata": {},
   "outputs": [],
   "source": []
  }
 ],
 "metadata": {
  "kernelspec": {
   "display_name": "Python 3.10.4 ('venv': venv)",
   "language": "python",
   "name": "python3"
  },
  "language_info": {
   "codemirror_mode": {
    "name": "ipython",
    "version": 3
   },
   "file_extension": ".py",
   "mimetype": "text/x-python",
   "name": "python",
   "nbconvert_exporter": "python",
   "pygments_lexer": "ipython3",
   "version": "3.10.4"
  },
  "orig_nbformat": 4,
  "vscode": {
   "interpreter": {
    "hash": "d58c946d523da25b67c9c710fb95a4d23a654dcfdb423986d06f0a6f7387888f"
   }
  }
 },
 "nbformat": 4,
 "nbformat_minor": 2
}
