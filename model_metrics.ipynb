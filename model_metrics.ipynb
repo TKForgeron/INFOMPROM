{
 "cells": [
  {
   "cell_type": "markdown",
   "metadata": {},
   "source": [
    "First, we need to import all necessary components."
   ]
  },
  {
   "cell_type": "code",
   "execution_count": 12,
   "metadata": {},
   "outputs": [],
   "source": [
    "import pickle\n",
    "import pandas as pd\n",
    "from src.custom_models import Mean, Minimum, Maximum, SampleMean, Median, Mode\n",
    "from src.metrics import get_mae_rmse\n",
    "from src.globals import (\n",
    "    PREPROCESSING_IN_FILE,\n",
    "    INPUTDATA_OBJECT,\n",
    "    ATS_OUT_FILE,\n",
    "    RANDOM_SEED,\n",
    "    TARGET_COLUMN,\n",
    "    DATE_COLS,\n",
    ")\n"
   ]
  },
  {
   "cell_type": "markdown",
   "metadata": {},
   "source": [
    "##### Loading the actual test values of the target variable y \n",
    "(with the same train-test-split as used in the experiment)"
   ]
  },
  {
   "cell_type": "code",
   "execution_count": 13,
   "metadata": {},
   "outputs": [],
   "source": [
    "\n",
    "with open(f'data/y_test.pkl', 'rb') as file:\n",
    "      y_test = pickle.load(file)\n",
    "\n",
    "y_test = y_test.tolist()"
   ]
  },
  {
   "cell_type": "markdown",
   "metadata": {},
   "source": [
    "##### Retrieving MAE and MSE for each model"
   ]
  },
  {
   "cell_type": "code",
   "execution_count": 14,
   "metadata": {},
   "outputs": [
    {
     "name": "stdout",
     "output_type": "stream",
     "text": [
      "Mean()\n",
      "R^2: 0.057\n",
      "MAE: 213 hours  = 9 days\n",
      "RMSE: 496 hours  = 21 days\n"
     ]
    }
   ],
   "source": [
    "with open(f'data/y_preds_Mean().pkl', 'rb') as file:\n",
    "      y_preds_average = pickle.load(file)\n",
    "\n",
    "mae_average, rmse_average, r2 = get_mae_rmse(y_test, y_preds_average)\n",
    "\n",
    "print(f'Mean()')\n",
    "print(f'R^2: {round(r2,3)}')\n",
    "print(f\"MAE: {round(mae_average/ (60*60))} hours  = {round(mae_average / (60*60*24))} days\") # get difference in hours instead of seconds\n",
    "print(f\"RMSE: {round(rmse_average/ (60*60))} hours  = {round(rmse_average / (60*60*24))} days\") # get difference in hours instead of seconds"
   ]
  },
  {
   "cell_type": "code",
   "execution_count": 15,
   "metadata": {},
   "outputs": [
    {
     "name": "stdout",
     "output_type": "stream",
     "text": [
      "Median()\n",
      "R^2: -0.052\n",
      "MAE: 167 hours  = 7 days\n",
      "RMSE: 524 hours  = 22 days\n"
     ]
    }
   ],
   "source": [
    "with open(f'data/y_preds_Median().pkl', 'rb') as file:\n",
    "      y_preds_median = pickle.load(file)\n",
    "\n",
    "mae_median, rmse_median, r2 = get_mae_rmse(y_test,y_preds_median)\n",
    "\n",
    "print(f'Median()')\n",
    "print(f'R^2: {round(r2,3)}')\n",
    "print(f\"MAE: {round(mae_median/ (60*60))} hours  = {round(mae_median / (60*60*24))} days\") # get difference in hours instead of seconds\n",
    "print(f\"RMSE: {round(rmse_median/ (60*60))} hours  = {round(rmse_median / (60*60*24))} days\") # get difference in hours instead of seconds"
   ]
  },
  {
   "cell_type": "code",
   "execution_count": 16,
   "metadata": {},
   "outputs": [
    {
     "name": "stdout",
     "output_type": "stream",
     "text": [
      "Mode()\n",
      "R^2: 1.0\n",
      "MAE: 174 hours  = 7 days\n",
      "RMSE: 1 hours  = 0 days\n"
     ]
    }
   ],
   "source": [
    "with open(f'data/y_preds_Mode().pkl', 'rb') as file:\n",
    "      y_preds_mode = pickle.load(file)\n",
    "\n",
    "mae_mode, rmse_mode, r2 = get_mae_rmse(y_test,y_preds_mode)\n",
    "\n",
    "print('Mode()')\n",
    "print(f'R^2: {round(r2,3)}')\n",
    "print(f\"MAE: {round(mae_mode/ (60*60))} hours  = {round(mae_mode / (60*60*24))} days\") # get difference in hours instead of seconds\n",
    "print(f\"RMSE: {round(rmse_mode/ (60*60))} hours  = {round(rmse_mode / (60*60*24))} days\") # get difference in hours instead of seconds\n"
   ]
  },
  {
   "cell_type": "code",
   "execution_count": 17,
   "metadata": {},
   "outputs": [
    {
     "name": "stdout",
     "output_type": "stream",
     "text": [
      "HistGradientBoostingRegressor()\n",
      "R^2: 0.839\n",
      "MAE: 58 hours  = 2 days\n",
      "RMSE: 205 hours  = 9 days\n"
     ]
    }
   ],
   "source": [
    "with open(f'data/y_preds_HistGradientBoostingRegressor().pkl', 'rb') as file:\n",
    "      y_preds_hgb = pickle.load(file)\n",
    "\n",
    "mae_hgb, rmse_hgb, r2 = get_mae_rmse(y_test,y_preds_hgb)\n",
    "\n",
    "print('HistGradientBoostingRegressor()')\n",
    "print(f'R^2: {round(r2,3)}')\n",
    "print(f\"MAE: {round(mae_hgb/ (60*60))} hours  = {round(mae_hgb / (60*60*24))} days\") # get difference in hours instead of seconds\n",
    "print(f\"RMSE: {round(rmse_hgb/ (60*60))} hours  = {round(rmse_hgb / (60*60*24))} days\") # get difference in hours instead of seconds\n"
   ]
  },
  {
   "cell_type": "code",
   "execution_count": 18,
   "metadata": {},
   "outputs": [
    {
     "ename": "FileNotFoundError",
     "evalue": "[Errno 2] No such file or directory: 'data/y_preds_NaN_HistGradientBoostingRegressor().pkl'",
     "output_type": "error",
     "traceback": [
      "\u001b[1;31m---------------------------------------------------------------------------\u001b[0m",
      "\u001b[1;31mFileNotFoundError\u001b[0m                         Traceback (most recent call last)",
      "\u001b[1;32mc:\\Users\\Tim\\Development\\INFOMPROM\\model_metrics.ipynb Cell 10'\u001b[0m in \u001b[0;36m<cell line: 1>\u001b[1;34m()\u001b[0m\n\u001b[1;32m----> <a href='vscode-notebook-cell:/c%3A/Users/Tim/Development/INFOMPROM/model_metrics.ipynb#ch0000009?line=0'>1</a>\u001b[0m \u001b[39mwith\u001b[39;00m \u001b[39mopen\u001b[39;49m(\u001b[39mf\u001b[39;49m\u001b[39m'\u001b[39;49m\u001b[39mdata/y_preds_NaN_HistGradientBoostingRegressor().pkl\u001b[39;49m\u001b[39m'\u001b[39;49m, \u001b[39m'\u001b[39;49m\u001b[39mrb\u001b[39;49m\u001b[39m'\u001b[39;49m) \u001b[39mas\u001b[39;00m file:\n\u001b[0;32m      <a href='vscode-notebook-cell:/c%3A/Users/Tim/Development/INFOMPROM/model_metrics.ipynb#ch0000009?line=1'>2</a>\u001b[0m       y_preds_hgb \u001b[39m=\u001b[39m pickle\u001b[39m.\u001b[39mload(file)\n\u001b[0;32m      <a href='vscode-notebook-cell:/c%3A/Users/Tim/Development/INFOMPROM/model_metrics.ipynb#ch0000009?line=3'>4</a>\u001b[0m mae_hgb, rmse_hgb, r2 \u001b[39m=\u001b[39m get_mae_rmse(y_test,y_preds_hgb)\n",
      "\u001b[1;31mFileNotFoundError\u001b[0m: [Errno 2] No such file or directory: 'data/y_preds_NaN_HistGradientBoostingRegressor().pkl'"
     ]
    }
   ],
   "source": [
    "with open(f'data/y_preds_NaN_HistGradientBoostingRegressor().pkl', 'rb') as file:\n",
    "      y_preds_hgb = pickle.load(file)\n",
    "\n",
    "mae_hgb, rmse_hgb, r2 = get_mae_rmse(y_test,y_preds_hgb)\n",
    "\n",
    "print('HistGradientBoostingRegressor() with NaNs')\n",
    "print(f'R^2: {round(r2,3)}')\n",
    "print(f\"MAE: {round(mae_hgb/ (60*60))} hours  = {round(mae_hgb / (60*60*24))} days\") # get difference in hours instead of seconds\n",
    "print(f\"RMSE: {round(rmse_hgb/ (60*60))} hours  = {round(rmse_hgb / (60*60*24))} days\") # get difference in hours instead of seconds\n"
   ]
  },
  {
   "cell_type": "code",
   "execution_count": 20,
   "metadata": {},
   "outputs": [
    {
     "name": "stdout",
     "output_type": "stream",
     "text": [
      "LinearRegression()\n",
      "R^2: 0.39\n",
      "MAE: 220 hours  = 9 days\n",
      "RMSE: 399 hours  = 17 days\n"
     ]
    }
   ],
   "source": [
    "with open(f'data/y_preds_LinearRegression().pkl', 'rb') as file:\n",
    "      y_preds_lr = pickle.load(file)\n",
    "\n",
    "mae_lr, rmse_lr, r2 = get_mae_rmse(y_test,y_preds_lr)\n",
    "\n",
    "print('LinearRegression()')\n",
    "print(f'R^2: {round(r2,3)}')\n",
    "print(f\"MAE: {round(mae_lr/ (60*60))} hours  = {round(mae_lr / (60*60*24))} days\") # get difference in hours instead of seconds\n",
    "print(f\"RMSE: {round(rmse_lr/ (60*60))} hours  = {round(rmse_lr / (60*60*24))} days\") # get difference in hours instead of seconds\n"
   ]
  },
  {
   "cell_type": "code",
   "execution_count": 21,
   "metadata": {},
   "outputs": [
    {
     "name": "stdout",
     "output_type": "stream",
     "text": [
      "SVR()\n",
      "R^2: -0.052\n",
      "MAE: 58 hours  = 2 days\n",
      "RMSE: 205 hours  = 9 days\n"
     ]
    }
   ],
   "source": [
    "with open(f'data/y_preds_SVR().pkl', 'rb') as file:\n",
    "      y_preds_svr = pickle.load(file)\n",
    "\n",
    "mae_svr, rmse_svr, r2 = get_mae_rmse(y_test,y_preds_svr)\n",
    "\n",
    "print('SVR()')\n",
    "print(f'R^2: {round(r2,3)}')\n",
    "print(f\"MAE: {round(mae_hgb/ (60*60))} hours  = {round(mae_hgb / (60*60*24))} days\") # get difference in hours instead of seconds\n",
    "print(f\"RMSE: {round(rmse_hgb/ (60*60))} hours  = {round(rmse_hgb / (60*60*24))} days\") # get difference in hours instead of seconds\n"
   ]
  },
  {
   "cell_type": "code",
   "execution_count": 22,
   "metadata": {},
   "outputs": [
    {
     "name": "stdout",
     "output_type": "stream",
     "text": [
      "KNeighborsRegressor\n",
      "R^2: 0.799\n",
      "MAE: 46 hours  = 2 days\n",
      "RMSE: 229 hours  = 10 days\n"
     ]
    }
   ],
   "source": [
    "with open(f'data/y_preds_KNeighborsRegressor(n_jobs=-1).pkl', 'rb') as file:\n",
    "      y_preds_knn = pickle.load(file)\n",
    "\n",
    "mae_knn, rmse_knn, r2 = get_mae_rmse(y_test,y_preds_knn)\n",
    "\n",
    "print('KNeighborsRegressor')\n",
    "print(f'R^2: {round(r2,3)}')\n",
    "print(f\"MAE: {round(mae_knn/ (60*60))} hours  = {round(mae_knn / (60*60*24))} days\") # get difference in hours instead of seconds\n",
    "print(f\"RMSE: {round(rmse_knn/ (60*60))} hours  = {round(rmse_knn / (60*60*24))} days\") # get difference in hours instead of seconds\n"
   ]
  },
  {
   "cell_type": "code",
   "execution_count": 23,
   "metadata": {},
   "outputs": [
    {
     "name": "stdout",
     "output_type": "stream",
     "text": [
      "BaggingRegressor()\n",
      "R^2: 0.858\n",
      "MAE: 38 hours  = 2 days\n",
      "RMSE: 192 hours  = 8 days\n"
     ]
    }
   ],
   "source": [
    "with open(f'data/y_preds_BaggingRegressor().pkl', 'rb') as file:\n",
    "      y_preds_bgr = pickle.load(file)\n",
    "\n",
    "mae_bgr, rmse_bgr, r2 = get_mae_rmse(y_test,y_preds_bgr)\n",
    "\n",
    "print('BaggingRegressor()')\n",
    "print(f'R^2: {round(r2,3)}')\n",
    "print(f\"MAE: {round(mae_bgr/ (60*60))} hours  = {round(mae_bgr / (60*60*24))} days\") # get difference in hours instead of seconds\n",
    "print(f\"RMSE: {round(rmse_bgr/ (60*60))} hours  = {round(rmse_bgr / (60*60*24))} days\") # get difference in hours instead of seconds\n"
   ]
  }
 ],
 "metadata": {
  "kernelspec": {
   "display_name": "Python 3.10.4 ('venv': venv)",
   "language": "python",
   "name": "python3"
  },
  "language_info": {
   "codemirror_mode": {
    "name": "ipython",
    "version": 3
   },
   "file_extension": ".py",
   "mimetype": "text/x-python",
   "name": "python",
   "nbconvert_exporter": "python",
   "pygments_lexer": "ipython3",
   "version": "3.10.4"
  },
  "orig_nbformat": 4,
  "vscode": {
   "interpreter": {
    "hash": "d58c946d523da25b67c9c710fb95a4d23a654dcfdb423986d06f0a6f7387888f"
   }
  }
 },
 "nbformat": 4,
 "nbformat_minor": 2
}
